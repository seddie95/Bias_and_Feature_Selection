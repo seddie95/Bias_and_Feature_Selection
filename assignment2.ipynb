{
 "cells": [
  {
   "cell_type": "code",
   "execution_count": 2,
   "metadata": {},
   "outputs": [
    {
     "name": "stderr",
     "output_type": "stream",
     "text": [
      "c:\\users\\sed\\anaconda3\\envs\\comp47750\\lib\\site-packages\\numpy\\_distributor_init.py:32: UserWarning: loaded more than 1 DLL from .libs:\n",
      "c:\\users\\sed\\anaconda3\\envs\\comp47750\\lib\\site-packages\\numpy\\.libs\\libopenblas.NOIJJG62EMASZI6NYURL6JBKM4EVBGM7.gfortran-win_amd64.dll\n",
      "c:\\users\\sed\\anaconda3\\envs\\comp47750\\lib\\site-packages\\numpy\\.libs\\libopenblas.PYQHXLVVQ7VESDPUVUADXEVJOBGHJPAY.gfortran-win_amd64.dll\n",
      "  stacklevel=1)\n"
     ]
    },
    {
     "data": {
      "application/javascript": [
       "\n",
       "            setTimeout(function() {\n",
       "                var nbb_cell_id = 2;\n",
       "                var nbb_unformatted_code = \"import pandas as pd\\nimport numpy as np\\nfrom sklearn.tree import DecisionTreeClassifier\\nfrom sklearn.model_selection import train_test_split\\nfrom sklearn.linear_model import LogisticRegression\\nfrom sklearn.model_selection import cross_val_score, KFold\\nfrom imblearn.under_sampling import NearMiss\\nfrom imblearn.over_sampling import SMOTE, ADASYN\\nimport matplotlib.pyplot as plt\\nfrom sklearn.ensemble import (\\n    GradientBoostingClassifier,\\n    AdaBoostClassifier,\\n    RandomForestClassifier,\\n    BaggingClassifier,\\n)\\nfrom imblearn.pipeline import Pipeline\\nfrom sklearn.neighbors import KNeighborsClassifier\\nfrom sklearn.metrics import (\\n    accuracy_score,\\n    confusion_matrix,\\n    classification_report,\\n    balanced_accuracy_score,\\n    f1_score,\\n    precision_score,\\n    recall_score,\\n)\\nfrom mlxtend.feature_selection import SequentialFeatureSelector as SFS\\nfrom sklearn.feature_selection import SelectKBest, mutual_info_classif\";\n",
       "                var nbb_formatted_code = \"import pandas as pd\\nimport numpy as np\\nfrom sklearn.tree import DecisionTreeClassifier\\nfrom sklearn.model_selection import train_test_split\\nfrom sklearn.linear_model import LogisticRegression\\nfrom sklearn.model_selection import cross_val_score, KFold\\nfrom imblearn.under_sampling import NearMiss\\nfrom imblearn.over_sampling import SMOTE, ADASYN\\nimport matplotlib.pyplot as plt\\nfrom sklearn.ensemble import (\\n    GradientBoostingClassifier,\\n    AdaBoostClassifier,\\n    RandomForestClassifier,\\n    BaggingClassifier,\\n)\\nfrom imblearn.pipeline import Pipeline\\nfrom sklearn.neighbors import KNeighborsClassifier\\nfrom sklearn.metrics import (\\n    accuracy_score,\\n    confusion_matrix,\\n    classification_report,\\n    balanced_accuracy_score,\\n    f1_score,\\n    precision_score,\\n    recall_score,\\n)\\nfrom mlxtend.feature_selection import SequentialFeatureSelector as SFS\\nfrom sklearn.feature_selection import SelectKBest, mutual_info_classif\";\n",
       "                var nbb_cells = Jupyter.notebook.get_cells();\n",
       "                for (var i = 0; i < nbb_cells.length; ++i) {\n",
       "                    if (nbb_cells[i].input_prompt_number == nbb_cell_id) {\n",
       "                        if (nbb_cells[i].get_text() == nbb_unformatted_code) {\n",
       "                             nbb_cells[i].set_text(nbb_formatted_code);\n",
       "                        }\n",
       "                        break;\n",
       "                    }\n",
       "                }\n",
       "            }, 500);\n",
       "            "
      ],
      "text/plain": [
       "<IPython.core.display.Javascript object>"
      ]
     },
     "metadata": {},
     "output_type": "display_data"
    }
   ],
   "source": [
    "import pandas as pd\n",
    "import numpy as np\n",
    "from sklearn.tree import DecisionTreeClassifier\n",
    "from sklearn.model_selection import train_test_split\n",
    "from sklearn.linear_model import LogisticRegression\n",
    "from sklearn.model_selection import cross_val_score, KFold\n",
    "from imblearn.under_sampling import NearMiss\n",
    "from imblearn.over_sampling import SMOTE, ADASYN\n",
    "import matplotlib.pyplot as plt\n",
    "from sklearn.ensemble import (\n",
    "    GradientBoostingClassifier,\n",
    "    AdaBoostClassifier,\n",
    "    RandomForestClassifier,\n",
    "    BaggingClassifier,\n",
    ")\n",
    "from imblearn.pipeline import Pipeline\n",
    "from sklearn.neighbors import KNeighborsClassifier\n",
    "from sklearn.metrics import (\n",
    "    accuracy_score,\n",
    "    confusion_matrix,\n",
    "    classification_report,\n",
    "    balanced_accuracy_score,\n",
    "    f1_score,\n",
    "    precision_score,\n",
    "    recall_score,\n",
    ")\n",
    "from mlxtend.feature_selection import SequentialFeatureSelector as SFS\n",
    "from sklearn.feature_selection import SelectKBest, mutual_info_classif"
   ]
  },
  {
   "cell_type": "markdown",
   "metadata": {},
   "source": [
    "# Part 1 Rectifying Bias"
   ]
  },
  {
   "cell_type": "code",
   "execution_count": 3,
   "metadata": {},
   "outputs": [
    {
     "data": {
      "text/html": [
       "<div>\n",
       "<style scoped>\n",
       "    .dataframe tbody tr th:only-of-type {\n",
       "        vertical-align: middle;\n",
       "    }\n",
       "\n",
       "    .dataframe tbody tr th {\n",
       "        vertical-align: top;\n",
       "    }\n",
       "\n",
       "    .dataframe thead th {\n",
       "        text-align: right;\n",
       "    }\n",
       "</style>\n",
       "<table border=\"1\" class=\"dataframe\">\n",
       "  <thead>\n",
       "    <tr style=\"text-align: right;\">\n",
       "      <th></th>\n",
       "      <th>Age</th>\n",
       "      <th>Year</th>\n",
       "      <th>NNodes</th>\n",
       "      <th>Class</th>\n",
       "      <th>Survived</th>\n",
       "    </tr>\n",
       "  </thead>\n",
       "  <tbody>\n",
       "    <tr>\n",
       "      <th>0</th>\n",
       "      <td>30</td>\n",
       "      <td>64</td>\n",
       "      <td>1</td>\n",
       "      <td>1</td>\n",
       "      <td>GE5</td>\n",
       "    </tr>\n",
       "    <tr>\n",
       "      <th>1</th>\n",
       "      <td>30</td>\n",
       "      <td>62</td>\n",
       "      <td>3</td>\n",
       "      <td>1</td>\n",
       "      <td>GE5</td>\n",
       "    </tr>\n",
       "    <tr>\n",
       "      <th>2</th>\n",
       "      <td>30</td>\n",
       "      <td>65</td>\n",
       "      <td>0</td>\n",
       "      <td>1</td>\n",
       "      <td>GE5</td>\n",
       "    </tr>\n",
       "    <tr>\n",
       "      <th>3</th>\n",
       "      <td>31</td>\n",
       "      <td>59</td>\n",
       "      <td>2</td>\n",
       "      <td>1</td>\n",
       "      <td>GE5</td>\n",
       "    </tr>\n",
       "    <tr>\n",
       "      <th>4</th>\n",
       "      <td>31</td>\n",
       "      <td>65</td>\n",
       "      <td>4</td>\n",
       "      <td>1</td>\n",
       "      <td>GE5</td>\n",
       "    </tr>\n",
       "  </tbody>\n",
       "</table>\n",
       "</div>"
      ],
      "text/plain": [
       "   Age  Year  NNodes  Class Survived\n",
       "0   30    64       1      1      GE5\n",
       "1   30    62       3      1      GE5\n",
       "2   30    65       0      1      GE5\n",
       "3   31    59       2      1      GE5\n",
       "4   31    65       4      1      GE5"
      ]
     },
     "execution_count": 3,
     "metadata": {},
     "output_type": "execute_result"
    },
    {
     "data": {
      "application/javascript": [
       "\n",
       "            setTimeout(function() {\n",
       "                var nbb_cell_id = 3;\n",
       "                var nbb_unformatted_code = \"surv = pd.read_csv(\\\"survival.csv\\\")\\nsurv[\\\"Survived\\\"] = \\\"GE5\\\"\\nsurv.loc[surv[\\\"Class\\\"] == 2, \\\"Survived\\\"] = \\\"L5\\\"\\nsurv.head()\";\n",
       "                var nbb_formatted_code = \"surv = pd.read_csv(\\\"survival.csv\\\")\\nsurv[\\\"Survived\\\"] = \\\"GE5\\\"\\nsurv.loc[surv[\\\"Class\\\"] == 2, \\\"Survived\\\"] = \\\"L5\\\"\\nsurv.head()\";\n",
       "                var nbb_cells = Jupyter.notebook.get_cells();\n",
       "                for (var i = 0; i < nbb_cells.length; ++i) {\n",
       "                    if (nbb_cells[i].input_prompt_number == nbb_cell_id) {\n",
       "                        if (nbb_cells[i].get_text() == nbb_unformatted_code) {\n",
       "                             nbb_cells[i].set_text(nbb_formatted_code);\n",
       "                        }\n",
       "                        break;\n",
       "                    }\n",
       "                }\n",
       "            }, 500);\n",
       "            "
      ],
      "text/plain": [
       "<IPython.core.display.Javascript object>"
      ]
     },
     "metadata": {},
     "output_type": "display_data"
    }
   ],
   "source": [
    "surv = pd.read_csv(\"survival.csv\")\n",
    "surv[\"Survived\"] = \"GE5\"\n",
    "surv.loc[surv[\"Class\"] == 2, \"Survived\"] = \"L5\"\n",
    "surv.head()"
   ]
  },
  {
   "cell_type": "code",
   "execution_count": 4,
   "metadata": {},
   "outputs": [
    {
     "data": {
      "text/plain": [
       "GE5    225\n",
       "L5      81\n",
       "Name: Survived, dtype: int64"
      ]
     },
     "execution_count": 4,
     "metadata": {},
     "output_type": "execute_result"
    },
    {
     "data": {
      "application/javascript": [
       "\n",
       "            setTimeout(function() {\n",
       "                var nbb_cell_id = 4;\n",
       "                var nbb_unformatted_code = \"surv[\\\"Survived\\\"].value_counts()\";\n",
       "                var nbb_formatted_code = \"surv[\\\"Survived\\\"].value_counts()\";\n",
       "                var nbb_cells = Jupyter.notebook.get_cells();\n",
       "                for (var i = 0; i < nbb_cells.length; ++i) {\n",
       "                    if (nbb_cells[i].input_prompt_number == nbb_cell_id) {\n",
       "                        if (nbb_cells[i].get_text() == nbb_unformatted_code) {\n",
       "                             nbb_cells[i].set_text(nbb_formatted_code);\n",
       "                        }\n",
       "                        break;\n",
       "                    }\n",
       "                }\n",
       "            }, 500);\n",
       "            "
      ],
      "text/plain": [
       "<IPython.core.display.Javascript object>"
      ]
     },
     "metadata": {},
     "output_type": "display_data"
    }
   ],
   "source": [
    "surv[\"Survived\"].value_counts()"
   ]
  },
  {
   "cell_type": "code",
   "execution_count": 5,
   "metadata": {},
   "outputs": [
    {
     "data": {
      "text/plain": [
       "((306, 3), (306,))"
      ]
     },
     "execution_count": 5,
     "metadata": {},
     "output_type": "execute_result"
    },
    {
     "data": {
      "application/javascript": [
       "\n",
       "            setTimeout(function() {\n",
       "                var nbb_cell_id = 5;\n",
       "                var nbb_unformatted_code = \"y = surv.pop(\\\"Survived\\\").values\\nsurv.pop(\\\"Class\\\")\\nap_features = surv.columns\\nX = surv.values\\nX.shape, y.shape\";\n",
       "                var nbb_formatted_code = \"y = surv.pop(\\\"Survived\\\").values\\nsurv.pop(\\\"Class\\\")\\nap_features = surv.columns\\nX = surv.values\\nX.shape, y.shape\";\n",
       "                var nbb_cells = Jupyter.notebook.get_cells();\n",
       "                for (var i = 0; i < nbb_cells.length; ++i) {\n",
       "                    if (nbb_cells[i].input_prompt_number == nbb_cell_id) {\n",
       "                        if (nbb_cells[i].get_text() == nbb_unformatted_code) {\n",
       "                             nbb_cells[i].set_text(nbb_formatted_code);\n",
       "                        }\n",
       "                        break;\n",
       "                    }\n",
       "                }\n",
       "            }, 500);\n",
       "            "
      ],
      "text/plain": [
       "<IPython.core.display.Javascript object>"
      ]
     },
     "metadata": {},
     "output_type": "display_data"
    }
   ],
   "source": [
    "y = surv.pop(\"Survived\").values\n",
    "surv.pop(\"Class\")\n",
    "ap_features = surv.columns\n",
    "X = surv.values\n",
    "X.shape, y.shape"
   ]
  },
  {
   "cell_type": "markdown",
   "metadata": {},
   "source": [
    "## 1.1 Hold-Out Evalauation of Rectifying Strategy\n",
    "In the below section Hold out testing will be conducted on the imbalanced data utilising the rectifying strategy of SMOTE. To ensure that a broad range of results are attained with differnt random sample it will be run 100 times. Each time the data will be split into train test and the training data will then be Upsampled using the SMOTE Technique. The Resampled data will then be used to train and predict the X_test data."
   ]
  },
  {
   "cell_type": "code",
   "execution_count": 6,
   "metadata": {},
   "outputs": [
    {
     "data": {
      "application/javascript": [
       "\n",
       "            setTimeout(function() {\n",
       "                var nbb_cell_id = 6;\n",
       "                var nbb_unformatted_code = \"reps = 100\\n\\n\\ndef hold_out_resample(X, y, model, resample, reps=100):\\n    ho_ba = []\\n    ho_acc = []\\n    f1_true = []\\n    f1_neg = []\\n    precision_true = []\\n    precision_neg = []\\n    recall_true = []\\n    recall_neg = []\\n    for i in range(reps):\\n        # Train test split the data\\n        X_train, X_test, y_train, y_test = train_test_split(X, y, random_state=i)\\n\\n        # Resample the training data\\n        X_resampled_nm1, y_resampled_nm1 = resample.fit_resample(X_train, y_train)\\n\\n        # Train using resampled data and Predict using the original test data\\n        y_pred = model.fit(X_resampled_nm1, y_resampled_nm1).predict(X_test)\\n\\n        # Obtain Balanced Accuracy\\n        bal_acc = balanced_accuracy_score(y_test, y_pred)\\n        ho_ba.append(bal_acc)\\n\\n        # Obtain Accuracy\\n        acc = accuracy_score(y_test, y_pred)\\n        ho_acc.append(acc)\\n\\n        # Obtain Precision\\n        pr_t = precision_score(y_test, y_pred, pos_label=\\\"L5\\\", average=\\\"binary\\\")\\n        precision_true.append(pr_t)\\n\\n        pr_n = precision_score(y_test, y_pred, pos_label=\\\"GE5\\\", average=\\\"binary\\\")\\n        recall_neg.append(pr_n)\\n\\n        # Obtain Recall\\n        rec_t = recall_score(y_test, y_pred, pos_label=\\\"L5\\\", average=\\\"binary\\\")\\n        recall_true.append(rec_t)\\n\\n        rec_n = recall_score(y_test, y_pred, pos_label=\\\"GE5\\\", average=\\\"binary\\\")\\n        precision_neg.append(rec_n)\\n\\n        # Obtain f1-score\\n        f1_t = f1_score(y_test, y_pred, pos_label=\\\"L5\\\", average=\\\"binary\\\")\\n        f1_true.append(f1_t)\\n\\n        f1_n = f1_score(y_test, y_pred, pos_label=\\\"GE5\\\", average=\\\"binary\\\")\\n        f1_neg.append(f1_n)\\n\\n    # Print out the Mean statistics\\n    print(f\\\"========= Statistics for {model.__class__.__name__} =========\\\")\\n    print(\\\"Mean Hold Out Accuracy: %0.2f \\\" % (sum(ho_acc) / reps))\\n    print(\\\"Mean Hold Out Balanced Accuracy: %0.2f \\\" % (sum(ho_ba) / reps))\\n    print(\\\"-------------------------------------------------------\\\")\\n\\n    print(\\\"Mean Hold Out f1-score Positive: %0.2f \\\" % (sum(f1_true) / reps))\\n    print(\\\"Mean Hold Out f1-score Negative: %0.2f \\\" % (sum(f1_neg) / reps))\\n\\n    print(\\\"-------------------------------------------------------\\\")\\n    print(\\\"Mean Hold Out Precision Positive: %0.2f \\\" % (sum(precision_true) / reps))\\n    print(\\\"Mean Hold Out Precision Negative: %0.2f \\\" % (sum(precision_neg) / reps))\\n\\n    print(\\\"-------------------------------------------------------\\\")\\n    print(\\\"Mean Hold Out Recall Positive: %0.2f \\\" % (sum(recall_true) / reps))\\n    print(\\\"Mean Hold Out Recall Negative: %0.2f \\\" % (sum(recall_neg) / reps))\\n    print(\\\"========================================================\\\")\\n\\n    return ho_ba, ho_acc\";\n",
       "                var nbb_formatted_code = \"reps = 100\\n\\n\\ndef hold_out_resample(X, y, model, resample, reps=100):\\n    ho_ba = []\\n    ho_acc = []\\n    f1_true = []\\n    f1_neg = []\\n    precision_true = []\\n    precision_neg = []\\n    recall_true = []\\n    recall_neg = []\\n    for i in range(reps):\\n        # Train test split the data\\n        X_train, X_test, y_train, y_test = train_test_split(X, y, random_state=i)\\n\\n        # Resample the training data\\n        X_resampled_nm1, y_resampled_nm1 = resample.fit_resample(X_train, y_train)\\n\\n        # Train using resampled data and Predict using the original test data\\n        y_pred = model.fit(X_resampled_nm1, y_resampled_nm1).predict(X_test)\\n\\n        # Obtain Balanced Accuracy\\n        bal_acc = balanced_accuracy_score(y_test, y_pred)\\n        ho_ba.append(bal_acc)\\n\\n        # Obtain Accuracy\\n        acc = accuracy_score(y_test, y_pred)\\n        ho_acc.append(acc)\\n\\n        # Obtain Precision\\n        pr_t = precision_score(y_test, y_pred, pos_label=\\\"L5\\\", average=\\\"binary\\\")\\n        precision_true.append(pr_t)\\n\\n        pr_n = precision_score(y_test, y_pred, pos_label=\\\"GE5\\\", average=\\\"binary\\\")\\n        recall_neg.append(pr_n)\\n\\n        # Obtain Recall\\n        rec_t = recall_score(y_test, y_pred, pos_label=\\\"L5\\\", average=\\\"binary\\\")\\n        recall_true.append(rec_t)\\n\\n        rec_n = recall_score(y_test, y_pred, pos_label=\\\"GE5\\\", average=\\\"binary\\\")\\n        precision_neg.append(rec_n)\\n\\n        # Obtain f1-score\\n        f1_t = f1_score(y_test, y_pred, pos_label=\\\"L5\\\", average=\\\"binary\\\")\\n        f1_true.append(f1_t)\\n\\n        f1_n = f1_score(y_test, y_pred, pos_label=\\\"GE5\\\", average=\\\"binary\\\")\\n        f1_neg.append(f1_n)\\n\\n    # Print out the Mean statistics\\n    print(f\\\"========= Statistics for {model.__class__.__name__} =========\\\")\\n    print(\\\"Mean Hold Out Accuracy: %0.2f \\\" % (sum(ho_acc) / reps))\\n    print(\\\"Mean Hold Out Balanced Accuracy: %0.2f \\\" % (sum(ho_ba) / reps))\\n    print(\\\"-------------------------------------------------------\\\")\\n\\n    print(\\\"Mean Hold Out f1-score Positive: %0.2f \\\" % (sum(f1_true) / reps))\\n    print(\\\"Mean Hold Out f1-score Negative: %0.2f \\\" % (sum(f1_neg) / reps))\\n\\n    print(\\\"-------------------------------------------------------\\\")\\n    print(\\\"Mean Hold Out Precision Positive: %0.2f \\\" % (sum(precision_true) / reps))\\n    print(\\\"Mean Hold Out Precision Negative: %0.2f \\\" % (sum(precision_neg) / reps))\\n\\n    print(\\\"-------------------------------------------------------\\\")\\n    print(\\\"Mean Hold Out Recall Positive: %0.2f \\\" % (sum(recall_true) / reps))\\n    print(\\\"Mean Hold Out Recall Negative: %0.2f \\\" % (sum(recall_neg) / reps))\\n    print(\\\"========================================================\\\")\\n\\n    return ho_ba, ho_acc\";\n",
       "                var nbb_cells = Jupyter.notebook.get_cells();\n",
       "                for (var i = 0; i < nbb_cells.length; ++i) {\n",
       "                    if (nbb_cells[i].input_prompt_number == nbb_cell_id) {\n",
       "                        if (nbb_cells[i].get_text() == nbb_unformatted_code) {\n",
       "                             nbb_cells[i].set_text(nbb_formatted_code);\n",
       "                        }\n",
       "                        break;\n",
       "                    }\n",
       "                }\n",
       "            }, 500);\n",
       "            "
      ],
      "text/plain": [
       "<IPython.core.display.Javascript object>"
      ]
     },
     "metadata": {},
     "output_type": "display_data"
    }
   ],
   "source": [
    "reps = 100\n",
    "\n",
    "\n",
    "def hold_out_resample(X, y, model, resample, reps=100):\n",
    "    ho_ba = []\n",
    "    ho_acc = []\n",
    "    f1_true = []\n",
    "    f1_neg = []\n",
    "    precision_true = []\n",
    "    precision_neg = []\n",
    "    recall_true = []\n",
    "    recall_neg = []\n",
    "    for i in range(reps):\n",
    "        # Train test split the data\n",
    "        X_train, X_test, y_train, y_test = train_test_split(X, y, random_state=i)\n",
    "\n",
    "        # Resample the training data\n",
    "        X_resampled_nm1, y_resampled_nm1 = resample.fit_resample(X_train, y_train)\n",
    "\n",
    "        # Train using resampled data and Predict using the original test data\n",
    "        y_pred = model.fit(X_resampled_nm1, y_resampled_nm1).predict(X_test)\n",
    "\n",
    "        # Obtain Balanced Accuracy\n",
    "        bal_acc = balanced_accuracy_score(y_test, y_pred)\n",
    "        ho_ba.append(bal_acc)\n",
    "\n",
    "        # Obtain Accuracy\n",
    "        acc = accuracy_score(y_test, y_pred)\n",
    "        ho_acc.append(acc)\n",
    "\n",
    "        # Obtain Precision\n",
    "        pr_t = precision_score(y_test, y_pred, pos_label=\"L5\", average=\"binary\")\n",
    "        precision_true.append(pr_t)\n",
    "\n",
    "        pr_n = precision_score(y_test, y_pred, pos_label=\"GE5\", average=\"binary\")\n",
    "        recall_neg.append(pr_n)\n",
    "\n",
    "        # Obtain Recall\n",
    "        rec_t = recall_score(y_test, y_pred, pos_label=\"L5\", average=\"binary\")\n",
    "        recall_true.append(rec_t)\n",
    "\n",
    "        rec_n = recall_score(y_test, y_pred, pos_label=\"GE5\", average=\"binary\")\n",
    "        precision_neg.append(rec_n)\n",
    "\n",
    "        # Obtain f1-score\n",
    "        f1_t = f1_score(y_test, y_pred, pos_label=\"L5\", average=\"binary\")\n",
    "        f1_true.append(f1_t)\n",
    "\n",
    "        f1_n = f1_score(y_test, y_pred, pos_label=\"GE5\", average=\"binary\")\n",
    "        f1_neg.append(f1_n)\n",
    "\n",
    "    # Print out the Mean statistics\n",
    "    print(f\"========= Statistics for {model.__class__.__name__} =========\")\n",
    "    print(\"Mean Hold Out Accuracy: %0.2f \" % (sum(ho_acc) / reps))\n",
    "    print(\"Mean Hold Out Balanced Accuracy: %0.2f \" % (sum(ho_ba) / reps))\n",
    "    print(\"-------------------------------------------------------\")\n",
    "\n",
    "    print(\"Mean Hold Out f1-score Positive: %0.2f \" % (sum(f1_true) / reps))\n",
    "    print(\"Mean Hold Out f1-score Negative: %0.2f \" % (sum(f1_neg) / reps))\n",
    "\n",
    "    print(\"-------------------------------------------------------\")\n",
    "    print(\"Mean Hold Out Precision Positive: %0.2f \" % (sum(precision_true) / reps))\n",
    "    print(\"Mean Hold Out Precision Negative: %0.2f \" % (sum(precision_neg) / reps))\n",
    "\n",
    "    print(\"-------------------------------------------------------\")\n",
    "    print(\"Mean Hold Out Recall Positive: %0.2f \" % (sum(recall_true) / reps))\n",
    "    print(\"Mean Hold Out Recall Negative: %0.2f \" % (sum(recall_neg) / reps))\n",
    "    print(\"========================================================\")\n",
    "\n",
    "    return ho_ba, ho_acc"
   ]
  },
  {
   "cell_type": "markdown",
   "metadata": {},
   "source": [
    "### 1.1.1 SMOTE kNN"
   ]
  },
  {
   "cell_type": "code",
   "execution_count": 7,
   "metadata": {},
   "outputs": [
    {
     "data": {
      "application/javascript": [
       "\n",
       "            setTimeout(function() {\n",
       "                var nbb_cell_id = 7;\n",
       "                var nbb_unformatted_code = \"smote = SMOTE(k_neighbors=3, sampling_strategy=0.5, random_state=42)\";\n",
       "                var nbb_formatted_code = \"smote = SMOTE(k_neighbors=3, sampling_strategy=0.5, random_state=42)\";\n",
       "                var nbb_cells = Jupyter.notebook.get_cells();\n",
       "                for (var i = 0; i < nbb_cells.length; ++i) {\n",
       "                    if (nbb_cells[i].input_prompt_number == nbb_cell_id) {\n",
       "                        if (nbb_cells[i].get_text() == nbb_unformatted_code) {\n",
       "                             nbb_cells[i].set_text(nbb_formatted_code);\n",
       "                        }\n",
       "                        break;\n",
       "                    }\n",
       "                }\n",
       "            }, 500);\n",
       "            "
      ],
      "text/plain": [
       "<IPython.core.display.Javascript object>"
      ]
     },
     "metadata": {},
     "output_type": "display_data"
    }
   ],
   "source": [
    "smote = SMOTE(k_neighbors=3, sampling_strategy=0.5, random_state=42)"
   ]
  },
  {
   "cell_type": "code",
   "execution_count": 8,
   "metadata": {},
   "outputs": [
    {
     "name": "stdout",
     "output_type": "stream",
     "text": [
      "========= Statistics for KNeighborsClassifier =========\n",
      "Mean Hold Out Accuracy: 0.68 \n",
      "Mean Hold Out Balanced Accuracy: 0.58 \n",
      "-------------------------------------------------------\n",
      "Mean Hold Out f1-score Positive: 0.37 \n",
      "Mean Hold Out f1-score Negative: 0.78 \n",
      "-------------------------------------------------------\n",
      "Mean Hold Out Precision Positive: 0.39 \n",
      "Mean Hold Out Precision Negative: 0.80 \n",
      "-------------------------------------------------------\n",
      "Mean Hold Out Recall Positive: 0.36 \n",
      "Mean Hold Out Recall Negative: 0.77 \n",
      "========================================================\n"
     ]
    },
    {
     "data": {
      "application/javascript": [
       "\n",
       "            setTimeout(function() {\n",
       "                var nbb_cell_id = 8;\n",
       "                var nbb_unformatted_code = \"kNN = KNeighborsClassifier(n_neighbors=3)\\nknn_ho_ba, knn_ho_acc = hold_out_resample(X, y, kNN, smote)\";\n",
       "                var nbb_formatted_code = \"kNN = KNeighborsClassifier(n_neighbors=3)\\nknn_ho_ba, knn_ho_acc = hold_out_resample(X, y, kNN, smote)\";\n",
       "                var nbb_cells = Jupyter.notebook.get_cells();\n",
       "                for (var i = 0; i < nbb_cells.length; ++i) {\n",
       "                    if (nbb_cells[i].input_prompt_number == nbb_cell_id) {\n",
       "                        if (nbb_cells[i].get_text() == nbb_unformatted_code) {\n",
       "                             nbb_cells[i].set_text(nbb_formatted_code);\n",
       "                        }\n",
       "                        break;\n",
       "                    }\n",
       "                }\n",
       "            }, 500);\n",
       "            "
      ],
      "text/plain": [
       "<IPython.core.display.Javascript object>"
      ]
     },
     "metadata": {},
     "output_type": "display_data"
    }
   ],
   "source": [
    "kNN = KNeighborsClassifier(n_neighbors=3)\n",
    "knn_ho_ba, knn_ho_acc = hold_out_resample(X, y, kNN, smote)"
   ]
  },
  {
   "cell_type": "code",
   "execution_count": 9,
   "metadata": {},
   "outputs": [
    {
     "data": {
      "text/plain": [
       "Text(0.5, 1.0, 'Balanced Accuracy: Hold Out')"
      ]
     },
     "execution_count": 9,
     "metadata": {},
     "output_type": "execute_result"
    },
    {
     "data": {
      "image/png": "[encoded data removed]",
      "text/plain": [
       "<Figure size 432x288 with 1 Axes>"
      ]
     },
     "metadata": {
      "needs_background": "light"
     },
     "output_type": "display_data"
    },
    {
     "data": {
      "application/javascript": [
       "\n",
       "            setTimeout(function() {\n",
       "                var nbb_cell_id = 9;\n",
       "                var nbb_unformatted_code = \"res = pd.DataFrame(knn_ho_ba, columns=[\\\"Hold Out\\\"])\\n%matplotlib inline\\nax = res.plot()\\nax.set_xlabel(\\\"Iteration\\\")\\nax.set_ylabel(\\\"Balanced Accuracy\\\")\\nax.set_title(\\\"Balanced Accuracy: Hold Out\\\")\";\n",
       "                var nbb_formatted_code = \"res = pd.DataFrame(knn_ho_ba, columns=[\\\"Hold Out\\\"])\\n%matplotlib inline\\nax = res.plot()\\nax.set_xlabel(\\\"Iteration\\\")\\nax.set_ylabel(\\\"Balanced Accuracy\\\")\\nax.set_title(\\\"Balanced Accuracy: Hold Out\\\")\";\n",
       "                var nbb_cells = Jupyter.notebook.get_cells();\n",
       "                for (var i = 0; i < nbb_cells.length; ++i) {\n",
       "                    if (nbb_cells[i].input_prompt_number == nbb_cell_id) {\n",
       "                        if (nbb_cells[i].get_text() == nbb_unformatted_code) {\n",
       "                             nbb_cells[i].set_text(nbb_formatted_code);\n",
       "                        }\n",
       "                        break;\n",
       "                    }\n",
       "                }\n",
       "            }, 500);\n",
       "            "
      ],
      "text/plain": [
       "<IPython.core.display.Javascript object>"
      ]
     },
     "metadata": {},
     "output_type": "display_data"
    }
   ],
   "source": [
    "res = pd.DataFrame(knn_ho_ba, columns=[\"Hold Out\"])\n",
    "%matplotlib inline\n",
    "ax = res.plot()\n",
    "ax.set_xlabel(\"Iteration\")\n",
    "ax.set_ylabel(\"Balanced Accuracy\")\n",
    "ax.set_title(\"Balanced Accuracy: Hold Out\")"
   ]
  },
  {
   "cell_type": "markdown",
   "metadata": {},
   "source": [
    "### 1.1.2 SMOTE Decision Tree"
   ]
  },
  {
   "cell_type": "code",
   "execution_count": 10,
   "metadata": {},
   "outputs": [
    {
     "name": "stdout",
     "output_type": "stream",
     "text": [
      "========= Statistics for DecisionTreeClassifier =========\n",
      "Mean Hold Out Accuracy: 0.72 \n",
      "Mean Hold Out Balanced Accuracy: 0.61 \n",
      "-------------------------------------------------------\n",
      "Mean Hold Out f1-score Positive: 0.40 \n",
      "Mean Hold Out f1-score Negative: 0.81 \n",
      "-------------------------------------------------------\n",
      "Mean Hold Out Precision Positive: 0.48 \n",
      "Mean Hold Out Precision Negative: 0.85 \n",
      "-------------------------------------------------------\n",
      "Mean Hold Out Recall Positive: 0.37 \n",
      "Mean Hold Out Recall Negative: 0.79 \n",
      "========================================================\n"
     ]
    },
    {
     "data": {
      "application/javascript": [
       "\n",
       "            setTimeout(function() {\n",
       "                var nbb_cell_id = 10;\n",
       "                var nbb_unformatted_code = \"tree = DecisionTreeClassifier(criterion=\\\"entropy\\\", max_depth=3)\\ndt_ho_ba, dt_ho_acc = hold_out_resample(X, y, tree, smote)\";\n",
       "                var nbb_formatted_code = \"tree = DecisionTreeClassifier(criterion=\\\"entropy\\\", max_depth=3)\\ndt_ho_ba, dt_ho_acc = hold_out_resample(X, y, tree, smote)\";\n",
       "                var nbb_cells = Jupyter.notebook.get_cells();\n",
       "                for (var i = 0; i < nbb_cells.length; ++i) {\n",
       "                    if (nbb_cells[i].input_prompt_number == nbb_cell_id) {\n",
       "                        if (nbb_cells[i].get_text() == nbb_unformatted_code) {\n",
       "                             nbb_cells[i].set_text(nbb_formatted_code);\n",
       "                        }\n",
       "                        break;\n",
       "                    }\n",
       "                }\n",
       "            }, 500);\n",
       "            "
      ],
      "text/plain": [
       "<IPython.core.display.Javascript object>"
      ]
     },
     "metadata": {},
     "output_type": "display_data"
    }
   ],
   "source": [
    "tree = DecisionTreeClassifier(criterion=\"entropy\", max_depth=3)\n",
    "dt_ho_ba, dt_ho_acc = hold_out_resample(X, y, tree, smote)"
   ]
  },
  {
   "cell_type": "code",
   "execution_count": 11,
   "metadata": {},
   "outputs": [
    {
     "data": {
      "text/plain": [
       "Text(0.5, 1.0, 'Balanced Accuracy: Hold Out')"
      ]
     },
     "execution_count": 11,
     "metadata": {},
     "output_type": "execute_result"
    },
    {
     "data": {
      "image/png": "[encoded data removed]",
      "text/plain": [
       "<Figure size 432x288 with 1 Axes>"
      ]
     },
     "metadata": {
      "needs_background": "light"
     },
     "output_type": "display_data"
    },
    {
     "data": {
      "application/javascript": [
       "\n",
       "            setTimeout(function() {\n",
       "                var nbb_cell_id = 11;\n",
       "                var nbb_unformatted_code = \"res = pd.DataFrame(dt_ho_ba, columns=[\\\"Hold Out\\\"])\\n%matplotlib inline\\nax = res.plot()\\nax.set_xlabel(\\\"Iteration\\\")\\nax.set_ylabel(\\\"Balanced Accuracy\\\")\\nax.set_title(\\\"Balanced Accuracy: Hold Out\\\")\";\n",
       "                var nbb_formatted_code = \"res = pd.DataFrame(dt_ho_ba, columns=[\\\"Hold Out\\\"])\\n%matplotlib inline\\nax = res.plot()\\nax.set_xlabel(\\\"Iteration\\\")\\nax.set_ylabel(\\\"Balanced Accuracy\\\")\\nax.set_title(\\\"Balanced Accuracy: Hold Out\\\")\";\n",
       "                var nbb_cells = Jupyter.notebook.get_cells();\n",
       "                for (var i = 0; i < nbb_cells.length; ++i) {\n",
       "                    if (nbb_cells[i].input_prompt_number == nbb_cell_id) {\n",
       "                        if (nbb_cells[i].get_text() == nbb_unformatted_code) {\n",
       "                             nbb_cells[i].set_text(nbb_formatted_code);\n",
       "                        }\n",
       "                        break;\n",
       "                    }\n",
       "                }\n",
       "            }, 500);\n",
       "            "
      ],
      "text/plain": [
       "<IPython.core.display.Javascript object>"
      ]
     },
     "metadata": {},
     "output_type": "display_data"
    }
   ],
   "source": [
    "res = pd.DataFrame(dt_ho_ba, columns=[\"Hold Out\"])\n",
    "%matplotlib inline\n",
    "ax = res.plot()\n",
    "ax.set_xlabel(\"Iteration\")\n",
    "ax.set_ylabel(\"Balanced Accuracy\")\n",
    "ax.set_title(\"Balanced Accuracy: Hold Out\")"
   ]
  },
  {
   "cell_type": "markdown",
   "metadata": {},
   "source": [
    "### 1.1.3 SMOTE Logistic Regression"
   ]
  },
  {
   "cell_type": "code",
   "execution_count": 12,
   "metadata": {},
   "outputs": [
    {
     "name": "stdout",
     "output_type": "stream",
     "text": [
      "========= Statistics for LogisticRegression =========\n",
      "Mean Hold Out Accuracy: 0.75 \n",
      "Mean Hold Out Balanced Accuracy: 0.59 \n",
      "-------------------------------------------------------\n",
      "Mean Hold Out f1-score Positive: 0.33 \n",
      "Mean Hold Out f1-score Negative: 0.84 \n",
      "-------------------------------------------------------\n",
      "Mean Hold Out Precision Positive: 0.58 \n",
      "Mean Hold Out Precision Negative: 0.93 \n",
      "-------------------------------------------------------\n",
      "Mean Hold Out Recall Positive: 0.24 \n",
      "Mean Hold Out Recall Negative: 0.77 \n",
      "========================================================\n"
     ]
    },
    {
     "data": {
      "application/javascript": [
       "\n",
       "            setTimeout(function() {\n",
       "                var nbb_cell_id = 12;\n",
       "                var nbb_unformatted_code = \"logistic_reg = LogisticRegression(max_iter=4000)\\nlr_ho_ba, lr_ho_acc = hold_out_resample(X, y, logistic_reg, smote)\";\n",
       "                var nbb_formatted_code = \"logistic_reg = LogisticRegression(max_iter=4000)\\nlr_ho_ba, lr_ho_acc = hold_out_resample(X, y, logistic_reg, smote)\";\n",
       "                var nbb_cells = Jupyter.notebook.get_cells();\n",
       "                for (var i = 0; i < nbb_cells.length; ++i) {\n",
       "                    if (nbb_cells[i].input_prompt_number == nbb_cell_id) {\n",
       "                        if (nbb_cells[i].get_text() == nbb_unformatted_code) {\n",
       "                             nbb_cells[i].set_text(nbb_formatted_code);\n",
       "                        }\n",
       "                        break;\n",
       "                    }\n",
       "                }\n",
       "            }, 500);\n",
       "            "
      ],
      "text/plain": [
       "<IPython.core.display.Javascript object>"
      ]
     },
     "metadata": {},
     "output_type": "display_data"
    }
   ],
   "source": [
    "logistic_reg = LogisticRegression(max_iter=4000)\n",
    "lr_ho_ba, lr_ho_acc = hold_out_resample(X, y, logistic_reg, smote)"
   ]
  },
  {
   "cell_type": "code",
   "execution_count": 13,
   "metadata": {},
   "outputs": [
    {
     "data": {
      "text/plain": [
       "Text(0.5, 1.0, 'Balanced Accuracy: Hold Out')"
      ]
     },
     "execution_count": 13,
     "metadata": {},
     "output_type": "execute_result"
    },
    {
     "data": {
      "image/png": "[encoded data removed]",
      "text/plain": [
       "<Figure size 432x288 with 1 Axes>"
      ]
     },
     "metadata": {
      "needs_background": "light"
     },
     "output_type": "display_data"
    },
    {
     "data": {
      "application/javascript": [
       "\n",
       "            setTimeout(function() {\n",
       "                var nbb_cell_id = 13;\n",
       "                var nbb_unformatted_code = \"res = pd.DataFrame(lr_ho_ba, columns=[\\\"Hold Out\\\"])\\n%matplotlib inline\\nax = res.plot()\\nax.set_xlabel(\\\"Iteration\\\")\\nax.set_ylabel(\\\"Balanced Accuracy\\\")\\nax.set_title(\\\"Balanced Accuracy: Hold Out\\\")\";\n",
       "                var nbb_formatted_code = \"res = pd.DataFrame(lr_ho_ba, columns=[\\\"Hold Out\\\"])\\n%matplotlib inline\\nax = res.plot()\\nax.set_xlabel(\\\"Iteration\\\")\\nax.set_ylabel(\\\"Balanced Accuracy\\\")\\nax.set_title(\\\"Balanced Accuracy: Hold Out\\\")\";\n",
       "                var nbb_cells = Jupyter.notebook.get_cells();\n",
       "                for (var i = 0; i < nbb_cells.length; ++i) {\n",
       "                    if (nbb_cells[i].input_prompt_number == nbb_cell_id) {\n",
       "                        if (nbb_cells[i].get_text() == nbb_unformatted_code) {\n",
       "                             nbb_cells[i].set_text(nbb_formatted_code);\n",
       "                        }\n",
       "                        break;\n",
       "                    }\n",
       "                }\n",
       "            }, 500);\n",
       "            "
      ],
      "text/plain": [
       "<IPython.core.display.Javascript object>"
      ]
     },
     "metadata": {},
     "output_type": "display_data"
    }
   ],
   "source": [
    "res = pd.DataFrame(lr_ho_ba, columns=[\"Hold Out\"])\n",
    "%matplotlib inline\n",
    "ax = res.plot()\n",
    "ax.set_xlabel(\"Iteration\")\n",
    "ax.set_ylabel(\"Balanced Accuracy\")\n",
    "ax.set_title(\"Balanced Accuracy: Hold Out\")"
   ]
  },
  {
   "cell_type": "markdown",
   "metadata": {},
   "source": [
    "### 1.1.4 SMOTE Gradient Boosting"
   ]
  },
  {
   "cell_type": "code",
   "execution_count": 14,
   "metadata": {},
   "outputs": [
    {
     "name": "stdout",
     "output_type": "stream",
     "text": [
      "========= Statistics for GradientBoostingClassifier =========\n",
      "Mean Hold Out Accuracy: 0.71 \n",
      "Mean Hold Out Balanced Accuracy: 0.57 \n",
      "-------------------------------------------------------\n",
      "Mean Hold Out f1-score Positive: 0.32 \n",
      "Mean Hold Out f1-score Negative: 0.81 \n",
      "-------------------------------------------------------\n",
      "Mean Hold Out Precision Positive: 0.43 \n",
      "Mean Hold Out Precision Negative: 0.87 \n",
      "-------------------------------------------------------\n",
      "Mean Hold Out Recall Positive: 0.27 \n",
      "Mean Hold Out Recall Negative: 0.77 \n",
      "========================================================\n"
     ]
    },
    {
     "data": {
      "application/javascript": [
       "\n",
       "            setTimeout(function() {\n",
       "                var nbb_cell_id = 14;\n",
       "                var nbb_unformatted_code = \"grad_boost = GradientBoostingClassifier(max_depth=5, n_estimators=10)\\ngb_ho_ba, gb_ho_acc = hold_out_resample(X, y, grad_boost, smote)\";\n",
       "                var nbb_formatted_code = \"grad_boost = GradientBoostingClassifier(max_depth=5, n_estimators=10)\\ngb_ho_ba, gb_ho_acc = hold_out_resample(X, y, grad_boost, smote)\";\n",
       "                var nbb_cells = Jupyter.notebook.get_cells();\n",
       "                for (var i = 0; i < nbb_cells.length; ++i) {\n",
       "                    if (nbb_cells[i].input_prompt_number == nbb_cell_id) {\n",
       "                        if (nbb_cells[i].get_text() == nbb_unformatted_code) {\n",
       "                             nbb_cells[i].set_text(nbb_formatted_code);\n",
       "                        }\n",
       "                        break;\n",
       "                    }\n",
       "                }\n",
       "            }, 500);\n",
       "            "
      ],
      "text/plain": [
       "<IPython.core.display.Javascript object>"
      ]
     },
     "metadata": {},
     "output_type": "display_data"
    }
   ],
   "source": [
    "grad_boost = GradientBoostingClassifier(max_depth=5, n_estimators=10)\n",
    "gb_ho_ba, gb_ho_acc = hold_out_resample(X, y, grad_boost, smote)"
   ]
  },
  {
   "cell_type": "code",
   "execution_count": 15,
   "metadata": {},
   "outputs": [
    {
     "data": {
      "text/plain": [
       "Text(0.5, 1.0, 'Balanced Accuracy: Hold Out')"
      ]
     },
     "execution_count": 15,
     "metadata": {},
     "output_type": "execute_result"
    },
    {
     "data": {
      "image/png": "[encoded data removed]",
      "text/plain": [
       "<Figure size 432x288 with 1 Axes>"
      ]
     },
     "metadata": {
      "needs_background": "light"
     },
     "output_type": "display_data"
    },
    {
     "data": {
      "application/javascript": [
       "\n",
       "            setTimeout(function() {\n",
       "                var nbb_cell_id = 15;\n",
       "                var nbb_unformatted_code = \"res = pd.DataFrame(gb_ho_ba, columns=[\\\"Hold Out\\\"])\\n%matplotlib inline\\nax = res.plot()\\nax.set_xlabel(\\\"Iteration\\\")\\nax.set_ylabel(\\\"Balanced Accuracy\\\")\\nax.set_title(\\\"Balanced Accuracy: Hold Out\\\")\";\n",
       "                var nbb_formatted_code = \"res = pd.DataFrame(gb_ho_ba, columns=[\\\"Hold Out\\\"])\\n%matplotlib inline\\nax = res.plot()\\nax.set_xlabel(\\\"Iteration\\\")\\nax.set_ylabel(\\\"Balanced Accuracy\\\")\\nax.set_title(\\\"Balanced Accuracy: Hold Out\\\")\";\n",
       "                var nbb_cells = Jupyter.notebook.get_cells();\n",
       "                for (var i = 0; i < nbb_cells.length; ++i) {\n",
       "                    if (nbb_cells[i].input_prompt_number == nbb_cell_id) {\n",
       "                        if (nbb_cells[i].get_text() == nbb_unformatted_code) {\n",
       "                             nbb_cells[i].set_text(nbb_formatted_code);\n",
       "                        }\n",
       "                        break;\n",
       "                    }\n",
       "                }\n",
       "            }, 500);\n",
       "            "
      ],
      "text/plain": [
       "<IPython.core.display.Javascript object>"
      ]
     },
     "metadata": {},
     "output_type": "display_data"
    }
   ],
   "source": [
    "res = pd.DataFrame(gb_ho_ba, columns=[\"Hold Out\"])\n",
    "%matplotlib inline\n",
    "ax = res.plot()\n",
    "ax.set_xlabel(\"Iteration\")\n",
    "ax.set_ylabel(\"Balanced Accuracy\")\n",
    "ax.set_title(\"Balanced Accuracy: Hold Out\")"
   ]
  },
  {
   "cell_type": "markdown",
   "metadata": {},
   "source": [
    "## 1.2 Pipelines and Cross Validation\n",
    "In the Below section cross validation will be undertaken using a pipeline to sample the data using SMOTE. to ensure consistency with the Hold Out testing it will be run 100 times using 10 folds."
   ]
  },
  {
   "cell_type": "code",
   "execution_count": 16,
   "metadata": {},
   "outputs": [
    {
     "data": {
      "application/javascript": [
       "\n",
       "            setTimeout(function() {\n",
       "                var nbb_cell_id = 16;\n",
       "                var nbb_unformatted_code = \"def cross_val(X, y, model, reps=100):\\n    xv_ba = []\\n    xv_acc = []\\n\\n    pipe = Pipeline(steps=[(\\\"sampling\\\", smote), (\\\"classifier\\\", model)])\\n\\n    for i in range(reps):\\n        kf = KFold(n_splits=10, shuffle=True)\\n        scores = cross_val_score(\\n            pipe, X, y, cv=kf, scoring=\\\"balanced_accuracy\\\", n_jobs=-1\\n        )\\n        xv_ba.append(scores.mean())\\n\\n        acc = cross_val_score(pipe, X, y, cv=kf, scoring=\\\"accuracy\\\", n_jobs=-1)\\n        xv_acc.append(acc.mean())\\n\\n    print(\\\"Mean Cross validation Accuracy: %0.2f \\\" % (sum(xv_acc) / reps))\\n    print(\\\"Mean Cross validation Balanced Accuracy: %0.2f \\\" % (sum(xv_ba) / reps))\\n\\n    return xv_acc, xv_ba\";\n",
       "                var nbb_formatted_code = \"def cross_val(X, y, model, reps=100):\\n    xv_ba = []\\n    xv_acc = []\\n\\n    pipe = Pipeline(steps=[(\\\"sampling\\\", smote), (\\\"classifier\\\", model)])\\n\\n    for i in range(reps):\\n        kf = KFold(n_splits=10, shuffle=True)\\n        scores = cross_val_score(\\n            pipe, X, y, cv=kf, scoring=\\\"balanced_accuracy\\\", n_jobs=-1\\n        )\\n        xv_ba.append(scores.mean())\\n\\n        acc = cross_val_score(pipe, X, y, cv=kf, scoring=\\\"accuracy\\\", n_jobs=-1)\\n        xv_acc.append(acc.mean())\\n\\n    print(\\\"Mean Cross validation Accuracy: %0.2f \\\" % (sum(xv_acc) / reps))\\n    print(\\\"Mean Cross validation Balanced Accuracy: %0.2f \\\" % (sum(xv_ba) / reps))\\n\\n    return xv_acc, xv_ba\";\n",
       "                var nbb_cells = Jupyter.notebook.get_cells();\n",
       "                for (var i = 0; i < nbb_cells.length; ++i) {\n",
       "                    if (nbb_cells[i].input_prompt_number == nbb_cell_id) {\n",
       "                        if (nbb_cells[i].get_text() == nbb_unformatted_code) {\n",
       "                             nbb_cells[i].set_text(nbb_formatted_code);\n",
       "                        }\n",
       "                        break;\n",
       "                    }\n",
       "                }\n",
       "            }, 500);\n",
       "            "
      ],
      "text/plain": [
       "<IPython.core.display.Javascript object>"
      ]
     },
     "metadata": {},
     "output_type": "display_data"
    }
   ],
   "source": [
    "def cross_val(X, y, model, reps=100):\n",
    "    xv_ba = []\n",
    "    xv_acc = []\n",
    "\n",
    "    pipe = Pipeline(steps=[(\"sampling\", smote), (\"classifier\", model)])\n",
    "\n",
    "    for i in range(reps):\n",
    "        kf = KFold(n_splits=10, shuffle=True)\n",
    "        scores = cross_val_score(\n",
    "            pipe, X, y, cv=kf, scoring=\"balanced_accuracy\", n_jobs=-1\n",
    "        )\n",
    "        xv_ba.append(scores.mean())\n",
    "\n",
    "        acc = cross_val_score(pipe, X, y, cv=kf, scoring=\"accuracy\", n_jobs=-1)\n",
    "        xv_acc.append(acc.mean())\n",
    "\n",
    "    print(\"Mean Cross validation Accuracy: %0.2f \" % (sum(xv_acc) / reps))\n",
    "    print(\"Mean Cross validation Balanced Accuracy: %0.2f \" % (sum(xv_ba) / reps))\n",
    "\n",
    "    return xv_acc, xv_ba"
   ]
  },
  {
   "cell_type": "markdown",
   "metadata": {},
   "source": [
    "### 1.2.1 Cross Validation kNN"
   ]
  },
  {
   "cell_type": "code",
   "execution_count": 17,
   "metadata": {},
   "outputs": [
    {
     "name": "stdout",
     "output_type": "stream",
     "text": [
      "Mean Cross validation Accuracy: 0.68 \n",
      "Mean Cross validation Balanced Accuracy: 0.58 \n"
     ]
    },
    {
     "data": {
      "application/javascript": [
       "\n",
       "            setTimeout(function() {\n",
       "                var nbb_cell_id = 17;\n",
       "                var nbb_unformatted_code = \"kNN_cv_acc, kNN_cv_ba = cross_val(X, y, kNN)\";\n",
       "                var nbb_formatted_code = \"kNN_cv_acc, kNN_cv_ba = cross_val(X, y, kNN)\";\n",
       "                var nbb_cells = Jupyter.notebook.get_cells();\n",
       "                for (var i = 0; i < nbb_cells.length; ++i) {\n",
       "                    if (nbb_cells[i].input_prompt_number == nbb_cell_id) {\n",
       "                        if (nbb_cells[i].get_text() == nbb_unformatted_code) {\n",
       "                             nbb_cells[i].set_text(nbb_formatted_code);\n",
       "                        }\n",
       "                        break;\n",
       "                    }\n",
       "                }\n",
       "            }, 500);\n",
       "            "
      ],
      "text/plain": [
       "<IPython.core.display.Javascript object>"
      ]
     },
     "metadata": {},
     "output_type": "display_data"
    }
   ],
   "source": [
    "kNN_cv_acc, kNN_cv_ba = cross_val(X, y, kNN)"
   ]
  },
  {
   "cell_type": "code",
   "execution_count": 18,
   "metadata": {},
   "outputs": [
    {
     "data": {
      "text/plain": [
       "Text(0.5, 1.0, 'Balanced Accuracy: Hold Out & Cross Validation')"
      ]
     },
     "execution_count": 18,
     "metadata": {},
     "output_type": "execute_result"
    },
    {
     "data": {
      "image/png": "[encoded data removed]",
      "text/plain": [
       "<Figure size 432x288 with 1 Axes>"
      ]
     },
     "metadata": {
      "needs_background": "light"
     },
     "output_type": "display_data"
    },
    {
     "data": {
      "application/javascript": [
       "\n",
       "            setTimeout(function() {\n",
       "                var nbb_cell_id = 18;\n",
       "                var nbb_unformatted_code = \"res = pd.DataFrame(knn_ho_ba, columns=[\\\"Hold Out\\\"])\\nres[\\\"X Val\\\"] = kNN_cv_ba\\n%matplotlib inline\\nax = res.plot()\\nax.set_xlabel(\\\"Iteration\\\")\\nax.set_ylabel(\\\"Balanced Accuracy\\\")\\nax.set_title(\\\"Balanced Accuracy: Hold Out & Cross Validation\\\")\";\n",
       "                var nbb_formatted_code = \"res = pd.DataFrame(knn_ho_ba, columns=[\\\"Hold Out\\\"])\\nres[\\\"X Val\\\"] = kNN_cv_ba\\n%matplotlib inline\\nax = res.plot()\\nax.set_xlabel(\\\"Iteration\\\")\\nax.set_ylabel(\\\"Balanced Accuracy\\\")\\nax.set_title(\\\"Balanced Accuracy: Hold Out & Cross Validation\\\")\";\n",
       "                var nbb_cells = Jupyter.notebook.get_cells();\n",
       "                for (var i = 0; i < nbb_cells.length; ++i) {\n",
       "                    if (nbb_cells[i].input_prompt_number == nbb_cell_id) {\n",
       "                        if (nbb_cells[i].get_text() == nbb_unformatted_code) {\n",
       "                             nbb_cells[i].set_text(nbb_formatted_code);\n",
       "                        }\n",
       "                        break;\n",
       "                    }\n",
       "                }\n",
       "            }, 500);\n",
       "            "
      ],
      "text/plain": [
       "<IPython.core.display.Javascript object>"
      ]
     },
     "metadata": {},
     "output_type": "display_data"
    }
   ],
   "source": [
    "res = pd.DataFrame(knn_ho_ba, columns=[\"Hold Out\"])\n",
    "res[\"X Val\"] = kNN_cv_ba\n",
    "%matplotlib inline\n",
    "ax = res.plot()\n",
    "ax.set_xlabel(\"Iteration\")\n",
    "ax.set_ylabel(\"Balanced Accuracy\")\n",
    "ax.set_title(\"Balanced Accuracy: Hold Out & Cross Validation\")"
   ]
  },
  {
   "cell_type": "markdown",
   "metadata": {},
   "source": [
    "When comparing the Hold Out test results for the rectifying strategy to those of the Cross validation results the  accuracy and balanced accuracy remain the same at 0.68 and 0.58 respectively.\n",
    "\n",
    "when you observe the graph above it shows that Hold out has a much larger range of balanced accuracies compared with cross validation which appears to be a lot more stable. "
   ]
  },
  {
   "cell_type": "markdown",
   "metadata": {},
   "source": [
    "### 1.2.2 Cross Validation Decision Tree"
   ]
  },
  {
   "cell_type": "code",
   "execution_count": 19,
   "metadata": {},
   "outputs": [
    {
     "name": "stdout",
     "output_type": "stream",
     "text": [
      "Mean Cross validation Accuracy: 0.71 \n",
      "Mean Cross validation Balanced Accuracy: 0.62 \n"
     ]
    },
    {
     "data": {
      "application/javascript": [
       "\n",
       "            setTimeout(function() {\n",
       "                var nbb_cell_id = 19;\n",
       "                var nbb_unformatted_code = \"dt_cv_acc, dt_cv_ba = cross_val(X, y, tree)\";\n",
       "                var nbb_formatted_code = \"dt_cv_acc, dt_cv_ba = cross_val(X, y, tree)\";\n",
       "                var nbb_cells = Jupyter.notebook.get_cells();\n",
       "                for (var i = 0; i < nbb_cells.length; ++i) {\n",
       "                    if (nbb_cells[i].input_prompt_number == nbb_cell_id) {\n",
       "                        if (nbb_cells[i].get_text() == nbb_unformatted_code) {\n",
       "                             nbb_cells[i].set_text(nbb_formatted_code);\n",
       "                        }\n",
       "                        break;\n",
       "                    }\n",
       "                }\n",
       "            }, 500);\n",
       "            "
      ],
      "text/plain": [
       "<IPython.core.display.Javascript object>"
      ]
     },
     "metadata": {},
     "output_type": "display_data"
    }
   ],
   "source": [
    "dt_cv_acc, dt_cv_ba = cross_val(X, y, tree)"
   ]
  },
  {
   "cell_type": "code",
   "execution_count": 20,
   "metadata": {},
   "outputs": [
    {
     "data": {
      "text/plain": [
       "Text(0.5, 1.0, 'Balanced Accuracy: Hold Out & Cross Validation')"
      ]
     },
     "execution_count": 20,
     "metadata": {},
     "output_type": "execute_result"
    },
    {
     "data": {
      "image/png": "[encoded data removed]",
      "text/plain": [
       "<Figure size 432x288 with 1 Axes>"
      ]
     },
     "metadata": {
      "needs_background": "light"
     },
     "output_type": "display_data"
    },
    {
     "data": {
      "application/javascript": [
       "\n",
       "            setTimeout(function() {\n",
       "                var nbb_cell_id = 20;\n",
       "                var nbb_unformatted_code = \"res = pd.DataFrame(knn_ho_ba, columns=[\\\"Hold Out\\\"])\\nres[\\\"X Val\\\"] = dt_cv_ba\\n%matplotlib inline\\nax = res.plot()\\nax.set_xlabel(\\\"Iteration\\\")\\nax.set_ylabel(\\\"Balanced Accuracy\\\")\\nax.set_title(\\\"Balanced Accuracy: Hold Out & Cross Validation\\\")\";\n",
       "                var nbb_formatted_code = \"res = pd.DataFrame(knn_ho_ba, columns=[\\\"Hold Out\\\"])\\nres[\\\"X Val\\\"] = dt_cv_ba\\n%matplotlib inline\\nax = res.plot()\\nax.set_xlabel(\\\"Iteration\\\")\\nax.set_ylabel(\\\"Balanced Accuracy\\\")\\nax.set_title(\\\"Balanced Accuracy: Hold Out & Cross Validation\\\")\";\n",
       "                var nbb_cells = Jupyter.notebook.get_cells();\n",
       "                for (var i = 0; i < nbb_cells.length; ++i) {\n",
       "                    if (nbb_cells[i].input_prompt_number == nbb_cell_id) {\n",
       "                        if (nbb_cells[i].get_text() == nbb_unformatted_code) {\n",
       "                             nbb_cells[i].set_text(nbb_formatted_code);\n",
       "                        }\n",
       "                        break;\n",
       "                    }\n",
       "                }\n",
       "            }, 500);\n",
       "            "
      ],
      "text/plain": [
       "<IPython.core.display.Javascript object>"
      ]
     },
     "metadata": {},
     "output_type": "display_data"
    }
   ],
   "source": [
    "res = pd.DataFrame(knn_ho_ba, columns=[\"Hold Out\"])\n",
    "res[\"X Val\"] = dt_cv_ba\n",
    "%matplotlib inline\n",
    "ax = res.plot()\n",
    "ax.set_xlabel(\"Iteration\")\n",
    "ax.set_ylabel(\"Balanced Accuracy\")\n",
    "ax.set_title(\"Balanced Accuracy: Hold Out & Cross Validation\")"
   ]
  },
  {
   "cell_type": "markdown",
   "metadata": {},
   "source": [
    "The accuracy of Cross validation falls slightly from 0.72 to 0.71 while balanced accuracy increases form 0.61 to 0.62.\n",
    "\n",
    "when you observe the graph above it shows that Hold out has a much larger range of balanced accuracies compared with cross validation which appears to be a lot more stable. The majority of the Hold Out results are below the Cross validation line, with only a few peaks above the line."
   ]
  },
  {
   "cell_type": "markdown",
   "metadata": {},
   "source": [
    "### 1.2.3 Cross Validation Logistic Regression"
   ]
  },
  {
   "cell_type": "code",
   "execution_count": 21,
   "metadata": {},
   "outputs": [
    {
     "name": "stdout",
     "output_type": "stream",
     "text": [
      "Mean Cross validation Accuracy: 0.75 \n",
      "Mean Cross validation Balanced Accuracy: 0.59 \n"
     ]
    },
    {
     "data": {
      "application/javascript": [
       "\n",
       "            setTimeout(function() {\n",
       "                var nbb_cell_id = 21;\n",
       "                var nbb_unformatted_code = \"lr_cv_acc, lr_cv_ba = cross_val(X, y, logistic_reg)\";\n",
       "                var nbb_formatted_code = \"lr_cv_acc, lr_cv_ba = cross_val(X, y, logistic_reg)\";\n",
       "                var nbb_cells = Jupyter.notebook.get_cells();\n",
       "                for (var i = 0; i < nbb_cells.length; ++i) {\n",
       "                    if (nbb_cells[i].input_prompt_number == nbb_cell_id) {\n",
       "                        if (nbb_cells[i].get_text() == nbb_unformatted_code) {\n",
       "                             nbb_cells[i].set_text(nbb_formatted_code);\n",
       "                        }\n",
       "                        break;\n",
       "                    }\n",
       "                }\n",
       "            }, 500);\n",
       "            "
      ],
      "text/plain": [
       "<IPython.core.display.Javascript object>"
      ]
     },
     "metadata": {},
     "output_type": "display_data"
    }
   ],
   "source": [
    "lr_cv_acc, lr_cv_ba = cross_val(X, y, logistic_reg)"
   ]
  },
  {
   "cell_type": "code",
   "execution_count": 22,
   "metadata": {},
   "outputs": [
    {
     "data": {
      "text/plain": [
       "Text(0.5, 1.0, 'Balanced Accuracy: Hold Out & Cross Validation')"
      ]
     },
     "execution_count": 22,
     "metadata": {},
     "output_type": "execute_result"
    },
    {
     "data": {
      "image/png": "[encoded data removed]",
      "text/plain": [
       "<Figure size 432x288 with 1 Axes>"
      ]
     },
     "metadata": {
      "needs_background": "light"
     },
     "output_type": "display_data"
    },
    {
     "data": {
      "application/javascript": [
       "\n",
       "            setTimeout(function() {\n",
       "                var nbb_cell_id = 22;\n",
       "                var nbb_unformatted_code = \"res = pd.DataFrame(knn_ho_ba, columns=[\\\"Hold Out\\\"])\\nres[\\\"X Val\\\"] = lr_cv_ba\\n%matplotlib inline\\nax = res.plot()\\nax.set_xlabel(\\\"Iteration\\\")\\nax.set_ylabel(\\\"Balanced Accuracy\\\")\\nax.set_title(\\\"Balanced Accuracy: Hold Out & Cross Validation\\\")\";\n",
       "                var nbb_formatted_code = \"res = pd.DataFrame(knn_ho_ba, columns=[\\\"Hold Out\\\"])\\nres[\\\"X Val\\\"] = lr_cv_ba\\n%matplotlib inline\\nax = res.plot()\\nax.set_xlabel(\\\"Iteration\\\")\\nax.set_ylabel(\\\"Balanced Accuracy\\\")\\nax.set_title(\\\"Balanced Accuracy: Hold Out & Cross Validation\\\")\";\n",
       "                var nbb_cells = Jupyter.notebook.get_cells();\n",
       "                for (var i = 0; i < nbb_cells.length; ++i) {\n",
       "                    if (nbb_cells[i].input_prompt_number == nbb_cell_id) {\n",
       "                        if (nbb_cells[i].get_text() == nbb_unformatted_code) {\n",
       "                             nbb_cells[i].set_text(nbb_formatted_code);\n",
       "                        }\n",
       "                        break;\n",
       "                    }\n",
       "                }\n",
       "            }, 500);\n",
       "            "
      ],
      "text/plain": [
       "<IPython.core.display.Javascript object>"
      ]
     },
     "metadata": {},
     "output_type": "display_data"
    }
   ],
   "source": [
    "res = pd.DataFrame(knn_ho_ba, columns=[\"Hold Out\"])\n",
    "res[\"X Val\"] = lr_cv_ba\n",
    "%matplotlib inline\n",
    "ax = res.plot()\n",
    "ax.set_xlabel(\"Iteration\")\n",
    "ax.set_ylabel(\"Balanced Accuracy\")\n",
    "ax.set_title(\"Balanced Accuracy: Hold Out & Cross Validation\")"
   ]
  },
  {
   "cell_type": "markdown",
   "metadata": {},
   "source": [
    "Accuracy remains the same as Hold Out at 0.78, while Balanced accuracy falls slightly from 0.59 to 0.58\n",
    "\n",
    "when you observe the graph above it shows that Hold out has a much larger range of balanced accuracies compared with cross validation which appears to be a lot more stable. "
   ]
  },
  {
   "cell_type": "markdown",
   "metadata": {},
   "source": [
    "### 1.2.4 Cross Validation Gradient Boosting"
   ]
  },
  {
   "cell_type": "code",
   "execution_count": 23,
   "metadata": {},
   "outputs": [
    {
     "name": "stdout",
     "output_type": "stream",
     "text": [
      "Mean Cross validation Accuracy: 0.71 \n",
      "Mean Cross validation Balanced Accuracy: 0.57 \n"
     ]
    },
    {
     "data": {
      "application/javascript": [
       "\n",
       "            setTimeout(function() {\n",
       "                var nbb_cell_id = 23;\n",
       "                var nbb_unformatted_code = \"gb_cv_acc, gb_cv_ba = cross_val(X, y, grad_boost)\";\n",
       "                var nbb_formatted_code = \"gb_cv_acc, gb_cv_ba = cross_val(X, y, grad_boost)\";\n",
       "                var nbb_cells = Jupyter.notebook.get_cells();\n",
       "                for (var i = 0; i < nbb_cells.length; ++i) {\n",
       "                    if (nbb_cells[i].input_prompt_number == nbb_cell_id) {\n",
       "                        if (nbb_cells[i].get_text() == nbb_unformatted_code) {\n",
       "                             nbb_cells[i].set_text(nbb_formatted_code);\n",
       "                        }\n",
       "                        break;\n",
       "                    }\n",
       "                }\n",
       "            }, 500);\n",
       "            "
      ],
      "text/plain": [
       "<IPython.core.display.Javascript object>"
      ]
     },
     "metadata": {},
     "output_type": "display_data"
    }
   ],
   "source": [
    "gb_cv_acc, gb_cv_ba = cross_val(X, y, grad_boost)"
   ]
  },
  {
   "cell_type": "code",
   "execution_count": 24,
   "metadata": {},
   "outputs": [
    {
     "data": {
      "text/plain": [
       "Text(0.5, 1.0, 'Balanced Accuracy: Hold Out & Cross Validation')"
      ]
     },
     "execution_count": 24,
     "metadata": {},
     "output_type": "execute_result"
    },
    {
     "data": {
      "image/png": "[encoded data removed]",
      "text/plain": [
       "<Figure size 432x288 with 1 Axes>"
      ]
     },
     "metadata": {
      "needs_background": "light"
     },
     "output_type": "display_data"
    },
    {
     "data": {
      "application/javascript": [
       "\n",
       "            setTimeout(function() {\n",
       "                var nbb_cell_id = 24;\n",
       "                var nbb_unformatted_code = \"res = pd.DataFrame(knn_ho_ba, columns=[\\\"Hold Out\\\"])\\nres[\\\"X Val\\\"] = gb_cv_ba\\n%matplotlib inline\\nax = res.plot()\\nax.set_xlabel(\\\"Iteration\\\")\\nax.set_ylabel(\\\"Balanced Accuracy\\\")\\nax.set_title(\\\"Balanced Accuracy: Hold Out & Cross Validation\\\")\";\n",
       "                var nbb_formatted_code = \"res = pd.DataFrame(knn_ho_ba, columns=[\\\"Hold Out\\\"])\\nres[\\\"X Val\\\"] = gb_cv_ba\\n%matplotlib inline\\nax = res.plot()\\nax.set_xlabel(\\\"Iteration\\\")\\nax.set_ylabel(\\\"Balanced Accuracy\\\")\\nax.set_title(\\\"Balanced Accuracy: Hold Out & Cross Validation\\\")\";\n",
       "                var nbb_cells = Jupyter.notebook.get_cells();\n",
       "                for (var i = 0; i < nbb_cells.length; ++i) {\n",
       "                    if (nbb_cells[i].input_prompt_number == nbb_cell_id) {\n",
       "                        if (nbb_cells[i].get_text() == nbb_unformatted_code) {\n",
       "                             nbb_cells[i].set_text(nbb_formatted_code);\n",
       "                        }\n",
       "                        break;\n",
       "                    }\n",
       "                }\n",
       "            }, 500);\n",
       "            "
      ],
      "text/plain": [
       "<IPython.core.display.Javascript object>"
      ]
     },
     "metadata": {},
     "output_type": "display_data"
    }
   ],
   "source": [
    "res = pd.DataFrame(knn_ho_ba, columns=[\"Hold Out\"])\n",
    "res[\"X Val\"] = gb_cv_ba\n",
    "%matplotlib inline\n",
    "ax = res.plot()\n",
    "ax.set_xlabel(\"Iteration\")\n",
    "ax.set_ylabel(\"Balanced Accuracy\")\n",
    "ax.set_title(\"Balanced Accuracy: Hold Out & Cross Validation\")"
   ]
  },
  {
   "cell_type": "markdown",
   "metadata": {},
   "source": [
    "The accuracy and balanced accuracy remain the same as Hold Out at 0.72 and  0.57 respectively.\n",
    "\n",
    "when you observe the graph above it shows that Hold out has a much larger range of balanced accuracies compared with cross validation which appears to be a lot more stable. The majority of the Hold Out results are above the Cross validation line."
   ]
  },
  {
   "cell_type": "markdown",
   "metadata": {},
   "source": [
    "## 1.2 Evaluation of Hold Out and Cross Validation\n",
    "\n",
    "When comparing the two methods of implementing the rectifying strategy there appears to be very little between either Hold Out and Cross Validation.  \n",
    "\n",
    "When looking at the individual graphs comparing Hold Out and Cross Validation, the cross-validation results appear to be much more stable unlike the Hold Out testing due to the random train test splitting. When choosing between the two methods Cross Validation may be a safer bet as although it does not achieve the same high accuracies, its stability ensures that it is more useable due to allowing for results to be more easily duplicated.It is prefferable over Hold Out as it allows for the classifier to train on numerous train test splits.\n",
    "\n",
    "Hold Out testing on the otherhand may be a more suitable approach when dealing with large datasets as the computation time is shorter than that of cross Validation.\n"
   ]
  },
  {
   "cell_type": "markdown",
   "metadata": {},
   "source": [
    "# Part 2"
   ]
  },
  {
   "cell_type": "code",
   "execution_count": 25,
   "metadata": {},
   "outputs": [
    {
     "data": {
      "application/javascript": [
       "\n",
       "            setTimeout(function() {\n",
       "                var nbb_cell_id = 25;\n",
       "                var nbb_unformatted_code = \"training = pd.read_csv(\\\"heart-train.csv\\\")\\ntesting = pd.read_csv(\\\"heart-test.csv\\\")\";\n",
       "                var nbb_formatted_code = \"training = pd.read_csv(\\\"heart-train.csv\\\")\\ntesting = pd.read_csv(\\\"heart-test.csv\\\")\";\n",
       "                var nbb_cells = Jupyter.notebook.get_cells();\n",
       "                for (var i = 0; i < nbb_cells.length; ++i) {\n",
       "                    if (nbb_cells[i].input_prompt_number == nbb_cell_id) {\n",
       "                        if (nbb_cells[i].get_text() == nbb_unformatted_code) {\n",
       "                             nbb_cells[i].set_text(nbb_formatted_code);\n",
       "                        }\n",
       "                        break;\n",
       "                    }\n",
       "                }\n",
       "            }, 500);\n",
       "            "
      ],
      "text/plain": [
       "<IPython.core.display.Javascript object>"
      ]
     },
     "metadata": {},
     "output_type": "display_data"
    }
   ],
   "source": [
    "training = pd.read_csv(\"heart-train.csv\")\n",
    "testing = pd.read_csv(\"heart-test.csv\")"
   ]
  },
  {
   "cell_type": "code",
   "execution_count": 26,
   "metadata": {},
   "outputs": [
    {
     "data": {
      "text/html": [
       "<div>\n",
       "<style scoped>\n",
       "    .dataframe tbody tr th:only-of-type {\n",
       "        vertical-align: middle;\n",
       "    }\n",
       "\n",
       "    .dataframe tbody tr th {\n",
       "        vertical-align: top;\n",
       "    }\n",
       "\n",
       "    .dataframe thead th {\n",
       "        text-align: right;\n",
       "    }\n",
       "</style>\n",
       "<table border=\"1\" class=\"dataframe\">\n",
       "  <thead>\n",
       "    <tr style=\"text-align: right;\">\n",
       "      <th></th>\n",
       "      <th>age</th>\n",
       "      <th>anaemia</th>\n",
       "      <th>creatinine_phosphokinase</th>\n",
       "      <th>diabetes</th>\n",
       "      <th>ejection_fraction</th>\n",
       "      <th>high_blood_pressure</th>\n",
       "      <th>platelets</th>\n",
       "      <th>serum_creatinine</th>\n",
       "      <th>serum_sodium</th>\n",
       "      <th>sex</th>\n",
       "      <th>smoking</th>\n",
       "      <th>time</th>\n",
       "      <th>DEATH_EVENT</th>\n",
       "    </tr>\n",
       "  </thead>\n",
       "  <tbody>\n",
       "    <tr>\n",
       "      <th>0</th>\n",
       "      <td>60.0</td>\n",
       "      <td>0</td>\n",
       "      <td>253</td>\n",
       "      <td>0</td>\n",
       "      <td>35</td>\n",
       "      <td>0</td>\n",
       "      <td>279000.00</td>\n",
       "      <td>1.70</td>\n",
       "      <td>140</td>\n",
       "      <td>1</td>\n",
       "      <td>0</td>\n",
       "      <td>250</td>\n",
       "      <td>0</td>\n",
       "    </tr>\n",
       "    <tr>\n",
       "      <th>1</th>\n",
       "      <td>40.0</td>\n",
       "      <td>1</td>\n",
       "      <td>129</td>\n",
       "      <td>0</td>\n",
       "      <td>35</td>\n",
       "      <td>0</td>\n",
       "      <td>255000.00</td>\n",
       "      <td>0.90</td>\n",
       "      <td>137</td>\n",
       "      <td>1</td>\n",
       "      <td>0</td>\n",
       "      <td>209</td>\n",
       "      <td>0</td>\n",
       "    </tr>\n",
       "    <tr>\n",
       "      <th>2</th>\n",
       "      <td>86.0</td>\n",
       "      <td>0</td>\n",
       "      <td>582</td>\n",
       "      <td>0</td>\n",
       "      <td>38</td>\n",
       "      <td>0</td>\n",
       "      <td>263358.03</td>\n",
       "      <td>1.83</td>\n",
       "      <td>134</td>\n",
       "      <td>0</td>\n",
       "      <td>0</td>\n",
       "      <td>95</td>\n",
       "      <td>1</td>\n",
       "    </tr>\n",
       "    <tr>\n",
       "      <th>3</th>\n",
       "      <td>45.0</td>\n",
       "      <td>0</td>\n",
       "      <td>582</td>\n",
       "      <td>0</td>\n",
       "      <td>35</td>\n",
       "      <td>0</td>\n",
       "      <td>385000.00</td>\n",
       "      <td>1.00</td>\n",
       "      <td>145</td>\n",
       "      <td>1</td>\n",
       "      <td>0</td>\n",
       "      <td>61</td>\n",
       "      <td>1</td>\n",
       "    </tr>\n",
       "    <tr>\n",
       "      <th>4</th>\n",
       "      <td>72.0</td>\n",
       "      <td>0</td>\n",
       "      <td>127</td>\n",
       "      <td>1</td>\n",
       "      <td>50</td>\n",
       "      <td>1</td>\n",
       "      <td>218000.00</td>\n",
       "      <td>1.00</td>\n",
       "      <td>134</td>\n",
       "      <td>1</td>\n",
       "      <td>0</td>\n",
       "      <td>33</td>\n",
       "      <td>0</td>\n",
       "    </tr>\n",
       "    <tr>\n",
       "      <th>5</th>\n",
       "      <td>60.0</td>\n",
       "      <td>0</td>\n",
       "      <td>582</td>\n",
       "      <td>0</td>\n",
       "      <td>40</td>\n",
       "      <td>0</td>\n",
       "      <td>217000.00</td>\n",
       "      <td>3.70</td>\n",
       "      <td>134</td>\n",
       "      <td>1</td>\n",
       "      <td>0</td>\n",
       "      <td>96</td>\n",
       "      <td>1</td>\n",
       "    </tr>\n",
       "    <tr>\n",
       "      <th>6</th>\n",
       "      <td>61.0</td>\n",
       "      <td>1</td>\n",
       "      <td>84</td>\n",
       "      <td>0</td>\n",
       "      <td>40</td>\n",
       "      <td>1</td>\n",
       "      <td>229000.00</td>\n",
       "      <td>0.90</td>\n",
       "      <td>141</td>\n",
       "      <td>0</td>\n",
       "      <td>0</td>\n",
       "      <td>110</td>\n",
       "      <td>0</td>\n",
       "    </tr>\n",
       "    <tr>\n",
       "      <th>7</th>\n",
       "      <td>49.0</td>\n",
       "      <td>1</td>\n",
       "      <td>80</td>\n",
       "      <td>0</td>\n",
       "      <td>30</td>\n",
       "      <td>1</td>\n",
       "      <td>427000.00</td>\n",
       "      <td>1.00</td>\n",
       "      <td>138</td>\n",
       "      <td>0</td>\n",
       "      <td>0</td>\n",
       "      <td>12</td>\n",
       "      <td>0</td>\n",
       "    </tr>\n",
       "    <tr>\n",
       "      <th>8</th>\n",
       "      <td>45.0</td>\n",
       "      <td>0</td>\n",
       "      <td>582</td>\n",
       "      <td>0</td>\n",
       "      <td>20</td>\n",
       "      <td>1</td>\n",
       "      <td>126000.00</td>\n",
       "      <td>1.60</td>\n",
       "      <td>135</td>\n",
       "      <td>1</td>\n",
       "      <td>0</td>\n",
       "      <td>180</td>\n",
       "      <td>1</td>\n",
       "    </tr>\n",
       "    <tr>\n",
       "      <th>9</th>\n",
       "      <td>45.0</td>\n",
       "      <td>0</td>\n",
       "      <td>308</td>\n",
       "      <td>1</td>\n",
       "      <td>60</td>\n",
       "      <td>1</td>\n",
       "      <td>377000.00</td>\n",
       "      <td>1.00</td>\n",
       "      <td>136</td>\n",
       "      <td>1</td>\n",
       "      <td>0</td>\n",
       "      <td>186</td>\n",
       "      <td>0</td>\n",
       "    </tr>\n",
       "  </tbody>\n",
       "</table>\n",
       "</div>"
      ],
      "text/plain": [
       "    age  anaemia  creatinine_phosphokinase  diabetes  ejection_fraction  \\\n",
       "0  60.0        0                       253         0                 35   \n",
       "1  40.0        1                       129         0                 35   \n",
       "2  86.0        0                       582         0                 38   \n",
       "3  45.0        0                       582         0                 35   \n",
       "4  72.0        0                       127         1                 50   \n",
       "5  60.0        0                       582         0                 40   \n",
       "6  61.0        1                        84         0                 40   \n",
       "7  49.0        1                        80         0                 30   \n",
       "8  45.0        0                       582         0                 20   \n",
       "9  45.0        0                       308         1                 60   \n",
       "\n",
       "   high_blood_pressure  platelets  serum_creatinine  serum_sodium  sex  \\\n",
       "0                    0  279000.00              1.70           140    1   \n",
       "1                    0  255000.00              0.90           137    1   \n",
       "2                    0  263358.03              1.83           134    0   \n",
       "3                    0  385000.00              1.00           145    1   \n",
       "4                    1  218000.00              1.00           134    1   \n",
       "5                    0  217000.00              3.70           134    1   \n",
       "6                    1  229000.00              0.90           141    0   \n",
       "7                    1  427000.00              1.00           138    0   \n",
       "8                    1  126000.00              1.60           135    1   \n",
       "9                    1  377000.00              1.00           136    1   \n",
       "\n",
       "   smoking  time  DEATH_EVENT  \n",
       "0        0   250            0  \n",
       "1        0   209            0  \n",
       "2        0    95            1  \n",
       "3        0    61            1  \n",
       "4        0    33            0  \n",
       "5        0    96            1  \n",
       "6        0   110            0  \n",
       "7        0    12            0  \n",
       "8        0   180            1  \n",
       "9        0   186            0  "
      ]
     },
     "execution_count": 26,
     "metadata": {},
     "output_type": "execute_result"
    },
    {
     "data": {
      "application/javascript": [
       "\n",
       "            setTimeout(function() {\n",
       "                var nbb_cell_id = 26;\n",
       "                var nbb_unformatted_code = \"training.head(10)\";\n",
       "                var nbb_formatted_code = \"training.head(10)\";\n",
       "                var nbb_cells = Jupyter.notebook.get_cells();\n",
       "                for (var i = 0; i < nbb_cells.length; ++i) {\n",
       "                    if (nbb_cells[i].input_prompt_number == nbb_cell_id) {\n",
       "                        if (nbb_cells[i].get_text() == nbb_unformatted_code) {\n",
       "                             nbb_cells[i].set_text(nbb_formatted_code);\n",
       "                        }\n",
       "                        break;\n",
       "                    }\n",
       "                }\n",
       "            }, 500);\n",
       "            "
      ],
      "text/plain": [
       "<IPython.core.display.Javascript object>"
      ]
     },
     "metadata": {},
     "output_type": "display_data"
    }
   ],
   "source": [
    "training.head(10)"
   ]
  },
  {
   "cell_type": "code",
   "execution_count": 27,
   "metadata": {},
   "outputs": [
    {
     "data": {
      "application/javascript": [
       "\n",
       "            setTimeout(function() {\n",
       "                var nbb_cell_id = 27;\n",
       "                var nbb_unformatted_code = \"# Instantiate Classifier\\ng_boost = GradientBoostingClassifier(max_depth=4, n_estimators=20, random_state=42)\";\n",
       "                var nbb_formatted_code = \"# Instantiate Classifier\\ng_boost = GradientBoostingClassifier(max_depth=4, n_estimators=20, random_state=42)\";\n",
       "                var nbb_cells = Jupyter.notebook.get_cells();\n",
       "                for (var i = 0; i < nbb_cells.length; ++i) {\n",
       "                    if (nbb_cells[i].input_prompt_number == nbb_cell_id) {\n",
       "                        if (nbb_cells[i].get_text() == nbb_unformatted_code) {\n",
       "                             nbb_cells[i].set_text(nbb_formatted_code);\n",
       "                        }\n",
       "                        break;\n",
       "                    }\n",
       "                }\n",
       "            }, 500);\n",
       "            "
      ],
      "text/plain": [
       "<IPython.core.display.Javascript object>"
      ]
     },
     "metadata": {},
     "output_type": "display_data"
    }
   ],
   "source": [
    "# Instantiate Classifier\n",
    "g_boost = GradientBoostingClassifier(max_depth=4, n_estimators=20, random_state=42)"
   ]
  },
  {
   "cell_type": "markdown",
   "metadata": {},
   "source": [
    "When initial tests were conducted the stability of the results varied widely, due to no random state being set. This was evident from the accuracy of the gradient boosting changing slightly each time it was repeated. It also had a knock-on effect for the feature selection process as due to the stochastic nature of the data certain features achieved higher information gain and usefulness. This meant that the optimal number of features for prediction performance changed each time the feature selection process was executed. \n",
    "When the random state was set the resulting selected features did not vary to the same extent.\n"
   ]
  },
  {
   "cell_type": "code",
   "execution_count": 28,
   "metadata": {},
   "outputs": [
    {
     "data": {
      "application/javascript": [
       "\n",
       "            setTimeout(function() {\n",
       "                var nbb_cell_id = 28;\n",
       "                var nbb_unformatted_code = \"# Split the Training and Testing Data \\ny_train = training.pop(\\\"DEATH_EVENT\\\").values\\nX_train = training.values\\n\\ny_test = testing.pop(\\\"DEATH_EVENT\\\").values\\nX_test = testing.values\";\n",
       "                var nbb_formatted_code = \"# Split the Training and Testing Data\\ny_train = training.pop(\\\"DEATH_EVENT\\\").values\\nX_train = training.values\\n\\ny_test = testing.pop(\\\"DEATH_EVENT\\\").values\\nX_test = testing.values\";\n",
       "                var nbb_cells = Jupyter.notebook.get_cells();\n",
       "                for (var i = 0; i < nbb_cells.length; ++i) {\n",
       "                    if (nbb_cells[i].input_prompt_number == nbb_cell_id) {\n",
       "                        if (nbb_cells[i].get_text() == nbb_unformatted_code) {\n",
       "                             nbb_cells[i].set_text(nbb_formatted_code);\n",
       "                        }\n",
       "                        break;\n",
       "                    }\n",
       "                }\n",
       "            }, 500);\n",
       "            "
      ],
      "text/plain": [
       "<IPython.core.display.Javascript object>"
      ]
     },
     "metadata": {},
     "output_type": "display_data"
    }
   ],
   "source": [
    "# Split the Training and Testing Data \n",
    "y_train = training.pop(\"DEATH_EVENT\").values\n",
    "X_train = training.values\n",
    "\n",
    "y_test = testing.pop(\"DEATH_EVENT\").values\n",
    "X_test = testing.values\n"
   ]
  },
  {
   "cell_type": "code",
   "execution_count": 29,
   "metadata": {},
   "outputs": [
    {
     "name": "stdout",
     "output_type": "stream",
     "text": [
      "(199, 12) (100, 12)\n",
      "Accuracy:  0.86\n",
      "Balanced Accuracy:  0.84\n",
      "Confusion matrix:\n",
      "[[61  7]\n",
      " [ 7 25]]\n",
      "Report:\n",
      "              precision    recall  f1-score   support\n",
      "\n",
      "           0       0.90      0.90      0.90        68\n",
      "           1       0.78      0.78      0.78        32\n",
      "\n",
      "    accuracy                           0.86       100\n",
      "   macro avg       0.84      0.84      0.84       100\n",
      "weighted avg       0.86      0.86      0.86       100\n",
      "\n"
     ]
    },
    {
     "data": {
      "application/javascript": [
       "\n",
       "            setTimeout(function() {\n",
       "                var nbb_cell_id = 29;\n",
       "                var nbb_unformatted_code = \"y_pred = g_boost.fit(X_train, y_train).predict(X_test)\\nprint(X_train.shape, X_test.shape)\\naccuracy = accuracy_score(y_pred, y_test)\\nprint(\\\"Accuracy:  %0.2f\\\" % accuracy)\\n\\nbal_acc = balanced_accuracy_score(y_pred,y_test)\\nprint(\\\"Balanced Accuracy:  %0.2f\\\" % bal_acc)\\n\\nconfusion = confusion_matrix(y_test, y_pred)\\nprint(\\\"Confusion matrix:\\\\n{}\\\".format(confusion))\\n\\nreport = classification_report(y_test, y_pred, target_names = ['0','1'])\\nprint(\\\"Report:\\\\n{}\\\".format(report)) \";\n",
       "                var nbb_formatted_code = \"y_pred = g_boost.fit(X_train, y_train).predict(X_test)\\nprint(X_train.shape, X_test.shape)\\naccuracy = accuracy_score(y_pred, y_test)\\nprint(\\\"Accuracy:  %0.2f\\\" % accuracy)\\n\\nbal_acc = balanced_accuracy_score(y_pred, y_test)\\nprint(\\\"Balanced Accuracy:  %0.2f\\\" % bal_acc)\\n\\nconfusion = confusion_matrix(y_test, y_pred)\\nprint(\\\"Confusion matrix:\\\\n{}\\\".format(confusion))\\n\\nreport = classification_report(y_test, y_pred, target_names=[\\\"0\\\", \\\"1\\\"])\\nprint(\\\"Report:\\\\n{}\\\".format(report))\";\n",
       "                var nbb_cells = Jupyter.notebook.get_cells();\n",
       "                for (var i = 0; i < nbb_cells.length; ++i) {\n",
       "                    if (nbb_cells[i].input_prompt_number == nbb_cell_id) {\n",
       "                        if (nbb_cells[i].get_text() == nbb_unformatted_code) {\n",
       "                             nbb_cells[i].set_text(nbb_formatted_code);\n",
       "                        }\n",
       "                        break;\n",
       "                    }\n",
       "                }\n",
       "            }, 500);\n",
       "            "
      ],
      "text/plain": [
       "<IPython.core.display.Javascript object>"
      ]
     },
     "metadata": {},
     "output_type": "display_data"
    }
   ],
   "source": [
    "y_pred = g_boost.fit(X_train, y_train).predict(X_test)\n",
    "print(X_train.shape, X_test.shape)\n",
    "accuracy = accuracy_score(y_pred, y_test)\n",
    "print(\"Accuracy:  %0.2f\" % accuracy)\n",
    "\n",
    "bal_acc = balanced_accuracy_score(y_pred,y_test)\n",
    "print(\"Balanced Accuracy:  %0.2f\" % bal_acc)\n",
    "\n",
    "confusion = confusion_matrix(y_test, y_pred)\n",
    "print(\"Confusion matrix:\\n{}\".format(confusion))\n",
    "\n",
    "report = classification_report(y_test, y_pred, target_names = ['0','1'])\n",
    "print(\"Report:\\n{}\".format(report)) \n"
   ]
  },
  {
   "cell_type": "markdown",
   "metadata": {},
   "source": [
    "- When using all of the features the gradient boosting classifier achieves a respectable accuracy score of 0.86, when tested  on the test data \n",
    "\n",
    "- The precision achieved for the majority class is higer than that of the negative class."
   ]
  },
  {
   "cell_type": "markdown",
   "metadata": {},
   "source": [
    "## Cross validation\n",
    "Cross validation is performed below, which involves conducting a random train test split on the X_train and y_train data from \"heart-train.csv\""
   ]
  },
  {
   "cell_type": "code",
   "execution_count": 30,
   "metadata": {},
   "outputs": [
    {
     "data": {
      "application/javascript": [
       "\n",
       "            setTimeout(function() {\n",
       "                var nbb_cell_id = 30;\n",
       "                var nbb_unformatted_code = \"def cross_val(X_train, y_train, model, reps=10):\\n    xv_ba = []\\n    xv_acc = []\\n    xv_f1 = []\\n\\n    for i in range(reps):\\n        kf = KFold(n_splits=10, shuffle=True)\\n        scores = cross_val_score(\\n            model, X_train, y_train, cv=kf, scoring=\\\"balanced_accuracy\\\", n_jobs=-1\\n        )\\n        xv_ba.append(scores.mean())\\n\\n        ba = cross_val_score(model, X_train, y_train, cv=kf, scoring=\\\"accuracy\\\")\\n        xv_acc.append(ba.mean())\\n\\n        f1 = cross_val_score(model, X_train, y_train, cv=kf, scoring=\\\"f1_macro\\\")\\n        xv_f1.append(f1.mean())\\n\\n    print(\\\"Mean Cross validation Accuracy: %0.2f \\\" % (sum(xv_acc) / reps))\\n    print(\\\"Mean Cross validation Balanced Accuracy: %0.2f \\\" % (sum(xv_ba) / reps))\\n    print(\\\"Mean Hold Out f1-score: %0.2f \\\" % (sum(xv_f1) / reps))\";\n",
       "                var nbb_formatted_code = \"def cross_val(X_train, y_train, model, reps=10):\\n    xv_ba = []\\n    xv_acc = []\\n    xv_f1 = []\\n\\n    for i in range(reps):\\n        kf = KFold(n_splits=10, shuffle=True)\\n        scores = cross_val_score(\\n            model, X_train, y_train, cv=kf, scoring=\\\"balanced_accuracy\\\", n_jobs=-1\\n        )\\n        xv_ba.append(scores.mean())\\n\\n        ba = cross_val_score(model, X_train, y_train, cv=kf, scoring=\\\"accuracy\\\")\\n        xv_acc.append(ba.mean())\\n\\n        f1 = cross_val_score(model, X_train, y_train, cv=kf, scoring=\\\"f1_macro\\\")\\n        xv_f1.append(f1.mean())\\n\\n    print(\\\"Mean Cross validation Accuracy: %0.2f \\\" % (sum(xv_acc) / reps))\\n    print(\\\"Mean Cross validation Balanced Accuracy: %0.2f \\\" % (sum(xv_ba) / reps))\\n    print(\\\"Mean Hold Out f1-score: %0.2f \\\" % (sum(xv_f1) / reps))\";\n",
       "                var nbb_cells = Jupyter.notebook.get_cells();\n",
       "                for (var i = 0; i < nbb_cells.length; ++i) {\n",
       "                    if (nbb_cells[i].input_prompt_number == nbb_cell_id) {\n",
       "                        if (nbb_cells[i].get_text() == nbb_unformatted_code) {\n",
       "                             nbb_cells[i].set_text(nbb_formatted_code);\n",
       "                        }\n",
       "                        break;\n",
       "                    }\n",
       "                }\n",
       "            }, 500);\n",
       "            "
      ],
      "text/plain": [
       "<IPython.core.display.Javascript object>"
      ]
     },
     "metadata": {},
     "output_type": "display_data"
    }
   ],
   "source": [
    "def cross_val(X_train, y_train, model, reps=10):\n",
    "    xv_ba = []\n",
    "    xv_acc = []\n",
    "    xv_f1 = []\n",
    "\n",
    "    for i in range(reps):\n",
    "        kf = KFold(n_splits=10, shuffle=True)\n",
    "        scores = cross_val_score(\n",
    "            model, X_train, y_train, cv=kf, scoring=\"balanced_accuracy\", n_jobs=-1\n",
    "        )\n",
    "        xv_ba.append(scores.mean())\n",
    "\n",
    "        ba = cross_val_score(model, X_train, y_train, cv=kf, scoring=\"accuracy\")\n",
    "        xv_acc.append(ba.mean())\n",
    "\n",
    "        f1 = cross_val_score(model, X_train, y_train, cv=kf, scoring=\"f1_macro\")\n",
    "        xv_f1.append(f1.mean())\n",
    "\n",
    "    print(\"Mean Cross validation Accuracy: %0.2f \" % (sum(xv_acc) / reps))\n",
    "    print(\"Mean Cross validation Balanced Accuracy: %0.2f \" % (sum(xv_ba) / reps))\n",
    "    print(\"Mean Hold Out f1-score: %0.2f \" % (sum(xv_f1) / reps))"
   ]
  },
  {
   "cell_type": "code",
   "execution_count": 31,
   "metadata": {},
   "outputs": [
    {
     "name": "stdout",
     "output_type": "stream",
     "text": [
      "Mean Cross validation Accuracy: 0.79 \n",
      "Mean Cross validation Balanced Accuracy: 0.73 \n",
      "Mean Hold Out f1-score: 0.73 \n"
     ]
    },
    {
     "data": {
      "application/javascript": [
       "\n",
       "            setTimeout(function() {\n",
       "                var nbb_cell_id = 31;\n",
       "                var nbb_unformatted_code = \"cross_val(X_train, y_train, g_boost)\";\n",
       "                var nbb_formatted_code = \"cross_val(X_train, y_train, g_boost)\";\n",
       "                var nbb_cells = Jupyter.notebook.get_cells();\n",
       "                for (var i = 0; i < nbb_cells.length; ++i) {\n",
       "                    if (nbb_cells[i].input_prompt_number == nbb_cell_id) {\n",
       "                        if (nbb_cells[i].get_text() == nbb_unformatted_code) {\n",
       "                             nbb_cells[i].set_text(nbb_formatted_code);\n",
       "                        }\n",
       "                        break;\n",
       "                    }\n",
       "                }\n",
       "            }, 500);\n",
       "            "
      ],
      "text/plain": [
       "<IPython.core.display.Javascript object>"
      ]
     },
     "metadata": {},
     "output_type": "display_data"
    }
   ],
   "source": [
    "cross_val(X_train, y_train, g_boost)"
   ]
  },
  {
   "cell_type": "markdown",
   "metadata": {},
   "source": [
    "The results of the above cross validation test are quite interesting as both the mean balanced accuracy and mean Cross validation accuracy are worse than when results for the test data."
   ]
  },
  {
   "cell_type": "markdown",
   "metadata": {},
   "source": [
    "## Hold Out Testing"
   ]
  },
  {
   "cell_type": "code",
   "execution_count": 32,
   "metadata": {},
   "outputs": [
    {
     "data": {
      "application/javascript": [
       "\n",
       "            setTimeout(function() {\n",
       "                var nbb_cell_id = 32;\n",
       "                var nbb_unformatted_code = \"def hold_out(X, y, X_test, y_test, model):\\n    reps = 10\\n    ho_ba = []\\n    ho_acc = []\\n    ho_f1 = []\\n    for i in range(reps):\\n        X_train, X_test_unused, y_train, y_test_unused = train_test_split(\\n            X, y, random_state=i\\n        )\\n        y_pred = model.fit(X_train, y_train).predict(X_test)\\n\\n        # Obtain Balanced Accuracy\\n        bal_acc = balanced_accuracy_score(y_test, y_pred)\\n        ho_ba.append(bal_acc)\\n\\n        # Obtain Accuracy\\n        acc = accuracy_score(y_test, y_pred)\\n        ho_acc.append(acc)\\n\\n        f1 = f1_score(y_test, y_pred, average=\\\"macro\\\")\\n        ho_f1.append(f1)\\n\\n    print(\\\"Mean Hold Out Accuracy: %0.2f \\\" % (sum(ho_acc) / reps))\\n    print(\\\"Mean Hold Out Balanced Accuracy: %0.2f \\\" % (sum(ho_ba) / reps))\\n    print(\\\"Mean Hold Out f1-score: %0.2f \\\" % (sum(ho_f1) / reps))\";\n",
       "                var nbb_formatted_code = \"def hold_out(X, y, X_test, y_test, model):\\n    reps = 10\\n    ho_ba = []\\n    ho_acc = []\\n    ho_f1 = []\\n    for i in range(reps):\\n        X_train, X_test_unused, y_train, y_test_unused = train_test_split(\\n            X, y, random_state=i\\n        )\\n        y_pred = model.fit(X_train, y_train).predict(X_test)\\n\\n        # Obtain Balanced Accuracy\\n        bal_acc = balanced_accuracy_score(y_test, y_pred)\\n        ho_ba.append(bal_acc)\\n\\n        # Obtain Accuracy\\n        acc = accuracy_score(y_test, y_pred)\\n        ho_acc.append(acc)\\n\\n        f1 = f1_score(y_test, y_pred, average=\\\"macro\\\")\\n        ho_f1.append(f1)\\n\\n    print(\\\"Mean Hold Out Accuracy: %0.2f \\\" % (sum(ho_acc) / reps))\\n    print(\\\"Mean Hold Out Balanced Accuracy: %0.2f \\\" % (sum(ho_ba) / reps))\\n    print(\\\"Mean Hold Out f1-score: %0.2f \\\" % (sum(ho_f1) / reps))\";\n",
       "                var nbb_cells = Jupyter.notebook.get_cells();\n",
       "                for (var i = 0; i < nbb_cells.length; ++i) {\n",
       "                    if (nbb_cells[i].input_prompt_number == nbb_cell_id) {\n",
       "                        if (nbb_cells[i].get_text() == nbb_unformatted_code) {\n",
       "                             nbb_cells[i].set_text(nbb_formatted_code);\n",
       "                        }\n",
       "                        break;\n",
       "                    }\n",
       "                }\n",
       "            }, 500);\n",
       "            "
      ],
      "text/plain": [
       "<IPython.core.display.Javascript object>"
      ]
     },
     "metadata": {},
     "output_type": "display_data"
    }
   ],
   "source": [
    "def hold_out(X, y, X_test, y_test, model):\n",
    "    reps = 10\n",
    "    ho_ba = []\n",
    "    ho_acc = []\n",
    "    ho_f1 = []\n",
    "    for i in range(reps):\n",
    "        X_train, X_test_unused, y_train, y_test_unused = train_test_split(\n",
    "            X, y, random_state=i\n",
    "        )\n",
    "        y_pred = model.fit(X_train, y_train).predict(X_test)\n",
    "\n",
    "        # Obtain Balanced Accuracy\n",
    "        bal_acc = balanced_accuracy_score(y_test, y_pred)\n",
    "        ho_ba.append(bal_acc)\n",
    "\n",
    "        # Obtain Accuracy\n",
    "        acc = accuracy_score(y_test, y_pred)\n",
    "        ho_acc.append(acc)\n",
    "\n",
    "        f1 = f1_score(y_test, y_pred, average=\"macro\")\n",
    "        ho_f1.append(f1)\n",
    "\n",
    "    print(\"Mean Hold Out Accuracy: %0.2f \" % (sum(ho_acc) / reps))\n",
    "    print(\"Mean Hold Out Balanced Accuracy: %0.2f \" % (sum(ho_ba) / reps))\n",
    "    print(\"Mean Hold Out f1-score: %0.2f \" % (sum(ho_f1) / reps))"
   ]
  },
  {
   "cell_type": "code",
   "execution_count": 33,
   "metadata": {},
   "outputs": [
    {
     "name": "stdout",
     "output_type": "stream",
     "text": [
      "Mean Hold Out Accuracy: 0.82 \n",
      "Mean Hold Out Balanced Accuracy: 0.76 \n",
      "Mean Hold Out f1-score: 0.78 \n"
     ]
    },
    {
     "data": {
      "application/javascript": [
       "\n",
       "            setTimeout(function() {\n",
       "                var nbb_cell_id = 33;\n",
       "                var nbb_unformatted_code = \"hold_out(X_train, y_train, X_test, y_test, g_boost)\";\n",
       "                var nbb_formatted_code = \"hold_out(X_train, y_train, X_test, y_test, g_boost)\";\n",
       "                var nbb_cells = Jupyter.notebook.get_cells();\n",
       "                for (var i = 0; i < nbb_cells.length; ++i) {\n",
       "                    if (nbb_cells[i].input_prompt_number == nbb_cell_id) {\n",
       "                        if (nbb_cells[i].get_text() == nbb_unformatted_code) {\n",
       "                             nbb_cells[i].set_text(nbb_formatted_code);\n",
       "                        }\n",
       "                        break;\n",
       "                    }\n",
       "                }\n",
       "            }, 500);\n",
       "            "
      ],
      "text/plain": [
       "<IPython.core.display.Javascript object>"
      ]
     },
     "metadata": {},
     "output_type": "display_data"
    }
   ],
   "source": [
    "hold_out(X_train, y_train, X_test, y_test, g_boost)"
   ]
  },
  {
   "cell_type": "markdown",
   "metadata": {},
   "source": [
    "### Analysis of test and train datasets"
   ]
  },
  {
   "cell_type": "markdown",
   "metadata": {},
   "source": [
    "The results of the Hold Out test are more favourable than those achieved by Cross validation as they are trained using the trained data and tested using the test data. The results are slightly lower than when gradient boosting is used on its own.\n",
    "\n",
    "Discrepancies are evident between the test and training datasets as the performance of both the Hold-Out test and the regular test fared considerably better than the Cross Validation which conducted testing only using the training data.\n"
   ]
  },
  {
   "cell_type": "markdown",
   "metadata": {},
   "source": [
    "## Feature Subset Selection\n",
    "In this section a subset of the features of the heart dataset will be selected. The method that will be used and analysed will be a wrapper.\n",
    "A wrapper method evaluates the usefulness of a particular feature for a specific classifier based on performance\n",
    "The reason why this method was favoured over the less computationally intensive filtering approach was due to only using a single classifier for this assessment. The wrapper method allows for classifier bias to be considers while also taking into account feature dependencies.\n",
    "\n",
    "Two techniques for wrapper-based feature selection will be used in this assessment Forward Feature Selection and backward feature selection. The subsets from both methods will then be used to train the Gradient Boosting classifier and test using the subset of the testing data."
   ]
  },
  {
   "cell_type": "markdown",
   "metadata": {},
   "source": [
    "### Forward Feature Selection"
   ]
  },
  {
   "cell_type": "code",
   "execution_count": 34,
   "metadata": {},
   "outputs": [
    {
     "data": {
      "application/javascript": [
       "\n",
       "            setTimeout(function() {\n",
       "                var nbb_cell_id = 34;\n",
       "                var nbb_unformatted_code = \"feature_names = training.columns\\n\\nsfs_forward = SFS(\\n    g_boost,\\n    k_features=X_train.shape[1],\\n    forward=True,\\n    floating=False,\\n    verbose=0,\\n    scoring=\\\"accuracy\\\",\\n    cv=10,\\n    n_jobs=-1,\\n)\\n\\nsfs_forward = sfs_forward.fit(\\n    X_train,\\n    y_train,\\n    custom_feature_names=feature_names,\\n)\";\n",
       "                var nbb_formatted_code = \"feature_names = training.columns\\n\\nsfs_forward = SFS(\\n    g_boost,\\n    k_features=X_train.shape[1],\\n    forward=True,\\n    floating=False,\\n    verbose=0,\\n    scoring=\\\"accuracy\\\",\\n    cv=10,\\n    n_jobs=-1,\\n)\\n\\nsfs_forward = sfs_forward.fit(\\n    X_train,\\n    y_train,\\n    custom_feature_names=feature_names,\\n)\";\n",
       "                var nbb_cells = Jupyter.notebook.get_cells();\n",
       "                for (var i = 0; i < nbb_cells.length; ++i) {\n",
       "                    if (nbb_cells[i].input_prompt_number == nbb_cell_id) {\n",
       "                        if (nbb_cells[i].get_text() == nbb_unformatted_code) {\n",
       "                             nbb_cells[i].set_text(nbb_formatted_code);\n",
       "                        }\n",
       "                        break;\n",
       "                    }\n",
       "                }\n",
       "            }, 500);\n",
       "            "
      ],
      "text/plain": [
       "<IPython.core.display.Javascript object>"
      ]
     },
     "metadata": {},
     "output_type": "display_data"
    }
   ],
   "source": [
    "feature_names = training.columns\n",
    "\n",
    "sfs_forward = SFS(\n",
    "    g_boost,\n",
    "    k_features=X_train.shape[1],\n",
    "    forward=True,\n",
    "    floating=False,\n",
    "    verbose=0,\n",
    "    scoring=\"accuracy\",\n",
    "    cv=10,\n",
    "    n_jobs=-1,\n",
    ")\n",
    "\n",
    "sfs_forward = sfs_forward.fit(\n",
    "    X_train,\n",
    "    y_train,\n",
    "    custom_feature_names=feature_names,\n",
    ")"
   ]
  },
  {
   "cell_type": "code",
   "execution_count": 35,
   "metadata": {},
   "outputs": [
    {
     "name": "stdout",
     "output_type": "stream",
     "text": [
      "Accuracy:  0.830, features: 1\n",
      "Accuracy:  0.835, features: 2\n",
      "Accuracy:  0.829, features: 3\n",
      "Accuracy:  0.829, features: 4\n",
      "Accuracy:  0.834, features: 5\n",
      "Accuracy:  0.829, features: 6\n",
      "Accuracy:  0.834, features: 7\n",
      "Accuracy:  0.834, features: 8\n",
      "Accuracy:  0.834, features: 9\n",
      "Accuracy:  0.789, features: 10\n",
      "Accuracy:  0.784, features: 11\n",
      "Accuracy:  0.739, features: 12\n",
      "=============================================\n",
      "Best Accuracy:  0.835\n",
      "Best Features ['high_blood_pressure', 'time']\n",
      "Best Feature ('time',)\n"
     ]
    },
    {
     "data": {
      "application/javascript": [
       "\n",
       "            setTimeout(function() {\n",
       "                var nbb_cell_id = 35;\n",
       "                var nbb_unformatted_code = \"forward_dict = sfs_forward.get_metric_dict()\\n\\nmaximum = 0\\nmax_index = 0\\nfor i in range(1, X_train.shape[1] + 1):\\n    accuracy = forward_dict[i][\\\"avg_score\\\"]\\n    if accuracy > maximum:\\n        maximum = accuracy\\n        max_index = i\\n\\n    print(\\\"Accuracy:  %0.3f\\\" % accuracy + \\\", features:\\\", i)\\n\\nprint(\\\"=============================================\\\")\\nprint(\\\"Best Accuracy:  %0.3f\\\" % maximum)\\n\\nforward_features = list(forward_dict[max_index][\\\"feature_names\\\"])\\nprint(\\\"Best Features\\\", forward_features)\\n\\nprint(\\\"Best Feature\\\", forward_dict[1][\\\"feature_names\\\"])\";\n",
       "                var nbb_formatted_code = \"forward_dict = sfs_forward.get_metric_dict()\\n\\nmaximum = 0\\nmax_index = 0\\nfor i in range(1, X_train.shape[1] + 1):\\n    accuracy = forward_dict[i][\\\"avg_score\\\"]\\n    if accuracy > maximum:\\n        maximum = accuracy\\n        max_index = i\\n\\n    print(\\\"Accuracy:  %0.3f\\\" % accuracy + \\\", features:\\\", i)\\n\\nprint(\\\"=============================================\\\")\\nprint(\\\"Best Accuracy:  %0.3f\\\" % maximum)\\n\\nforward_features = list(forward_dict[max_index][\\\"feature_names\\\"])\\nprint(\\\"Best Features\\\", forward_features)\\n\\nprint(\\\"Best Feature\\\", forward_dict[1][\\\"feature_names\\\"])\";\n",
       "                var nbb_cells = Jupyter.notebook.get_cells();\n",
       "                for (var i = 0; i < nbb_cells.length; ++i) {\n",
       "                    if (nbb_cells[i].input_prompt_number == nbb_cell_id) {\n",
       "                        if (nbb_cells[i].get_text() == nbb_unformatted_code) {\n",
       "                             nbb_cells[i].set_text(nbb_formatted_code);\n",
       "                        }\n",
       "                        break;\n",
       "                    }\n",
       "                }\n",
       "            }, 500);\n",
       "            "
      ],
      "text/plain": [
       "<IPython.core.display.Javascript object>"
      ]
     },
     "metadata": {},
     "output_type": "display_data"
    }
   ],
   "source": [
    "forward_dict = sfs_forward.get_metric_dict()\n",
    "\n",
    "maximum = 0\n",
    "max_index = 0\n",
    "for i in range(1, X_train.shape[1] + 1):\n",
    "    accuracy = forward_dict[i][\"avg_score\"]\n",
    "    if accuracy > maximum:\n",
    "        maximum = accuracy\n",
    "        max_index = i\n",
    "\n",
    "    print(\"Accuracy:  %0.3f\" % accuracy + \", features:\", i)\n",
    "\n",
    "print(\"=============================================\")\n",
    "print(\"Best Accuracy:  %0.3f\" % maximum)\n",
    "\n",
    "forward_features = list(forward_dict[max_index][\"feature_names\"])\n",
    "print(\"Best Features\", forward_features)\n",
    "\n",
    "print(\"Best Feature\", forward_dict[1][\"feature_names\"])"
   ]
  },
  {
   "cell_type": "markdown",
   "metadata": {},
   "source": [
    "When observing the accuracies of each of the features above it is clear too see that the two features 'high_blood_pressure' and 'time' provide the subset of features with the best accuracies.\n",
    "\n",
    "When observing the resulting accuracy there appears to be a lack of consistency as the accuracy appears as mountains and valleys. Whereas it would be expected that as the number of features increase so to would the accuracy until it reaches a plateau, but this is not the case.  as the accuracies rise and lower slightly consistently until they reach 9 features and then drop suddenly.  "
   ]
  },
  {
   "cell_type": "markdown",
   "metadata": {},
   "source": [
    "### Select subset of features from Train and Test  Forward Feature Selection"
   ]
  },
  {
   "cell_type": "code",
   "execution_count": 36,
   "metadata": {},
   "outputs": [
    {
     "data": {
      "application/javascript": [
       "\n",
       "            setTimeout(function() {\n",
       "                var nbb_cell_id = 36;\n",
       "                var nbb_unformatted_code = \"X_train_forward = training[forward_features]\\n\\nX_test_forward = testing[forward_features]\";\n",
       "                var nbb_formatted_code = \"X_train_forward = training[forward_features]\\n\\nX_test_forward = testing[forward_features]\";\n",
       "                var nbb_cells = Jupyter.notebook.get_cells();\n",
       "                for (var i = 0; i < nbb_cells.length; ++i) {\n",
       "                    if (nbb_cells[i].input_prompt_number == nbb_cell_id) {\n",
       "                        if (nbb_cells[i].get_text() == nbb_unformatted_code) {\n",
       "                             nbb_cells[i].set_text(nbb_formatted_code);\n",
       "                        }\n",
       "                        break;\n",
       "                    }\n",
       "                }\n",
       "            }, 500);\n",
       "            "
      ],
      "text/plain": [
       "<IPython.core.display.Javascript object>"
      ]
     },
     "metadata": {},
     "output_type": "display_data"
    }
   ],
   "source": [
    "X_train_forward = training[forward_features]\n",
    "\n",
    "X_test_forward = testing[forward_features]\n"
   ]
  },
  {
   "cell_type": "code",
   "execution_count": 37,
   "metadata": {},
   "outputs": [
    {
     "name": "stdout",
     "output_type": "stream",
     "text": [
      "(199, 2) (100, 2)\n",
      "Accuracy:  0.87\n",
      "Balanced Accuracy:  0.85\n",
      "Confusion matrix:\n",
      "[[62  6]\n",
      " [ 7 25]]\n",
      "Report:\n",
      "              precision    recall  f1-score   support\n",
      "\n",
      "           0       0.90      0.91      0.91        68\n",
      "           1       0.81      0.78      0.79        32\n",
      "\n",
      "    accuracy                           0.87       100\n",
      "   macro avg       0.85      0.85      0.85       100\n",
      "weighted avg       0.87      0.87      0.87       100\n",
      "\n"
     ]
    },
    {
     "data": {
      "application/javascript": [
       "\n",
       "            setTimeout(function() {\n",
       "                var nbb_cell_id = 37;\n",
       "                var nbb_unformatted_code = \"y_pred = g_boost.fit(X_train_forward, y_train).predict(X_test_forward)\\nprint(X_train_forward.shape, X_test_forward.shape)\\naccuracy = accuracy_score(y_pred, y_test)\\nprint(\\\"Accuracy:  %0.2f\\\" % accuracy)\\n\\nbal_acc = balanced_accuracy_score(y_pred,y_test)\\nprint(\\\"Balanced Accuracy:  %0.2f\\\" % bal_acc)\\n\\nconfusion = confusion_matrix(y_test, y_pred)\\nprint(\\\"Confusion matrix:\\\\n{}\\\".format(confusion))\\n\\nreport = classification_report(y_test, y_pred, target_names = ['0','1'])\\nprint(\\\"Report:\\\\n{}\\\".format(report)) \";\n",
       "                var nbb_formatted_code = \"y_pred = g_boost.fit(X_train_forward, y_train).predict(X_test_forward)\\nprint(X_train_forward.shape, X_test_forward.shape)\\naccuracy = accuracy_score(y_pred, y_test)\\nprint(\\\"Accuracy:  %0.2f\\\" % accuracy)\\n\\nbal_acc = balanced_accuracy_score(y_pred, y_test)\\nprint(\\\"Balanced Accuracy:  %0.2f\\\" % bal_acc)\\n\\nconfusion = confusion_matrix(y_test, y_pred)\\nprint(\\\"Confusion matrix:\\\\n{}\\\".format(confusion))\\n\\nreport = classification_report(y_test, y_pred, target_names=[\\\"0\\\", \\\"1\\\"])\\nprint(\\\"Report:\\\\n{}\\\".format(report))\";\n",
       "                var nbb_cells = Jupyter.notebook.get_cells();\n",
       "                for (var i = 0; i < nbb_cells.length; ++i) {\n",
       "                    if (nbb_cells[i].input_prompt_number == nbb_cell_id) {\n",
       "                        if (nbb_cells[i].get_text() == nbb_unformatted_code) {\n",
       "                             nbb_cells[i].set_text(nbb_formatted_code);\n",
       "                        }\n",
       "                        break;\n",
       "                    }\n",
       "                }\n",
       "            }, 500);\n",
       "            "
      ],
      "text/plain": [
       "<IPython.core.display.Javascript object>"
      ]
     },
     "metadata": {},
     "output_type": "display_data"
    }
   ],
   "source": [
    "y_pred = g_boost.fit(X_train_forward, y_train).predict(X_test_forward)\n",
    "print(X_train_forward.shape, X_test_forward.shape)\n",
    "accuracy = accuracy_score(y_pred, y_test)\n",
    "print(\"Accuracy:  %0.2f\" % accuracy)\n",
    "\n",
    "bal_acc = balanced_accuracy_score(y_pred,y_test)\n",
    "print(\"Balanced Accuracy:  %0.2f\" % bal_acc)\n",
    "\n",
    "confusion = confusion_matrix(y_test, y_pred)\n",
    "print(\"Confusion matrix:\\n{}\".format(confusion))\n",
    "\n",
    "report = classification_report(y_test, y_pred, target_names = ['0','1'])\n",
    "print(\"Report:\\n{}\".format(report)) \n",
    "\n"
   ]
  },
  {
   "cell_type": "markdown",
   "metadata": {},
   "source": [
    "- When we compare the results of the feature selection test and the entire dataset test, there appears to be a minor improvement in terms of accuracy.\n",
    "\n",
    "- This improvement is seen in the increase in The number of True Negative predictions and reduction in the False Positive predictions.\n",
    "\n",
    "- The recall for the Negative class increases from 0.90 to 0.91\n",
    "\n",
    "- The precision for the Positive class increase from 0.78 to 0.81\n",
    "\n",
    "- When comparing the results to the Hold-Out test  the accuracy increases from 0.82 to 0.87\n",
    "\n",
    "- Balanced Accuracy increases from 0.76 to 0.85\n",
    "\n",
    "The same discrepancy that was observed in the Hold Out and Cross Validation test continues for the subset of the features with\n",
    "the subset achieving and accuracy of  0.835  on the training data and 0.87 on the test data.\n"
   ]
  },
  {
   "cell_type": "code",
   "execution_count": 38,
   "metadata": {},
   "outputs": [
    {
     "data": {
      "image/png": "[encoded data removed]",
      "text/plain": [
       "<Figure size 432x288 with 1 Axes>"
      ]
     },
     "metadata": {
      "needs_background": "light"
     },
     "output_type": "display_data"
    },
    {
     "name": "stdout",
     "output_type": "stream",
     "text": [
      "('age', 'anaemia', 'creatinine_phosphokinase', 'diabetes', 'ejection_fraction', 'high_blood_pressure', 'platelets', 'serum_creatinine', 'serum_sodium', 'sex', 'smoking', 'time')\n"
     ]
    },
    {
     "data": {
      "application/javascript": [
       "\n",
       "            setTimeout(function() {\n",
       "                var nbb_cell_id = 38;\n",
       "                var nbb_unformatted_code = \"from mlxtend.plotting import plot_sequential_feature_selection as plot_sfs\\nimport matplotlib.pyplot as plt\\n\\nfig1 = plot_sfs(sfs_forward.get_metric_dict(), ylabel=\\\"Accuracy\\\", kind=\\\"std_dev\\\")\\n\\nplt.ylim([0.5, 1])\\nplt.title(\\\"Sequential Forward Selection (w. StdDev)\\\")\\nplt.grid()\\nplt.show()\\nprint(sfs_forward.k_feature_names_)\";\n",
       "                var nbb_formatted_code = \"from mlxtend.plotting import plot_sequential_feature_selection as plot_sfs\\nimport matplotlib.pyplot as plt\\n\\nfig1 = plot_sfs(sfs_forward.get_metric_dict(), ylabel=\\\"Accuracy\\\", kind=\\\"std_dev\\\")\\n\\nplt.ylim([0.5, 1])\\nplt.title(\\\"Sequential Forward Selection (w. StdDev)\\\")\\nplt.grid()\\nplt.show()\\nprint(sfs_forward.k_feature_names_)\";\n",
       "                var nbb_cells = Jupyter.notebook.get_cells();\n",
       "                for (var i = 0; i < nbb_cells.length; ++i) {\n",
       "                    if (nbb_cells[i].input_prompt_number == nbb_cell_id) {\n",
       "                        if (nbb_cells[i].get_text() == nbb_unformatted_code) {\n",
       "                             nbb_cells[i].set_text(nbb_formatted_code);\n",
       "                        }\n",
       "                        break;\n",
       "                    }\n",
       "                }\n",
       "            }, 500);\n",
       "            "
      ],
      "text/plain": [
       "<IPython.core.display.Javascript object>"
      ]
     },
     "metadata": {},
     "output_type": "display_data"
    }
   ],
   "source": [
    "from mlxtend.plotting import plot_sequential_feature_selection as plot_sfs\n",
    "import matplotlib.pyplot as plt\n",
    "\n",
    "fig1 = plot_sfs(sfs_forward.get_metric_dict(), ylabel=\"Accuracy\", kind=\"std_dev\")\n",
    "\n",
    "plt.ylim([0.5, 1])\n",
    "plt.title(\"Sequential Forward Selection (w. StdDev)\")\n",
    "plt.grid()\n",
    "plt.show()\n",
    "print(sfs_forward.k_feature_names_)"
   ]
  },
  {
   "cell_type": "markdown",
   "metadata": {},
   "source": [
    "The above graph shows that beyond the initial two features there is no real improvement from adding more features , which then comes to a point that the accuracy of the prediction falls due to the lare amount of information."
   ]
  },
  {
   "cell_type": "markdown",
   "metadata": {},
   "source": [
    "### Cross Validation Forward Feature Selection"
   ]
  },
  {
   "cell_type": "code",
   "execution_count": 39,
   "metadata": {},
   "outputs": [
    {
     "name": "stdout",
     "output_type": "stream",
     "text": [
      "Mean Cross validation Accuracy: 0.80 \n",
      "Mean Cross validation Balanced Accuracy: 0.76 \n",
      "Mean Hold Out f1-score: 0.75 \n"
     ]
    },
    {
     "data": {
      "application/javascript": [
       "\n",
       "            setTimeout(function() {\n",
       "                var nbb_cell_id = 39;\n",
       "                var nbb_unformatted_code = \"cross_val(X_train_forward, y_train, g_boost)\";\n",
       "                var nbb_formatted_code = \"cross_val(X_train_forward, y_train, g_boost)\";\n",
       "                var nbb_cells = Jupyter.notebook.get_cells();\n",
       "                for (var i = 0; i < nbb_cells.length; ++i) {\n",
       "                    if (nbb_cells[i].input_prompt_number == nbb_cell_id) {\n",
       "                        if (nbb_cells[i].get_text() == nbb_unformatted_code) {\n",
       "                             nbb_cells[i].set_text(nbb_formatted_code);\n",
       "                        }\n",
       "                        break;\n",
       "                    }\n",
       "                }\n",
       "            }, 500);\n",
       "            "
      ],
      "text/plain": [
       "<IPython.core.display.Javascript object>"
      ]
     },
     "metadata": {},
     "output_type": "display_data"
    }
   ],
   "source": [
    "cross_val(X_train_forward, y_train, g_boost)"
   ]
  },
  {
   "cell_type": "markdown",
   "metadata": {},
   "source": [
    "When comparing the Cross Validation of the full features compared with the subset of features an improvement is seen in all three metrics.\n",
    "\n",
    "- Accuracy improves from 0.79 to 0.81\n",
    "\n",
    "- Balanced Accuracy improves from 0.74 to 0.75\n",
    "\n",
    "- f1-score improves from 0.73 to 0.76"
   ]
  },
  {
   "cell_type": "markdown",
   "metadata": {},
   "source": [
    "### Hold-Out Forward Feature Selection"
   ]
  },
  {
   "cell_type": "code",
   "execution_count": 40,
   "metadata": {},
   "outputs": [
    {
     "name": "stdout",
     "output_type": "stream",
     "text": [
      "Mean Hold Out Accuracy: 0.83 \n",
      "Mean Hold Out Balanced Accuracy: 0.79 \n",
      "Mean Hold Out f1-score: 0.80 \n"
     ]
    },
    {
     "data": {
      "application/javascript": [
       "\n",
       "            setTimeout(function() {\n",
       "                var nbb_cell_id = 40;\n",
       "                var nbb_unformatted_code = \"hold_out(X_train_forward, y_train, X_test_forward, y_test, g_boost)\";\n",
       "                var nbb_formatted_code = \"hold_out(X_train_forward, y_train, X_test_forward, y_test, g_boost)\";\n",
       "                var nbb_cells = Jupyter.notebook.get_cells();\n",
       "                for (var i = 0; i < nbb_cells.length; ++i) {\n",
       "                    if (nbb_cells[i].input_prompt_number == nbb_cell_id) {\n",
       "                        if (nbb_cells[i].get_text() == nbb_unformatted_code) {\n",
       "                             nbb_cells[i].set_text(nbb_formatted_code);\n",
       "                        }\n",
       "                        break;\n",
       "                    }\n",
       "                }\n",
       "            }, 500);\n",
       "            "
      ],
      "text/plain": [
       "<IPython.core.display.Javascript object>"
      ]
     },
     "metadata": {},
     "output_type": "display_data"
    }
   ],
   "source": [
    "hold_out(X_train_forward, y_train, X_test_forward, y_test, g_boost)"
   ]
  },
  {
   "cell_type": "markdown",
   "metadata": {},
   "source": [
    "When comparing the Hold Out testing of the full features compared with the subset of features an improvement is seen in all three metrics.\n",
    "\n",
    "- Accuracy improves from 0.82 to 0.83\n",
    "\n",
    "- Balanced Accuracy improves from 0.76 to 0.79\n",
    "\n",
    "- f1-score improves from 0.78 to 0.80"
   ]
  },
  {
   "cell_type": "markdown",
   "metadata": {},
   "source": [
    "The improvement seen in both Hold Out and Cross Validation suggests that the features selected provide a stable improvement over using all 12 features."
   ]
  },
  {
   "cell_type": "markdown",
   "metadata": {},
   "source": [
    "### Backward Feature Selection"
   ]
  },
  {
   "cell_type": "code",
   "execution_count": 41,
   "metadata": {},
   "outputs": [
    {
     "data": {
      "application/javascript": [
       "\n",
       "            setTimeout(function() {\n",
       "                var nbb_cell_id = 41;\n",
       "                var nbb_unformatted_code = \"feature_names = training.columns\\n\\nsfs_backward = SFS(\\n    g_boost,\\n    k_features=1,\\n    forward=False,\\n    floating=False,\\n    verbose=0,\\n    scoring=\\\"accuracy\\\",\\n    cv=10,\\n    n_jobs=-1,\\n)\\n\\nsfs_backward = sfs_backward.fit(\\n    X_train,\\n    y_train,\\n    custom_feature_names=feature_names,\\n)\";\n",
       "                var nbb_formatted_code = \"feature_names = training.columns\\n\\nsfs_backward = SFS(\\n    g_boost,\\n    k_features=1,\\n    forward=False,\\n    floating=False,\\n    verbose=0,\\n    scoring=\\\"accuracy\\\",\\n    cv=10,\\n    n_jobs=-1,\\n)\\n\\nsfs_backward = sfs_backward.fit(\\n    X_train,\\n    y_train,\\n    custom_feature_names=feature_names,\\n)\";\n",
       "                var nbb_cells = Jupyter.notebook.get_cells();\n",
       "                for (var i = 0; i < nbb_cells.length; ++i) {\n",
       "                    if (nbb_cells[i].input_prompt_number == nbb_cell_id) {\n",
       "                        if (nbb_cells[i].get_text() == nbb_unformatted_code) {\n",
       "                             nbb_cells[i].set_text(nbb_formatted_code);\n",
       "                        }\n",
       "                        break;\n",
       "                    }\n",
       "                }\n",
       "            }, 500);\n",
       "            "
      ],
      "text/plain": [
       "<IPython.core.display.Javascript object>"
      ]
     },
     "metadata": {},
     "output_type": "display_data"
    }
   ],
   "source": [
    "feature_names = training.columns\n",
    "\n",
    "sfs_backward = SFS(\n",
    "    g_boost,\n",
    "    k_features=1,\n",
    "    forward=False,\n",
    "    floating=False,\n",
    "    verbose=0,\n",
    "    scoring=\"accuracy\",\n",
    "    cv=10,\n",
    "    n_jobs=-1,\n",
    ")\n",
    "\n",
    "sfs_backward = sfs_backward.fit(\n",
    "    X_train,\n",
    "    y_train,\n",
    "    custom_feature_names=feature_names,\n",
    ")"
   ]
  },
  {
   "cell_type": "code",
   "execution_count": 42,
   "metadata": {},
   "outputs": [
    {
     "name": "stdout",
     "output_type": "stream",
     "text": [
      "Accuracy:  0.8297, features: 1\n",
      "Accuracy:  0.8345, features: 2\n",
      "Accuracy:  0.8345, features: 3\n",
      "Accuracy:  0.8295, features: 4\n",
      "Accuracy:  0.8295, features: 5\n",
      "Accuracy:  0.8295, features: 6\n",
      "Accuracy:  0.8295, features: 7\n",
      "Accuracy:  0.8345, features: 8\n",
      "Accuracy:  0.8039, features: 9\n",
      "Accuracy:  0.7945, features: 10\n",
      "Accuracy:  0.7842, features: 11\n",
      "Accuracy:  0.7392, features: 12\n",
      "=============================================\n",
      "Best Accuracy:  0.834\n",
      "Best Features ['platelets', 'time']\n",
      "Best Feature ('time',)\n"
     ]
    },
    {
     "data": {
      "application/javascript": [
       "\n",
       "            setTimeout(function() {\n",
       "                var nbb_cell_id = 42;\n",
       "                var nbb_unformatted_code = \"backwards_dict = sfs_backward.get_metric_dict()\\n\\nmaximum = 0\\nmax_index = 0\\nfor i in range(1, X_train.shape[1] + 1):\\n    accuracy = backwards_dict[i][\\\"avg_score\\\"]\\n    if accuracy > maximum:\\n        maximum = accuracy\\n        max_index = i\\n\\n    print(\\\"Accuracy:  %0.4f\\\" % accuracy + \\\", features:\\\", i)\\n\\nprint(\\\"=============================================\\\")\\nprint(\\\"Best Accuracy:  %0.3f\\\" % maximum)\\n\\nbackward_features = list(backwards_dict[max_index][\\\"feature_names\\\"])\\nprint(\\\"Best Features\\\", backward_features)\\n\\nprint(\\\"Best Feature\\\", backwards_dict[1][\\\"feature_names\\\"])\";\n",
       "                var nbb_formatted_code = \"backwards_dict = sfs_backward.get_metric_dict()\\n\\nmaximum = 0\\nmax_index = 0\\nfor i in range(1, X_train.shape[1] + 1):\\n    accuracy = backwards_dict[i][\\\"avg_score\\\"]\\n    if accuracy > maximum:\\n        maximum = accuracy\\n        max_index = i\\n\\n    print(\\\"Accuracy:  %0.4f\\\" % accuracy + \\\", features:\\\", i)\\n\\nprint(\\\"=============================================\\\")\\nprint(\\\"Best Accuracy:  %0.3f\\\" % maximum)\\n\\nbackward_features = list(backwards_dict[max_index][\\\"feature_names\\\"])\\nprint(\\\"Best Features\\\", backward_features)\\n\\nprint(\\\"Best Feature\\\", backwards_dict[1][\\\"feature_names\\\"])\";\n",
       "                var nbb_cells = Jupyter.notebook.get_cells();\n",
       "                for (var i = 0; i < nbb_cells.length; ++i) {\n",
       "                    if (nbb_cells[i].input_prompt_number == nbb_cell_id) {\n",
       "                        if (nbb_cells[i].get_text() == nbb_unformatted_code) {\n",
       "                             nbb_cells[i].set_text(nbb_formatted_code);\n",
       "                        }\n",
       "                        break;\n",
       "                    }\n",
       "                }\n",
       "            }, 500);\n",
       "            "
      ],
      "text/plain": [
       "<IPython.core.display.Javascript object>"
      ]
     },
     "metadata": {},
     "output_type": "display_data"
    }
   ],
   "source": [
    "backwards_dict = sfs_backward.get_metric_dict()\n",
    "\n",
    "maximum = 0\n",
    "max_index = 0\n",
    "for i in range(1, X_train.shape[1] + 1):\n",
    "    accuracy = backwards_dict[i][\"avg_score\"]\n",
    "    if accuracy > maximum:\n",
    "        maximum = accuracy\n",
    "        max_index = i\n",
    "\n",
    "    print(\"Accuracy:  %0.4f\" % accuracy + \", features:\", i)\n",
    "\n",
    "print(\"=============================================\")\n",
    "print(\"Best Accuracy:  %0.3f\" % maximum)\n",
    "\n",
    "backward_features = list(backwards_dict[max_index][\"feature_names\"])\n",
    "print(\"Best Features\", backward_features)\n",
    "\n",
    "print(\"Best Feature\", backwards_dict[1][\"feature_names\"])"
   ]
  },
  {
   "cell_type": "markdown",
   "metadata": {},
   "source": [
    "Like the forward search before it the backwards search finds that the optimal number in terms of performance of features based on the training data is two, however 'high_blood_pressure' is replaced by 'platelets'."
   ]
  },
  {
   "cell_type": "markdown",
   "metadata": {},
   "source": [
    "### Select subset of features from Train and Test "
   ]
  },
  {
   "cell_type": "code",
   "execution_count": 43,
   "metadata": {},
   "outputs": [
    {
     "data": {
      "application/javascript": [
       "\n",
       "            setTimeout(function() {\n",
       "                var nbb_cell_id = 43;\n",
       "                var nbb_unformatted_code = \"X_train_back = training[backward_features]\\nX_test_back = testing[backward_features]\";\n",
       "                var nbb_formatted_code = \"X_train_back = training[backward_features]\\nX_test_back = testing[backward_features]\";\n",
       "                var nbb_cells = Jupyter.notebook.get_cells();\n",
       "                for (var i = 0; i < nbb_cells.length; ++i) {\n",
       "                    if (nbb_cells[i].input_prompt_number == nbb_cell_id) {\n",
       "                        if (nbb_cells[i].get_text() == nbb_unformatted_code) {\n",
       "                             nbb_cells[i].set_text(nbb_formatted_code);\n",
       "                        }\n",
       "                        break;\n",
       "                    }\n",
       "                }\n",
       "            }, 500);\n",
       "            "
      ],
      "text/plain": [
       "<IPython.core.display.Javascript object>"
      ]
     },
     "metadata": {},
     "output_type": "display_data"
    }
   ],
   "source": [
    "X_train_back = training[backward_features]\n",
    "X_test_back = testing[backward_features]\n"
   ]
  },
  {
   "cell_type": "code",
   "execution_count": 44,
   "metadata": {},
   "outputs": [
    {
     "name": "stdout",
     "output_type": "stream",
     "text": [
      "(199, 2) (100, 2)\n",
      "Accuracy:  0.85\n",
      "Balanced Accuracy:  0.83\n",
      "Confusion matrix:\n",
      "[[61  7]\n",
      " [ 8 24]]\n",
      "Report:\n",
      "              precision    recall  f1-score   support\n",
      "\n",
      "           0       0.88      0.90      0.89        68\n",
      "           1       0.77      0.75      0.76        32\n",
      "\n",
      "    accuracy                           0.85       100\n",
      "   macro avg       0.83      0.82      0.83       100\n",
      "weighted avg       0.85      0.85      0.85       100\n",
      "\n"
     ]
    },
    {
     "data": {
      "application/javascript": [
       "\n",
       "            setTimeout(function() {\n",
       "                var nbb_cell_id = 44;\n",
       "                var nbb_unformatted_code = \"y_pred = g_boost.fit(X_train_back, y_train).predict(X_test_back)\\nprint(X_train_back.shape, X_test_back.shape)\\naccuracy = accuracy_score(y_pred, y_test)\\nprint(\\\"Accuracy:  %0.2f\\\" % accuracy)\\n\\nbal_acc = balanced_accuracy_score(y_pred,y_test)\\nprint(\\\"Balanced Accuracy:  %0.2f\\\" % bal_acc)\\n\\nconfusion = confusion_matrix(y_test, y_pred)\\nprint(f\\\"Confusion matrix:\\\\n{confusion}\\\")\\n\\nreport = classification_report(y_test, y_pred, target_names = ['0','1'])\\nprint(\\\"Report:\\\\n{}\\\".format(report)) \";\n",
       "                var nbb_formatted_code = \"y_pred = g_boost.fit(X_train_back, y_train).predict(X_test_back)\\nprint(X_train_back.shape, X_test_back.shape)\\naccuracy = accuracy_score(y_pred, y_test)\\nprint(\\\"Accuracy:  %0.2f\\\" % accuracy)\\n\\nbal_acc = balanced_accuracy_score(y_pred, y_test)\\nprint(\\\"Balanced Accuracy:  %0.2f\\\" % bal_acc)\\n\\nconfusion = confusion_matrix(y_test, y_pred)\\nprint(f\\\"Confusion matrix:\\\\n{confusion}\\\")\\n\\nreport = classification_report(y_test, y_pred, target_names=[\\\"0\\\", \\\"1\\\"])\\nprint(\\\"Report:\\\\n{}\\\".format(report))\";\n",
       "                var nbb_cells = Jupyter.notebook.get_cells();\n",
       "                for (var i = 0; i < nbb_cells.length; ++i) {\n",
       "                    if (nbb_cells[i].input_prompt_number == nbb_cell_id) {\n",
       "                        if (nbb_cells[i].get_text() == nbb_unformatted_code) {\n",
       "                             nbb_cells[i].set_text(nbb_formatted_code);\n",
       "                        }\n",
       "                        break;\n",
       "                    }\n",
       "                }\n",
       "            }, 500);\n",
       "            "
      ],
      "text/plain": [
       "<IPython.core.display.Javascript object>"
      ]
     },
     "metadata": {},
     "output_type": "display_data"
    }
   ],
   "source": [
    "y_pred = g_boost.fit(X_train_back, y_train).predict(X_test_back)\n",
    "print(X_train_back.shape, X_test_back.shape)\n",
    "accuracy = accuracy_score(y_pred, y_test)\n",
    "print(\"Accuracy:  %0.2f\" % accuracy)\n",
    "\n",
    "bal_acc = balanced_accuracy_score(y_pred,y_test)\n",
    "print(\"Balanced Accuracy:  %0.2f\" % bal_acc)\n",
    "\n",
    "confusion = confusion_matrix(y_test, y_pred)\n",
    "print(f\"Confusion matrix:\\n{confusion}\")\n",
    "\n",
    "report = classification_report(y_test, y_pred, target_names = ['0','1'])\n",
    "print(\"Report:\\n{}\".format(report)) \n"
   ]
  },
  {
   "cell_type": "markdown",
   "metadata": {},
   "source": [
    "- When we compare the results of the feature selection test and the entire dataset test, there appears to a fall in accuracy\n",
    "\n",
    "- This fall is seen in the reduction in The number of True Positive predictions and the increase in the False Negative predictions.\n",
    "\n",
    "- The recall for the Negative class reducess from 0.90 to 0.88\n",
    "\n",
    "- The precision for the Positive class reducess from 0.78 to 0.77\n",
    "\n",
    "- When comparing the results to the Hold-Out test  the accuracy increases from 0.82 to 0.85\n",
    "\n",
    "- Balanced Accuracy increases from 0.76 to 0.83\n",
    "\n",
    "\n",
    "The same discrepancy that was observed in the Hold Out and Cross Validation test continues for the subset of the features with\n",
    "the subset achieving and accuracy of  0.83  on the training data and 0.85 on the test data."
   ]
  },
  {
   "cell_type": "code",
   "execution_count": 45,
   "metadata": {},
   "outputs": [
    {
     "data": {
      "image/png": "[encoded data removed]",
      "text/plain": [
       "<Figure size 432x288 with 1 Axes>"
      ]
     },
     "metadata": {
      "needs_background": "light"
     },
     "output_type": "display_data"
    },
    {
     "name": "stdout",
     "output_type": "stream",
     "text": [
      "('time',)\n"
     ]
    },
    {
     "data": {
      "application/javascript": [
       "\n",
       "            setTimeout(function() {\n",
       "                var nbb_cell_id = 45;\n",
       "                var nbb_unformatted_code = \"from mlxtend.plotting import plot_sequential_feature_selection as plot_sfs\\nimport matplotlib.pyplot as plt\\n\\nfig1 = plot_sfs(sfs_backward.get_metric_dict(), ylabel=\\\"Accuracy\\\", kind=\\\"std_dev\\\")\\n\\nplt.ylim([0.5, 1])\\nplt.title(\\\"Sequential Backward Selection (w. StdDev)\\\")\\nplt.grid()\\nplt.show()\\nprint(sfs_backward.k_feature_names_)\";\n",
       "                var nbb_formatted_code = \"from mlxtend.plotting import plot_sequential_feature_selection as plot_sfs\\nimport matplotlib.pyplot as plt\\n\\nfig1 = plot_sfs(sfs_backward.get_metric_dict(), ylabel=\\\"Accuracy\\\", kind=\\\"std_dev\\\")\\n\\nplt.ylim([0.5, 1])\\nplt.title(\\\"Sequential Backward Selection (w. StdDev)\\\")\\nplt.grid()\\nplt.show()\\nprint(sfs_backward.k_feature_names_)\";\n",
       "                var nbb_cells = Jupyter.notebook.get_cells();\n",
       "                for (var i = 0; i < nbb_cells.length; ++i) {\n",
       "                    if (nbb_cells[i].input_prompt_number == nbb_cell_id) {\n",
       "                        if (nbb_cells[i].get_text() == nbb_unformatted_code) {\n",
       "                             nbb_cells[i].set_text(nbb_formatted_code);\n",
       "                        }\n",
       "                        break;\n",
       "                    }\n",
       "                }\n",
       "            }, 500);\n",
       "            "
      ],
      "text/plain": [
       "<IPython.core.display.Javascript object>"
      ]
     },
     "metadata": {},
     "output_type": "display_data"
    }
   ],
   "source": [
    "from mlxtend.plotting import plot_sequential_feature_selection as plot_sfs\n",
    "import matplotlib.pyplot as plt\n",
    "\n",
    "fig1 = plot_sfs(sfs_backward.get_metric_dict(), ylabel=\"Accuracy\", kind=\"std_dev\")\n",
    "\n",
    "plt.ylim([0.5, 1])\n",
    "plt.title(\"Sequential Backward Selection (w. StdDev)\")\n",
    "plt.grid()\n",
    "plt.show()\n",
    "print(sfs_backward.k_feature_names_)"
   ]
  },
  {
   "cell_type": "markdown",
   "metadata": {},
   "source": [
    "The graph above is similar to that of the Forward selection with a smoother fall in accuracy around 9 features."
   ]
  },
  {
   "cell_type": "markdown",
   "metadata": {},
   "source": [
    "### Cross Validation Backward Feature Selection"
   ]
  },
  {
   "cell_type": "code",
   "execution_count": 46,
   "metadata": {},
   "outputs": [
    {
     "name": "stdout",
     "output_type": "stream",
     "text": [
      "Mean Cross validation Accuracy: 0.82 \n",
      "Mean Cross validation Balanced Accuracy: 0.77 \n",
      "Mean Hold Out f1-score: 0.77 \n"
     ]
    },
    {
     "data": {
      "application/javascript": [
       "\n",
       "            setTimeout(function() {\n",
       "                var nbb_cell_id = 46;\n",
       "                var nbb_unformatted_code = \"cross_val(X_train_back, y_train, g_boost)\";\n",
       "                var nbb_formatted_code = \"cross_val(X_train_back, y_train, g_boost)\";\n",
       "                var nbb_cells = Jupyter.notebook.get_cells();\n",
       "                for (var i = 0; i < nbb_cells.length; ++i) {\n",
       "                    if (nbb_cells[i].input_prompt_number == nbb_cell_id) {\n",
       "                        if (nbb_cells[i].get_text() == nbb_unformatted_code) {\n",
       "                             nbb_cells[i].set_text(nbb_formatted_code);\n",
       "                        }\n",
       "                        break;\n",
       "                    }\n",
       "                }\n",
       "            }, 500);\n",
       "            "
      ],
      "text/plain": [
       "<IPython.core.display.Javascript object>"
      ]
     },
     "metadata": {},
     "output_type": "display_data"
    }
   ],
   "source": [
    "cross_val(X_train_back, y_train, g_boost)"
   ]
  },
  {
   "cell_type": "markdown",
   "metadata": {},
   "source": [
    "When comparing the Cross Validation of the full features compared with the subset of features an improvement is seen in all three metrics.\n",
    "\n",
    "- Accuracy impoves from 0.79 to 0.81\n",
    "\n",
    "- Balanced improves from at 0.74 to 0.76\n",
    "\n",
    "- f1-score improves from 0.73 to 0.77"
   ]
  },
  {
   "cell_type": "markdown",
   "metadata": {},
   "source": [
    "### Hold-Out Backward Feature Selection"
   ]
  },
  {
   "cell_type": "code",
   "execution_count": 47,
   "metadata": {},
   "outputs": [
    {
     "name": "stdout",
     "output_type": "stream",
     "text": [
      "Mean Hold Out Accuracy: 0.79 \n",
      "Mean Hold Out Balanced Accuracy: 0.74 \n",
      "Mean Hold Out f1-score: 0.75 \n"
     ]
    },
    {
     "data": {
      "application/javascript": [
       "\n",
       "            setTimeout(function() {\n",
       "                var nbb_cell_id = 47;\n",
       "                var nbb_unformatted_code = \"hold_out(X_train_back, y_train, X_test_back, y_test, g_boost)\";\n",
       "                var nbb_formatted_code = \"hold_out(X_train_back, y_train, X_test_back, y_test, g_boost)\";\n",
       "                var nbb_cells = Jupyter.notebook.get_cells();\n",
       "                for (var i = 0; i < nbb_cells.length; ++i) {\n",
       "                    if (nbb_cells[i].input_prompt_number == nbb_cell_id) {\n",
       "                        if (nbb_cells[i].get_text() == nbb_unformatted_code) {\n",
       "                             nbb_cells[i].set_text(nbb_formatted_code);\n",
       "                        }\n",
       "                        break;\n",
       "                    }\n",
       "                }\n",
       "            }, 500);\n",
       "            "
      ],
      "text/plain": [
       "<IPython.core.display.Javascript object>"
      ]
     },
     "metadata": {},
     "output_type": "display_data"
    }
   ],
   "source": [
    "hold_out(X_train_back, y_train, X_test_back, y_test, g_boost)"
   ]
  },
  {
   "cell_type": "markdown",
   "metadata": {},
   "source": [
    "When comparing the Hold Out testing of the full features compared with the subset of features a fall in perfomance is seen in all three metrics.\n",
    "\n",
    "- Accuracy falls from 0.82 to 0.79\n",
    "\n",
    "- Balanced Accuracy falls from 0.76 to 0.74 \n",
    "\n",
    "- f1-score falls from 0.78 to 0.75"
   ]
  },
  {
   "cell_type": "markdown",
   "metadata": {},
   "source": [
    "The subset of features achieves better results than when used with cross validation than the full data set , but this improvement does not carry through to the test data with a fall in performance when comparing the Hold Out testing using the subset of features."
   ]
  },
  {
   "cell_type": "markdown",
   "metadata": {},
   "source": [
    " ## Evaluation of Feature Selection Methods"
   ]
  },
  {
   "cell_type": "markdown",
   "metadata": {},
   "source": [
    "What is interesting about both methods is that the optimal number of features selected is two, however they are not the same features for both methods. It is worth noting that the feature that provides the most information for both methods is 'time'.\n",
    "\n",
    "For this dataset the Forward Feature Method appears to be the most suitable approach as it improves the overall accuracy, precision and recall for the classifier.\n"
   ]
  },
  {
   "cell_type": "markdown",
   "metadata": {},
   "source": [
    "When more features are used for predicting the accuracy appears to plateau and then eventually drop off. \n",
    "The heuristic nature of the backwards and forward Selection may play into the fact that the optimal features may have not been selected."
   ]
  },
  {
   "cell_type": "markdown",
   "metadata": {},
   "source": [
    "## Filter-based Feature Selection using Information Gain\n",
    "Information gain refers to the reduction of entropy calculated foe a given dataset. By maximising the information gain it allows the data to be split  into the most optimal datasets, thus reducing the entropy of the dataset, which in turn leads to a good quality classification.\n",
    "\n",
    "The filter-based feature selection of the dataset obtains the individual information gain associated with each of the features. The Information gain values will be used to rank the features based on the level of improvement to entropy. This method is useful for finding those features that will likely aid in the prediction process and those that may hinder it. The one drawback to this process is that it is classifier exclusive, so does not consider the individual classifiers biases towards certain features(Brownlee, 2019).\n",
    "\n",
    "\n",
    "\n"
   ]
  },
  {
   "cell_type": "code",
   "execution_count": 48,
   "metadata": {},
   "outputs": [
    {
     "data": {
      "text/html": [
       "<div>\n",
       "<style scoped>\n",
       "    .dataframe tbody tr th:only-of-type {\n",
       "        vertical-align: middle;\n",
       "    }\n",
       "\n",
       "    .dataframe tbody tr th {\n",
       "        vertical-align: top;\n",
       "    }\n",
       "\n",
       "    .dataframe thead th {\n",
       "        text-align: right;\n",
       "    }\n",
       "</style>\n",
       "<table border=\"1\" class=\"dataframe\">\n",
       "  <thead>\n",
       "    <tr style=\"text-align: right;\">\n",
       "      <th></th>\n",
       "      <th>I-Gain</th>\n",
       "    </tr>\n",
       "  </thead>\n",
       "  <tbody>\n",
       "    <tr>\n",
       "      <th>time</th>\n",
       "      <td>0.219685</td>\n",
       "    </tr>\n",
       "    <tr>\n",
       "      <th>ejection_fraction</th>\n",
       "      <td>0.124370</td>\n",
       "    </tr>\n",
       "    <tr>\n",
       "      <th>serum_creatinine</th>\n",
       "      <td>0.094409</td>\n",
       "    </tr>\n",
       "    <tr>\n",
       "      <th>age</th>\n",
       "      <td>0.073793</td>\n",
       "    </tr>\n",
       "    <tr>\n",
       "      <th>high_blood_pressure</th>\n",
       "      <td>0.015798</td>\n",
       "    </tr>\n",
       "    <tr>\n",
       "      <th>serum_sodium</th>\n",
       "      <td>0.006881</td>\n",
       "    </tr>\n",
       "    <tr>\n",
       "      <th>anaemia</th>\n",
       "      <td>0.000000</td>\n",
       "    </tr>\n",
       "    <tr>\n",
       "      <th>creatinine_phosphokinase</th>\n",
       "      <td>0.000000</td>\n",
       "    </tr>\n",
       "    <tr>\n",
       "      <th>diabetes</th>\n",
       "      <td>0.000000</td>\n",
       "    </tr>\n",
       "    <tr>\n",
       "      <th>platelets</th>\n",
       "      <td>0.000000</td>\n",
       "    </tr>\n",
       "    <tr>\n",
       "      <th>sex</th>\n",
       "      <td>0.000000</td>\n",
       "    </tr>\n",
       "    <tr>\n",
       "      <th>smoking</th>\n",
       "      <td>0.000000</td>\n",
       "    </tr>\n",
       "  </tbody>\n",
       "</table>\n",
       "</div>"
      ],
      "text/plain": [
       "                            I-Gain\n",
       "time                      0.219685\n",
       "ejection_fraction         0.124370\n",
       "serum_creatinine          0.094409\n",
       "age                       0.073793\n",
       "high_blood_pressure       0.015798\n",
       "serum_sodium              0.006881\n",
       "anaemia                   0.000000\n",
       "creatinine_phosphokinase  0.000000\n",
       "diabetes                  0.000000\n",
       "platelets                 0.000000\n",
       "sex                       0.000000\n",
       "smoking                   0.000000"
      ]
     },
     "execution_count": 48,
     "metadata": {},
     "output_type": "execute_result"
    },
    {
     "data": {
      "application/javascript": [
       "\n",
       "            setTimeout(function() {\n",
       "                var nbb_cell_id = 48;\n",
       "                var nbb_unformatted_code = \"mi = dict()\\n\\ni_scores = mutual_info_classif(X_train, y_train, random_state=42)\\n\\nfor i, j in zip(training.columns, i_scores):\\n    mi[i] = j\\n\\ndf = pd.DataFrame.from_dict(mi, orient=\\\"index\\\", columns=[\\\"I-Gain\\\"])\\ndf.sort_values(by=[\\\"I-Gain\\\"], ascending=False, inplace=True)\\ndf.head(12)\";\n",
       "                var nbb_formatted_code = \"mi = dict()\\n\\ni_scores = mutual_info_classif(X_train, y_train, random_state=42)\\n\\nfor i, j in zip(training.columns, i_scores):\\n    mi[i] = j\\n\\ndf = pd.DataFrame.from_dict(mi, orient=\\\"index\\\", columns=[\\\"I-Gain\\\"])\\ndf.sort_values(by=[\\\"I-Gain\\\"], ascending=False, inplace=True)\\ndf.head(12)\";\n",
       "                var nbb_cells = Jupyter.notebook.get_cells();\n",
       "                for (var i = 0; i < nbb_cells.length; ++i) {\n",
       "                    if (nbb_cells[i].input_prompt_number == nbb_cell_id) {\n",
       "                        if (nbb_cells[i].get_text() == nbb_unformatted_code) {\n",
       "                             nbb_cells[i].set_text(nbb_formatted_code);\n",
       "                        }\n",
       "                        break;\n",
       "                    }\n",
       "                }\n",
       "            }, 500);\n",
       "            "
      ],
      "text/plain": [
       "<IPython.core.display.Javascript object>"
      ]
     },
     "metadata": {},
     "output_type": "display_data"
    }
   ],
   "source": [
    "mi = dict()\n",
    "\n",
    "i_scores = mutual_info_classif(X_train, y_train, random_state=42)\n",
    "\n",
    "for i, j in zip(training.columns, i_scores):\n",
    "    mi[i] = j\n",
    "\n",
    "df = pd.DataFrame.from_dict(mi, orient=\"index\", columns=[\"I-Gain\"])\n",
    "df.sort_values(by=[\"I-Gain\"], ascending=False, inplace=True)\n",
    "df.head(12)"
   ]
  },
  {
   "cell_type": "markdown",
   "metadata": {},
   "source": [
    "When looking at the information gain table above it is clear that the information provided by **time** is highly significant as it is nearly two times the value of the next highest feature **serum_creatinine**. Time was also the most useful feature for both Forward and Backwards Feature selection.\n",
    "\n",
    "Four of the features provide no information, of these features  **platelets** is chosen by Backwards Feature selection as well as the **time** feature as part of the best features subset."
   ]
  },
  {
   "cell_type": "code",
   "execution_count": 49,
   "metadata": {},
   "outputs": [
    {
     "data": {
      "application/javascript": [
       "\n",
       "            setTimeout(function() {\n",
       "                var nbb_cell_id = 49;\n",
       "                var nbb_unformatted_code = \"# retrieve the feature names in reverse order depending on infrmation gain\\ni_gain = [x[1] for x in sorted([(v, k) for (k, v) in mi.items()], reverse=True)]\";\n",
       "                var nbb_formatted_code = \"# retrieve the feature names in reverse order depending on infrmation gain\\ni_gain = [x[1] for x in sorted([(v, k) for (k, v) in mi.items()], reverse=True)]\";\n",
       "                var nbb_cells = Jupyter.notebook.get_cells();\n",
       "                for (var i = 0; i < nbb_cells.length; ++i) {\n",
       "                    if (nbb_cells[i].input_prompt_number == nbb_cell_id) {\n",
       "                        if (nbb_cells[i].get_text() == nbb_unformatted_code) {\n",
       "                             nbb_cells[i].set_text(nbb_formatted_code);\n",
       "                        }\n",
       "                        break;\n",
       "                    }\n",
       "                }\n",
       "            }, 500);\n",
       "            "
      ],
      "text/plain": [
       "<IPython.core.display.Javascript object>"
      ]
     },
     "metadata": {},
     "output_type": "display_data"
    }
   ],
   "source": [
    "# retrieve the feature names in reverse order depending on infrmation gain\n",
    "i_gain = [x[1] for x in sorted([(v, k) for (k, v) in mi.items()], reverse=True)]"
   ]
  },
  {
   "cell_type": "code",
   "execution_count": 50,
   "metadata": {},
   "outputs": [
    {
     "data": {
      "text/html": [
       "<div>\n",
       "<style scoped>\n",
       "    .dataframe tbody tr th:only-of-type {\n",
       "        vertical-align: middle;\n",
       "    }\n",
       "\n",
       "    .dataframe tbody tr th {\n",
       "        vertical-align: top;\n",
       "    }\n",
       "\n",
       "    .dataframe thead th {\n",
       "        text-align: right;\n",
       "    }\n",
       "</style>\n",
       "<table border=\"1\" class=\"dataframe\">\n",
       "  <thead>\n",
       "    <tr style=\"text-align: right;\">\n",
       "      <th></th>\n",
       "      <th>I-Gain</th>\n",
       "      <th>Accuracy</th>\n",
       "    </tr>\n",
       "  </thead>\n",
       "  <tbody>\n",
       "    <tr>\n",
       "      <th>time</th>\n",
       "      <td>0.219685</td>\n",
       "      <td>0.84</td>\n",
       "    </tr>\n",
       "    <tr>\n",
       "      <th>ejection_fraction</th>\n",
       "      <td>0.124370</td>\n",
       "      <td>0.86</td>\n",
       "    </tr>\n",
       "    <tr>\n",
       "      <th>serum_creatinine</th>\n",
       "      <td>0.094409</td>\n",
       "      <td>0.78</td>\n",
       "    </tr>\n",
       "    <tr>\n",
       "      <th>age</th>\n",
       "      <td>0.073793</td>\n",
       "      <td>0.82</td>\n",
       "    </tr>\n",
       "    <tr>\n",
       "      <th>high_blood_pressure</th>\n",
       "      <td>0.015798</td>\n",
       "      <td>0.74</td>\n",
       "    </tr>\n",
       "    <tr>\n",
       "      <th>serum_sodium</th>\n",
       "      <td>0.006881</td>\n",
       "      <td>0.80</td>\n",
       "    </tr>\n",
       "    <tr>\n",
       "      <th>anaemia</th>\n",
       "      <td>0.000000</td>\n",
       "      <td>0.82</td>\n",
       "    </tr>\n",
       "    <tr>\n",
       "      <th>creatinine_phosphokinase</th>\n",
       "      <td>0.000000</td>\n",
       "      <td>0.78</td>\n",
       "    </tr>\n",
       "    <tr>\n",
       "      <th>diabetes</th>\n",
       "      <td>0.000000</td>\n",
       "      <td>0.76</td>\n",
       "    </tr>\n",
       "    <tr>\n",
       "      <th>platelets</th>\n",
       "      <td>0.000000</td>\n",
       "      <td>0.78</td>\n",
       "    </tr>\n",
       "  </tbody>\n",
       "</table>\n",
       "</div>"
      ],
      "text/plain": [
       "                            I-Gain  Accuracy\n",
       "time                      0.219685      0.84\n",
       "ejection_fraction         0.124370      0.86\n",
       "serum_creatinine          0.094409      0.78\n",
       "age                       0.073793      0.82\n",
       "high_blood_pressure       0.015798      0.74\n",
       "serum_sodium              0.006881      0.80\n",
       "anaemia                   0.000000      0.82\n",
       "creatinine_phosphokinase  0.000000      0.78\n",
       "diabetes                  0.000000      0.76\n",
       "platelets                 0.000000      0.78"
      ]
     },
     "execution_count": 50,
     "metadata": {},
     "output_type": "execute_result"
    },
    {
     "data": {
      "application/javascript": [
       "\n",
       "            setTimeout(function() {\n",
       "                var nbb_cell_id = 50;\n",
       "                var nbb_unformatted_code = \"# train_ig test_ig split to\\nX_train_ig, X_test_ig, y_train_ig, y_test_ig = train_test_split(\\n    X_train, y_train, random_state=42\\n)\\n\\nacc_scores = []\\nfor kk in range(1, X_train.shape[1] + 1):\\n    FS_trans = SelectKBest(mutual_info_classif, k=kk).fit(X_train_ig, y_train_ig)\\n    X_tR_new = FS_trans.transform(X_train_ig)\\n    X_tS_new = FS_trans.transform(X_test_ig)\\n    seg_NB = g_boost.fit(X_tR_new, y_train_ig)\\n    y_dash = seg_NB.predict(X_tS_new)\\n    acc = accuracy_score(y_test_ig, y_dash)\\n    acc_scores.append(acc)\\n\\ndf[\\\"Accuracy\\\"] = acc_scores\\ndf.head(10)\";\n",
       "                var nbb_formatted_code = \"# train_ig test_ig split to\\nX_train_ig, X_test_ig, y_train_ig, y_test_ig = train_test_split(\\n    X_train, y_train, random_state=42\\n)\\n\\nacc_scores = []\\nfor kk in range(1, X_train.shape[1] + 1):\\n    FS_trans = SelectKBest(mutual_info_classif, k=kk).fit(X_train_ig, y_train_ig)\\n    X_tR_new = FS_trans.transform(X_train_ig)\\n    X_tS_new = FS_trans.transform(X_test_ig)\\n    seg_NB = g_boost.fit(X_tR_new, y_train_ig)\\n    y_dash = seg_NB.predict(X_tS_new)\\n    acc = accuracy_score(y_test_ig, y_dash)\\n    acc_scores.append(acc)\\n\\ndf[\\\"Accuracy\\\"] = acc_scores\\ndf.head(10)\";\n",
       "                var nbb_cells = Jupyter.notebook.get_cells();\n",
       "                for (var i = 0; i < nbb_cells.length; ++i) {\n",
       "                    if (nbb_cells[i].input_prompt_number == nbb_cell_id) {\n",
       "                        if (nbb_cells[i].get_text() == nbb_unformatted_code) {\n",
       "                             nbb_cells[i].set_text(nbb_formatted_code);\n",
       "                        }\n",
       "                        break;\n",
       "                    }\n",
       "                }\n",
       "            }, 500);\n",
       "            "
      ],
      "text/plain": [
       "<IPython.core.display.Javascript object>"
      ]
     },
     "metadata": {},
     "output_type": "display_data"
    }
   ],
   "source": [
    "# train_ig test_ig split to\n",
    "X_train_ig, X_test_ig, y_train_ig, y_test_ig = train_test_split(\n",
    "    X_train, y_train, random_state=42\n",
    ")\n",
    "\n",
    "acc_scores = []\n",
    "for kk in range(1, X_train.shape[1] + 1):\n",
    "    FS_trans = SelectKBest(mutual_info_classif, k=kk).fit(X_train_ig, y_train_ig)\n",
    "    X_tR_new = FS_trans.transform(X_train_ig)\n",
    "    X_tS_new = FS_trans.transform(X_test_ig)\n",
    "    seg_NB = g_boost.fit(X_tR_new, y_train_ig)\n",
    "    y_dash = seg_NB.predict(X_tS_new)\n",
    "    acc = accuracy_score(y_test_ig, y_dash)\n",
    "    acc_scores.append(acc)\n",
    "\n",
    "df[\"Accuracy\"] = acc_scores\n",
    "df.head(10)"
   ]
  },
  {
   "cell_type": "code",
   "execution_count": 51,
   "metadata": {},
   "outputs": [
    {
     "name": "stdout",
     "output_type": "stream",
     "text": [
      "0.87\n"
     ]
    },
    {
     "data": {
      "application/javascript": [
       "\n",
       "            setTimeout(function() {\n",
       "                var nbb_cell_id = 51;\n",
       "                var nbb_unformatted_code = \"X_train_features = training[[\\\"time\\\", \\\"ejection_fraction\\\"]]\\nX_test_features = testing[[\\\"time\\\", \\\"ejection_fraction\\\"]]\\ny_pred = g_boost.fit(X_train_features, y_train).predict(X_test_features)\\n\\nacc = accuracy_score(y_pred, y_test)\\nprint(acc)\";\n",
       "                var nbb_formatted_code = \"X_train_features = training[[\\\"time\\\", \\\"ejection_fraction\\\"]]\\nX_test_features = testing[[\\\"time\\\", \\\"ejection_fraction\\\"]]\\ny_pred = g_boost.fit(X_train_features, y_train).predict(X_test_features)\\n\\nacc = accuracy_score(y_pred, y_test)\\nprint(acc)\";\n",
       "                var nbb_cells = Jupyter.notebook.get_cells();\n",
       "                for (var i = 0; i < nbb_cells.length; ++i) {\n",
       "                    if (nbb_cells[i].input_prompt_number == nbb_cell_id) {\n",
       "                        if (nbb_cells[i].get_text() == nbb_unformatted_code) {\n",
       "                             nbb_cells[i].set_text(nbb_formatted_code);\n",
       "                        }\n",
       "                        break;\n",
       "                    }\n",
       "                }\n",
       "            }, 500);\n",
       "            "
      ],
      "text/plain": [
       "<IPython.core.display.Javascript object>"
      ]
     },
     "metadata": {},
     "output_type": "display_data"
    }
   ],
   "source": [
    "X_train_features = training[[\"time\", \"ejection_fraction\"]]\n",
    "X_test_features = testing[[\"time\", \"ejection_fraction\"]]\n",
    "y_pred = g_boost.fit(X_train_features, y_train).predict(X_test_features)\n",
    "\n",
    "acc = accuracy_score(y_pred, y_test)\n",
    "print(acc)"
   ]
  },
  {
   "cell_type": "code",
   "execution_count": 52,
   "metadata": {},
   "outputs": [
    {
     "name": "stdout",
     "output_type": "stream",
     "text": [
      "Features: 1, 0.84\n",
      "Features: 2, 0.92\n",
      "Features: 3, 0.78\n",
      "Features: 4, 0.8\n",
      "Features: 5, 0.82\n",
      "Features: 6, 0.8\n",
      "Features: 7, 0.8\n",
      "Features: 8, 0.78\n",
      "Features: 9, 0.82\n",
      "Features: 10, 0.78\n",
      "Features: 11, 0.8\n",
      "Features: 12, 0.78\n"
     ]
    },
    {
     "data": {
      "application/javascript": [
       "\n",
       "            setTimeout(function() {\n",
       "                var nbb_cell_id = 52;\n",
       "                var nbb_unformatted_code = \"# Obtain the accuracies achived when adding each feature\\ntrain = []\\naccuracies = []\\nbest = 0\\nbest_idx = 0\\n\\n\\nfor i, feature in enumerate(i_gain):\\n    train.append(feature)\\n\\n    X_tr_ig = training[train]\\n\\n    X_train_ig, X_test_ig, y_train_ig, y_test_ig = train_test_split(\\n        X_tr_ig, y_train, random_state=42\\n    )\\n\\n    y_pred = g_boost.fit(X_train_ig, y_train_ig).predict(X_test_ig)\\n    ig_acc = accuracy_score(y_pred, y_test_ig)\\n    accuracies.append(ig_acc)\\n    print(f\\\"Features: {i+1}, {ig_acc}\\\")\\n\\n    if ig_acc >= best:\\n        best = ig_acc\\n        best_idx = i + 1\\n\\n\\nbest_features = train[:best_idx]\";\n",
       "                var nbb_formatted_code = \"# Obtain the accuracies achived when adding each feature\\ntrain = []\\naccuracies = []\\nbest = 0\\nbest_idx = 0\\n\\n\\nfor i, feature in enumerate(i_gain):\\n    train.append(feature)\\n\\n    X_tr_ig = training[train]\\n\\n    X_train_ig, X_test_ig, y_train_ig, y_test_ig = train_test_split(\\n        X_tr_ig, y_train, random_state=42\\n    )\\n\\n    y_pred = g_boost.fit(X_train_ig, y_train_ig).predict(X_test_ig)\\n    ig_acc = accuracy_score(y_pred, y_test_ig)\\n    accuracies.append(ig_acc)\\n    print(f\\\"Features: {i+1}, {ig_acc}\\\")\\n\\n    if ig_acc >= best:\\n        best = ig_acc\\n        best_idx = i + 1\\n\\n\\nbest_features = train[:best_idx]\";\n",
       "                var nbb_cells = Jupyter.notebook.get_cells();\n",
       "                for (var i = 0; i < nbb_cells.length; ++i) {\n",
       "                    if (nbb_cells[i].input_prompt_number == nbb_cell_id) {\n",
       "                        if (nbb_cells[i].get_text() == nbb_unformatted_code) {\n",
       "                             nbb_cells[i].set_text(nbb_formatted_code);\n",
       "                        }\n",
       "                        break;\n",
       "                    }\n",
       "                }\n",
       "            }, 500);\n",
       "            "
      ],
      "text/plain": [
       "<IPython.core.display.Javascript object>"
      ]
     },
     "metadata": {},
     "output_type": "display_data"
    }
   ],
   "source": [
    "# Obtain the accuracies achived when adding each feature\n",
    "train = []\n",
    "accuracies = []\n",
    "best = 0\n",
    "best_idx = 0\n",
    "\n",
    "\n",
    "for i, feature in enumerate(i_gain):\n",
    "    train.append(feature)\n",
    "\n",
    "    X_tr_ig = training[train]\n",
    "\n",
    "    X_train_ig, X_test_ig, y_train_ig, y_test_ig = train_test_split(\n",
    "        X_tr_ig, y_train, random_state=42\n",
    "    )\n",
    "\n",
    "    y_pred = g_boost.fit(X_train_ig, y_train_ig).predict(X_test_ig)\n",
    "    ig_acc = accuracy_score(y_pred, y_test_ig)\n",
    "    accuracies.append(ig_acc)\n",
    "    print(f\"Features: {i+1}, {ig_acc}\")\n",
    "\n",
    "    if ig_acc >= best:\n",
    "        best = ig_acc\n",
    "        best_idx = i + 1\n",
    "\n",
    "\n",
    "best_features = train[:best_idx]"
   ]
  },
  {
   "cell_type": "markdown",
   "metadata": {},
   "source": [
    "The above results show that there is stability due to the random state for the mutual info classifier and gradient boost being set."
   ]
  },
  {
   "cell_type": "code",
   "execution_count": 53,
   "metadata": {},
   "outputs": [
    {
     "data": {
      "text/plain": [
       "['time', 'ejection_fraction']"
      ]
     },
     "execution_count": 53,
     "metadata": {},
     "output_type": "execute_result"
    },
    {
     "data": {
      "application/javascript": [
       "\n",
       "            setTimeout(function() {\n",
       "                var nbb_cell_id = 53;\n",
       "                var nbb_unformatted_code = \"# # display the best features obtained using Information gain\\nbest_features\";\n",
       "                var nbb_formatted_code = \"# # display the best features obtained using Information gain\\nbest_features\";\n",
       "                var nbb_cells = Jupyter.notebook.get_cells();\n",
       "                for (var i = 0; i < nbb_cells.length; ++i) {\n",
       "                    if (nbb_cells[i].input_prompt_number == nbb_cell_id) {\n",
       "                        if (nbb_cells[i].get_text() == nbb_unformatted_code) {\n",
       "                             nbb_cells[i].set_text(nbb_formatted_code);\n",
       "                        }\n",
       "                        break;\n",
       "                    }\n",
       "                }\n",
       "            }, 500);\n",
       "            "
      ],
      "text/plain": [
       "<IPython.core.display.Javascript object>"
      ]
     },
     "metadata": {},
     "output_type": "display_data"
    }
   ],
   "source": [
    "# # display the best features obtained using Information gain\n",
    "best_features"
   ]
  },
  {
   "cell_type": "markdown",
   "metadata": {},
   "source": [
    "Of the 12 features in the training dataset two features provided the best accuracy are 'time' and 'ejection_fraction'."
   ]
  },
  {
   "cell_type": "code",
   "execution_count": 54,
   "metadata": {},
   "outputs": [
    {
     "name": "stderr",
     "output_type": "stream",
     "text": [
      "c:\\users\\sed\\anaconda3\\envs\\comp47750\\lib\\site-packages\\ipykernel_launcher.py:10: UserWarning: FixedFormatter should only be used together with FixedLocator\n",
      "  # Remove the CWD from sys.path while we load stuff.\n"
     ]
    },
    {
     "data": {
      "image/png": "[encoded data removed]",
      "text/plain": [
       "<Figure size 720x432 with 2 Axes>"
      ]
     },
     "metadata": {
      "needs_background": "light"
     },
     "output_type": "display_data"
    },
    {
     "data": {
      "application/javascript": [
       "\n",
       "            setTimeout(function() {\n",
       "                var nbb_cell_id = 54;\n",
       "                var nbb_unformatted_code = \"%matplotlib inline\\n\\nn = len(df.index)\\nrr = range(1, n)\\nfig, ax = plt.subplots(figsize=(10, 6))\\n\\nax2 = ax.twinx()\\nax.bar(df.index, df[\\\"I-Gain\\\"], label=\\\"I-Gain\\\", width=0.35)\\nax2.plot(df.index, df[\\\"Accuracy\\\"], \\\"-o\\\", color=\\\"red\\\", label=\\\"Accuracy\\\")\\nax.set_xticklabels(list(df.index), rotation=90)\\nax.set_xlabel(\\\"Features\\\")\\nax.set_ylabel(\\\"I-Gain\\\")\\nax2.set_ylabel(\\\"Accuracy\\\")\\nax.legend()\\nplt.show()\";\n",
       "                var nbb_formatted_code = \"%matplotlib inline\\n\\nn = len(df.index)\\nrr = range(1, n)\\nfig, ax = plt.subplots(figsize=(10, 6))\\n\\nax2 = ax.twinx()\\nax.bar(df.index, df[\\\"I-Gain\\\"], label=\\\"I-Gain\\\", width=0.35)\\nax2.plot(df.index, df[\\\"Accuracy\\\"], \\\"-o\\\", color=\\\"red\\\", label=\\\"Accuracy\\\")\\nax.set_xticklabels(list(df.index), rotation=90)\\nax.set_xlabel(\\\"Features\\\")\\nax.set_ylabel(\\\"I-Gain\\\")\\nax2.set_ylabel(\\\"Accuracy\\\")\\nax.legend()\\nplt.show()\";\n",
       "                var nbb_cells = Jupyter.notebook.get_cells();\n",
       "                for (var i = 0; i < nbb_cells.length; ++i) {\n",
       "                    if (nbb_cells[i].input_prompt_number == nbb_cell_id) {\n",
       "                        if (nbb_cells[i].get_text() == nbb_unformatted_code) {\n",
       "                             nbb_cells[i].set_text(nbb_formatted_code);\n",
       "                        }\n",
       "                        break;\n",
       "                    }\n",
       "                }\n",
       "            }, 500);\n",
       "            "
      ],
      "text/plain": [
       "<IPython.core.display.Javascript object>"
      ]
     },
     "metadata": {},
     "output_type": "display_data"
    }
   ],
   "source": [
    "%matplotlib inline\n",
    "\n",
    "n = len(df.index)\n",
    "rr = range(1, n)\n",
    "fig, ax = plt.subplots(figsize=(10, 6))\n",
    "\n",
    "ax2 = ax.twinx()\n",
    "ax.bar(df.index, df[\"I-Gain\"], label=\"I-Gain\", width=0.35)\n",
    "ax2.plot(df.index, df[\"Accuracy\"], \"-o\", color=\"red\", label=\"Accuracy\")\n",
    "ax.set_xticklabels(list(df.index), rotation=90)\n",
    "ax.set_xlabel(\"Features\")\n",
    "ax.set_ylabel(\"I-Gain\")\n",
    "ax2.set_ylabel(\"Accuracy\")\n",
    "ax.legend()\n",
    "plt.show()"
   ]
  },
  {
   "cell_type": "markdown",
   "metadata": {},
   "source": [
    "The graph above shows that after adding 'ejection-fraction' the perfomance typically falls when adding new features until it reaches 'sex' where the perfomance increases. "
   ]
  },
  {
   "cell_type": "markdown",
   "metadata": {},
   "source": [
    "### Applying the best features subset on test data"
   ]
  },
  {
   "cell_type": "code",
   "execution_count": 55,
   "metadata": {},
   "outputs": [
    {
     "name": "stdout",
     "output_type": "stream",
     "text": [
      "(199, 2) (100, 2)\n",
      "Accuracy:  0.87\n",
      "Balanced Accuracy:  0.86\n",
      "Confusion matrix:\n",
      "[[63  5]\n",
      " [ 8 24]]\n",
      "Report:\n",
      "              precision    recall  f1-score   support\n",
      "\n",
      "           0       0.89      0.93      0.91        68\n",
      "           1       0.83      0.75      0.79        32\n",
      "\n",
      "    accuracy                           0.87       100\n",
      "   macro avg       0.86      0.84      0.85       100\n",
      "weighted avg       0.87      0.87      0.87       100\n",
      "\n"
     ]
    },
    {
     "data": {
      "application/javascript": [
       "\n",
       "            setTimeout(function() {\n",
       "                var nbb_cell_id = 55;\n",
       "                var nbb_unformatted_code = \"\\n# Select only the best features from train and test\\nX_train_ig = training[best_features]\\nX_test_ig = testing[best_features]\\n    \\n\\ny_pred = g_boost.fit(X_train_ig , y_train).predict(X_test_ig)\\nprint(X_train_ig .shape, X_test_ig.shape)\\naccuracy = accuracy_score(y_pred, y_test)\\nprint(\\\"Accuracy:  %0.2f\\\" % accuracy)\\n\\nbal_acc = balanced_accuracy_score(y_pred,y_test)\\nprint(\\\"Balanced Accuracy:  %0.2f\\\" % bal_acc)\\n\\n\\nconfusion = confusion_matrix(y_test, y_pred)\\nprint(f\\\"Confusion matrix:\\\\n{confusion}\\\")\\n\\nreport = classification_report(y_test, y_pred, target_names = ['0','1'])\\nprint(\\\"Report:\\\\n{}\\\".format(report)) \";\n",
       "                var nbb_formatted_code = \"# Select only the best features from train and test\\nX_train_ig = training[best_features]\\nX_test_ig = testing[best_features]\\n\\n\\ny_pred = g_boost.fit(X_train_ig, y_train).predict(X_test_ig)\\nprint(X_train_ig.shape, X_test_ig.shape)\\naccuracy = accuracy_score(y_pred, y_test)\\nprint(\\\"Accuracy:  %0.2f\\\" % accuracy)\\n\\nbal_acc = balanced_accuracy_score(y_pred, y_test)\\nprint(\\\"Balanced Accuracy:  %0.2f\\\" % bal_acc)\\n\\n\\nconfusion = confusion_matrix(y_test, y_pred)\\nprint(f\\\"Confusion matrix:\\\\n{confusion}\\\")\\n\\nreport = classification_report(y_test, y_pred, target_names=[\\\"0\\\", \\\"1\\\"])\\nprint(\\\"Report:\\\\n{}\\\".format(report))\";\n",
       "                var nbb_cells = Jupyter.notebook.get_cells();\n",
       "                for (var i = 0; i < nbb_cells.length; ++i) {\n",
       "                    if (nbb_cells[i].input_prompt_number == nbb_cell_id) {\n",
       "                        if (nbb_cells[i].get_text() == nbb_unformatted_code) {\n",
       "                             nbb_cells[i].set_text(nbb_formatted_code);\n",
       "                        }\n",
       "                        break;\n",
       "                    }\n",
       "                }\n",
       "            }, 500);\n",
       "            "
      ],
      "text/plain": [
       "<IPython.core.display.Javascript object>"
      ]
     },
     "metadata": {},
     "output_type": "display_data"
    }
   ],
   "source": [
    "\n",
    "# Select only the best features from train and test\n",
    "X_train_ig = training[best_features]\n",
    "X_test_ig = testing[best_features]\n",
    "    \n",
    "\n",
    "y_pred = g_boost.fit(X_train_ig , y_train).predict(X_test_ig)\n",
    "print(X_train_ig .shape, X_test_ig.shape)\n",
    "accuracy = accuracy_score(y_pred, y_test)\n",
    "print(\"Accuracy:  %0.2f\" % accuracy)\n",
    "\n",
    "bal_acc = balanced_accuracy_score(y_pred,y_test)\n",
    "print(\"Balanced Accuracy:  %0.2f\" % bal_acc)\n",
    "\n",
    "\n",
    "confusion = confusion_matrix(y_test, y_pred)\n",
    "print(f\"Confusion matrix:\\n{confusion}\")\n",
    "\n",
    "report = classification_report(y_test, y_pred, target_names = ['0','1'])\n",
    "print(\"Report:\\n{}\".format(report)) \n"
   ]
  },
  {
   "cell_type": "markdown",
   "metadata": {},
   "source": [
    "When comparing the results to those of the gradient boosting using the full 12 features there is a small improvement in terms of accuracy. \n",
    "\n",
    "- There is a noteable improvement to the precision of the minority class from 0.78 to .93\n",
    "\n",
    "- An improvement in in the recall of the majority class can be seen with an increase from 0.90 to 0.97\n",
    "\n",
    "- An improvement in the f1-score of the majority class can be seen with an increase from 0.90 to 0.94\n",
    "\n",
    "- An improvement in the f1-score of the majority class can be seen with an increase from 0.78 to 0.85\n",
    "\n",
    "- When comparing the results to the Hold-Out test  the accuracy increases from 0.82 to 0.87\n",
    "\n",
    "- Balanced Accuracy increases from 0.76 to 0.86\n",
    "\n",
    "\n",
    "The discrepancy that was observed in the Hold Out/Cross Validation and Sequential search was not evident in the filter based selection as the two features that provided the highest accuracy for the test data at 0.92 did not perform as well when applied to the test data only achieving an accuracy of 0.87."
   ]
  },
  {
   "cell_type": "markdown",
   "metadata": {},
   "source": [
    "### Cross Validation Filter-based Feature Selection"
   ]
  },
  {
   "cell_type": "code",
   "execution_count": 56,
   "metadata": {},
   "outputs": [
    {
     "name": "stdout",
     "output_type": "stream",
     "text": [
      "Mean Cross validation Accuracy: 0.80 \n",
      "Mean Cross validation Balanced Accuracy: 0.75 \n",
      "Mean Hold Out f1-score: 0.74 \n"
     ]
    },
    {
     "data": {
      "application/javascript": [
       "\n",
       "            setTimeout(function() {\n",
       "                var nbb_cell_id = 56;\n",
       "                var nbb_unformatted_code = \"cross_val(X_train_ig, y_train, g_boost)\";\n",
       "                var nbb_formatted_code = \"cross_val(X_train_ig, y_train, g_boost)\";\n",
       "                var nbb_cells = Jupyter.notebook.get_cells();\n",
       "                for (var i = 0; i < nbb_cells.length; ++i) {\n",
       "                    if (nbb_cells[i].input_prompt_number == nbb_cell_id) {\n",
       "                        if (nbb_cells[i].get_text() == nbb_unformatted_code) {\n",
       "                             nbb_cells[i].set_text(nbb_formatted_code);\n",
       "                        }\n",
       "                        break;\n",
       "                    }\n",
       "                }\n",
       "            }, 500);\n",
       "            "
      ],
      "text/plain": [
       "<IPython.core.display.Javascript object>"
      ]
     },
     "metadata": {},
     "output_type": "display_data"
    }
   ],
   "source": [
    "cross_val(X_train_ig, y_train, g_boost)"
   ]
  },
  {
   "cell_type": "markdown",
   "metadata": {},
   "source": [
    "- Mean Cross validation Accuracy improves from 0.79 to 0.80 \n",
    "- Mean Cross validation Balanced improves from 0.73 to 0.75 \n",
    "- Mean Hold Out f1-score improves from 0.72 to 0.74 "
   ]
  },
  {
   "cell_type": "markdown",
   "metadata": {},
   "source": [
    "### Hold-Out Filter-based Feature Selection"
   ]
  },
  {
   "cell_type": "code",
   "execution_count": 57,
   "metadata": {},
   "outputs": [
    {
     "name": "stdout",
     "output_type": "stream",
     "text": [
      "Mean Hold Out Accuracy: 0.83 \n",
      "Mean Hold Out Balanced Accuracy: 0.79 \n",
      "Mean Hold Out f1-score: 0.80 \n"
     ]
    },
    {
     "data": {
      "application/javascript": [
       "\n",
       "            setTimeout(function() {\n",
       "                var nbb_cell_id = 57;\n",
       "                var nbb_unformatted_code = \"hold_out(X_train_ig, y_train, X_test_ig, y_test, g_boost)\";\n",
       "                var nbb_formatted_code = \"hold_out(X_train_ig, y_train, X_test_ig, y_test, g_boost)\";\n",
       "                var nbb_cells = Jupyter.notebook.get_cells();\n",
       "                for (var i = 0; i < nbb_cells.length; ++i) {\n",
       "                    if (nbb_cells[i].input_prompt_number == nbb_cell_id) {\n",
       "                        if (nbb_cells[i].get_text() == nbb_unformatted_code) {\n",
       "                             nbb_cells[i].set_text(nbb_formatted_code);\n",
       "                        }\n",
       "                        break;\n",
       "                    }\n",
       "                }\n",
       "            }, 500);\n",
       "            "
      ],
      "text/plain": [
       "<IPython.core.display.Javascript object>"
      ]
     },
     "metadata": {},
     "output_type": "display_data"
    }
   ],
   "source": [
    "hold_out(X_train_ig, y_train, X_test_ig, y_test, g_boost)"
   ]
  },
  {
   "cell_type": "markdown",
   "metadata": {},
   "source": [
    "- Mean Hold Out Accuracy improves from 0.82 to  0.83 \n",
    "- Mean Hold Out Balanced Accuracyimproves from 0.76 to  0.79 \n",
    "- Mean Hold Out f1-score improves from 0.78 to 0.80 "
   ]
  },
  {
   "cell_type": "markdown",
   "metadata": {},
   "source": [
    "### Combining results from Different Feature Selection methods\n",
    "A further test will be conducted to assess whether combining the features from the three feature selection methods may result in a better overall performance than the individual selection subsets."
   ]
  },
  {
   "cell_type": "code",
   "execution_count": 58,
   "metadata": {},
   "outputs": [
    {
     "data": {
      "application/javascript": [
       "\n",
       "            setTimeout(function() {\n",
       "                var nbb_cell_id = 58;\n",
       "                var nbb_unformatted_code = \"# Set the best features as the union of all subsets\\nbest_features = [\\n    \\\"time\\\",\\n    \\\"ejection_fraction\\\",\\n    \\\"high_blood_pressure\\\",\\n    \\\"platelets\\\",\\n]\";\n",
       "                var nbb_formatted_code = \"# Set the best features as the union of all subsets\\nbest_features = [\\n    \\\"time\\\",\\n    \\\"ejection_fraction\\\",\\n    \\\"high_blood_pressure\\\",\\n    \\\"platelets\\\",\\n]\";\n",
       "                var nbb_cells = Jupyter.notebook.get_cells();\n",
       "                for (var i = 0; i < nbb_cells.length; ++i) {\n",
       "                    if (nbb_cells[i].input_prompt_number == nbb_cell_id) {\n",
       "                        if (nbb_cells[i].get_text() == nbb_unformatted_code) {\n",
       "                             nbb_cells[i].set_text(nbb_formatted_code);\n",
       "                        }\n",
       "                        break;\n",
       "                    }\n",
       "                }\n",
       "            }, 500);\n",
       "            "
      ],
      "text/plain": [
       "<IPython.core.display.Javascript object>"
      ]
     },
     "metadata": {},
     "output_type": "display_data"
    }
   ],
   "source": [
    "# Set the best features as the union of all subsets\n",
    "best_features = [\n",
    "    \"time\",\n",
    "    \"ejection_fraction\",\n",
    "    \"high_blood_pressure\",\n",
    "    \"platelets\",\n",
    "]"
   ]
  },
  {
   "cell_type": "code",
   "execution_count": 59,
   "metadata": {},
   "outputs": [
    {
     "name": "stdout",
     "output_type": "stream",
     "text": [
      "(199, 4) (100, 4)\n",
      "Accuracy:  0.85\n",
      "Balanced Accuracy:  0.84\n",
      "Confusion matrix:\n",
      "[[63  5]\n",
      " [10 22]]\n",
      "Report:\n",
      "              precision    recall  f1-score   support\n",
      "\n",
      "           0       0.86      0.93      0.89        68\n",
      "           1       0.81      0.69      0.75        32\n",
      "\n",
      "    accuracy                           0.85       100\n",
      "   macro avg       0.84      0.81      0.82       100\n",
      "weighted avg       0.85      0.85      0.85       100\n",
      "\n"
     ]
    },
    {
     "data": {
      "application/javascript": [
       "\n",
       "            setTimeout(function() {\n",
       "                var nbb_cell_id = 59;\n",
       "                var nbb_unformatted_code = \"# Select only the best features from train and test\\nX_train_ig = training[best_features]\\nX_test_ig = testing[best_features]\\n    \\n\\ny_pred = g_boost.fit(X_train_ig , y_train).predict(X_test_ig)\\nprint(X_train_ig .shape, X_test_ig.shape)\\naccuracy = accuracy_score(y_pred, y_test)\\nprint(\\\"Accuracy:  %0.2f\\\" % accuracy)\\n\\nbal_acc = balanced_accuracy_score(y_pred,y_test)\\nprint(\\\"Balanced Accuracy:  %0.2f\\\" % bal_acc)\\n\\nconfusion = confusion_matrix(y_test, y_pred)\\nprint(f\\\"Confusion matrix:\\\\n{confusion}\\\")\\n\\nreport = classification_report(y_test, y_pred, target_names = ['0','1'])\\nprint(\\\"Report:\\\\n{}\\\".format(report)) \";\n",
       "                var nbb_formatted_code = \"# Select only the best features from train and test\\nX_train_ig = training[best_features]\\nX_test_ig = testing[best_features]\\n\\n\\ny_pred = g_boost.fit(X_train_ig, y_train).predict(X_test_ig)\\nprint(X_train_ig.shape, X_test_ig.shape)\\naccuracy = accuracy_score(y_pred, y_test)\\nprint(\\\"Accuracy:  %0.2f\\\" % accuracy)\\n\\nbal_acc = balanced_accuracy_score(y_pred, y_test)\\nprint(\\\"Balanced Accuracy:  %0.2f\\\" % bal_acc)\\n\\nconfusion = confusion_matrix(y_test, y_pred)\\nprint(f\\\"Confusion matrix:\\\\n{confusion}\\\")\\n\\nreport = classification_report(y_test, y_pred, target_names=[\\\"0\\\", \\\"1\\\"])\\nprint(\\\"Report:\\\\n{}\\\".format(report))\";\n",
       "                var nbb_cells = Jupyter.notebook.get_cells();\n",
       "                for (var i = 0; i < nbb_cells.length; ++i) {\n",
       "                    if (nbb_cells[i].input_prompt_number == nbb_cell_id) {\n",
       "                        if (nbb_cells[i].get_text() == nbb_unformatted_code) {\n",
       "                             nbb_cells[i].set_text(nbb_formatted_code);\n",
       "                        }\n",
       "                        break;\n",
       "                    }\n",
       "                }\n",
       "            }, 500);\n",
       "            "
      ],
      "text/plain": [
       "<IPython.core.display.Javascript object>"
      ]
     },
     "metadata": {},
     "output_type": "display_data"
    }
   ],
   "source": [
    "# Select only the best features from train and test\n",
    "X_train_ig = training[best_features]\n",
    "X_test_ig = testing[best_features]\n",
    "    \n",
    "\n",
    "y_pred = g_boost.fit(X_train_ig , y_train).predict(X_test_ig)\n",
    "print(X_train_ig .shape, X_test_ig.shape)\n",
    "accuracy = accuracy_score(y_pred, y_test)\n",
    "print(\"Accuracy:  %0.2f\" % accuracy)\n",
    "\n",
    "bal_acc = balanced_accuracy_score(y_pred,y_test)\n",
    "print(\"Balanced Accuracy:  %0.2f\" % bal_acc)\n",
    "\n",
    "confusion = confusion_matrix(y_test, y_pred)\n",
    "print(f\"Confusion matrix:\\n{confusion}\")\n",
    "\n",
    "report = classification_report(y_test, y_pred, target_names = ['0','1'])\n",
    "print(\"Report:\\n{}\".format(report)) \n"
   ]
  },
  {
   "cell_type": "markdown",
   "metadata": {},
   "source": [
    "When combining the best features from both methods of feature selection the results were worse than the information gain results and similar to using all 12 feratures.\n",
    "\n",
    "The accuracy remained the same as using all 12 features\n",
    "\n",
    "- When comparing the results to the Hold-Out test  the accuracy increases from 0.82 to 0.86\n",
    "\n",
    "- Balanced Accuracy increases from 0.76 to 0.84"
   ]
  },
  {
   "cell_type": "markdown",
   "metadata": {},
   "source": [
    "### Testing Individual Features"
   ]
  },
  {
   "cell_type": "code",
   "execution_count": 60,
   "metadata": {},
   "outputs": [
    {
     "name": "stdout",
     "output_type": "stream",
     "text": [
      "Feature: time, Accuracy: 0.84\n",
      "Feature: ejection_fraction, Accuracy: 0.62\n",
      "Feature: serum_creatinine, Accuracy: 0.7\n",
      "Feature: age, Accuracy: 0.72\n",
      "Feature: high_blood_pressure, Accuracy: 0.66\n",
      "Feature: serum_sodium, Accuracy: 0.6\n",
      "Feature: smoking, Accuracy: 0.66\n",
      "Feature: sex, Accuracy: 0.66\n",
      "Feature: platelets, Accuracy: 0.56\n",
      "Feature: diabetes, Accuracy: 0.66\n",
      "Feature: creatinine_phosphokinase, Accuracy: 0.66\n",
      "Feature: anaemia, Accuracy: 0.66\n"
     ]
    },
    {
     "data": {
      "application/javascript": [
       "\n",
       "            setTimeout(function() {\n",
       "                var nbb_cell_id = 60;\n",
       "                var nbb_unformatted_code = \"# Obtain the accuracies achived when adding each feature\\ntrain = []\\ntest = []\\naccuracies = []\\n\\n\\nfor i, feature in enumerate(i_gain):\\n    X_tr_ind = training[[feature]]\\n    \\n    X_train_ind, X_test_ind, y_train_ind, y_test_ind = train_test_split(\\n        X_tr_ind, y_train, random_state=42\\n    )\\n\\n    y_pred = g_boost.fit(X_train_ind, y_train_ind).predict(X_test_ind)\\n    ig_acc = accuracy_score(y_pred, y_test_ind)\\n    accuracies.append(ig_acc)\\n    \\n    print(f\\\"Feature: {feature}, Accuracy: {ig_acc}\\\")\\n\\n  \";\n",
       "                var nbb_formatted_code = \"# Obtain the accuracies achived when adding each feature\\ntrain = []\\ntest = []\\naccuracies = []\\n\\n\\nfor i, feature in enumerate(i_gain):\\n    X_tr_ind = training[[feature]]\\n\\n    X_train_ind, X_test_ind, y_train_ind, y_test_ind = train_test_split(\\n        X_tr_ind, y_train, random_state=42\\n    )\\n\\n    y_pred = g_boost.fit(X_train_ind, y_train_ind).predict(X_test_ind)\\n    ig_acc = accuracy_score(y_pred, y_test_ind)\\n    accuracies.append(ig_acc)\\n\\n    print(f\\\"Feature: {feature}, Accuracy: {ig_acc}\\\")\";\n",
       "                var nbb_cells = Jupyter.notebook.get_cells();\n",
       "                for (var i = 0; i < nbb_cells.length; ++i) {\n",
       "                    if (nbb_cells[i].input_prompt_number == nbb_cell_id) {\n",
       "                        if (nbb_cells[i].get_text() == nbb_unformatted_code) {\n",
       "                             nbb_cells[i].set_text(nbb_formatted_code);\n",
       "                        }\n",
       "                        break;\n",
       "                    }\n",
       "                }\n",
       "            }, 500);\n",
       "            "
      ],
      "text/plain": [
       "<IPython.core.display.Javascript object>"
      ]
     },
     "metadata": {},
     "output_type": "display_data"
    }
   ],
   "source": [
    "# Obtain the accuracies achived when adding each feature\n",
    "train = []\n",
    "test = []\n",
    "accuracies = []\n",
    "\n",
    "\n",
    "for i, feature in enumerate(i_gain):\n",
    "    X_tr_ind = training[[feature]]\n",
    "    \n",
    "    X_train_ind, X_test_ind, y_train_ind, y_test_ind = train_test_split(\n",
    "        X_tr_ind, y_train, random_state=42\n",
    "    )\n",
    "\n",
    "    y_pred = g_boost.fit(X_train_ind, y_train_ind).predict(X_test_ind)\n",
    "    ig_acc = accuracy_score(y_pred, y_test_ind)\n",
    "    accuracies.append(ig_acc)\n",
    "    \n",
    "    print(f\"Feature: {feature}, Accuracy: {ig_acc}\")\n",
    "\n",
    "  \n",
    "\n"
   ]
  },
  {
   "cell_type": "code",
   "execution_count": 61,
   "metadata": {},
   "outputs": [
    {
     "data": {
      "text/html": [
       "<div>\n",
       "<style scoped>\n",
       "    .dataframe tbody tr th:only-of-type {\n",
       "        vertical-align: middle;\n",
       "    }\n",
       "\n",
       "    .dataframe tbody tr th {\n",
       "        vertical-align: top;\n",
       "    }\n",
       "\n",
       "    .dataframe thead th {\n",
       "        text-align: right;\n",
       "    }\n",
       "</style>\n",
       "<table border=\"1\" class=\"dataframe\">\n",
       "  <thead>\n",
       "    <tr style=\"text-align: right;\">\n",
       "      <th></th>\n",
       "      <th>I-Gain</th>\n",
       "      <th>Accuracy</th>\n",
       "    </tr>\n",
       "  </thead>\n",
       "  <tbody>\n",
       "    <tr>\n",
       "      <th>time</th>\n",
       "      <td>0.219685</td>\n",
       "      <td>0.84</td>\n",
       "    </tr>\n",
       "    <tr>\n",
       "      <th>ejection_fraction</th>\n",
       "      <td>0.124370</td>\n",
       "      <td>0.62</td>\n",
       "    </tr>\n",
       "    <tr>\n",
       "      <th>serum_creatinine</th>\n",
       "      <td>0.094409</td>\n",
       "      <td>0.70</td>\n",
       "    </tr>\n",
       "    <tr>\n",
       "      <th>age</th>\n",
       "      <td>0.073793</td>\n",
       "      <td>0.72</td>\n",
       "    </tr>\n",
       "    <tr>\n",
       "      <th>high_blood_pressure</th>\n",
       "      <td>0.015798</td>\n",
       "      <td>0.66</td>\n",
       "    </tr>\n",
       "    <tr>\n",
       "      <th>serum_sodium</th>\n",
       "      <td>0.006881</td>\n",
       "      <td>0.60</td>\n",
       "    </tr>\n",
       "    <tr>\n",
       "      <th>anaemia</th>\n",
       "      <td>0.000000</td>\n",
       "      <td>0.66</td>\n",
       "    </tr>\n",
       "    <tr>\n",
       "      <th>creatinine_phosphokinase</th>\n",
       "      <td>0.000000</td>\n",
       "      <td>0.66</td>\n",
       "    </tr>\n",
       "    <tr>\n",
       "      <th>diabetes</th>\n",
       "      <td>0.000000</td>\n",
       "      <td>0.56</td>\n",
       "    </tr>\n",
       "    <tr>\n",
       "      <th>platelets</th>\n",
       "      <td>0.000000</td>\n",
       "      <td>0.66</td>\n",
       "    </tr>\n",
       "    <tr>\n",
       "      <th>sex</th>\n",
       "      <td>0.000000</td>\n",
       "      <td>0.66</td>\n",
       "    </tr>\n",
       "    <tr>\n",
       "      <th>smoking</th>\n",
       "      <td>0.000000</td>\n",
       "      <td>0.66</td>\n",
       "    </tr>\n",
       "  </tbody>\n",
       "</table>\n",
       "</div>"
      ],
      "text/plain": [
       "                            I-Gain  Accuracy\n",
       "time                      0.219685      0.84\n",
       "ejection_fraction         0.124370      0.62\n",
       "serum_creatinine          0.094409      0.70\n",
       "age                       0.073793      0.72\n",
       "high_blood_pressure       0.015798      0.66\n",
       "serum_sodium              0.006881      0.60\n",
       "anaemia                   0.000000      0.66\n",
       "creatinine_phosphokinase  0.000000      0.66\n",
       "diabetes                  0.000000      0.56\n",
       "platelets                 0.000000      0.66\n",
       "sex                       0.000000      0.66\n",
       "smoking                   0.000000      0.66"
      ]
     },
     "execution_count": 61,
     "metadata": {},
     "output_type": "execute_result"
    },
    {
     "data": {
      "application/javascript": [
       "\n",
       "            setTimeout(function() {\n",
       "                var nbb_cell_id = 61;\n",
       "                var nbb_unformatted_code = \"df[\\\"Accuracy\\\"] = accuracies\\ndf\";\n",
       "                var nbb_formatted_code = \"df[\\\"Accuracy\\\"] = accuracies\\ndf\";\n",
       "                var nbb_cells = Jupyter.notebook.get_cells();\n",
       "                for (var i = 0; i < nbb_cells.length; ++i) {\n",
       "                    if (nbb_cells[i].input_prompt_number == nbb_cell_id) {\n",
       "                        if (nbb_cells[i].get_text() == nbb_unformatted_code) {\n",
       "                             nbb_cells[i].set_text(nbb_formatted_code);\n",
       "                        }\n",
       "                        break;\n",
       "                    }\n",
       "                }\n",
       "            }, 500);\n",
       "            "
      ],
      "text/plain": [
       "<IPython.core.display.Javascript object>"
      ]
     },
     "metadata": {},
     "output_type": "display_data"
    }
   ],
   "source": [
    "df[\"Accuracy\"] = accuracies\n",
    "df"
   ]
  },
  {
   "cell_type": "code",
   "execution_count": 62,
   "metadata": {},
   "outputs": [
    {
     "data": {
      "image/png": "[encoded data removed]",
      "text/plain": [
       "<Figure size 432x288 with 1 Axes>"
      ]
     },
     "metadata": {
      "needs_background": "light"
     },
     "output_type": "display_data"
    },
    {
     "data": {
      "application/javascript": [
       "\n",
       "            setTimeout(function() {\n",
       "                var nbb_cell_id = 62;\n",
       "                var nbb_unformatted_code = \"i_gain_scores = df[\\\"I-Gain\\\"].values\\naccuracy_scores = df[\\\"Accuracy\\\"].values\\n\\nfig = plt.figure()\\nax = fig.add_axes([0, 0, 1, 1])\\nax.scatter(\\n    i_gain_scores,\\n    accuracy_scores,\\n)\\nax.set_xlabel(\\\"Information Gain\\\")\\nax.set_ylabel(\\\"Accuracy\\\")\\nax.set_title(\\\"Information Gain vs Accuarcy\\\")\\nplt.show()\";\n",
       "                var nbb_formatted_code = \"i_gain_scores = df[\\\"I-Gain\\\"].values\\naccuracy_scores = df[\\\"Accuracy\\\"].values\\n\\nfig = plt.figure()\\nax = fig.add_axes([0, 0, 1, 1])\\nax.scatter(\\n    i_gain_scores,\\n    accuracy_scores,\\n)\\nax.set_xlabel(\\\"Information Gain\\\")\\nax.set_ylabel(\\\"Accuracy\\\")\\nax.set_title(\\\"Information Gain vs Accuarcy\\\")\\nplt.show()\";\n",
       "                var nbb_cells = Jupyter.notebook.get_cells();\n",
       "                for (var i = 0; i < nbb_cells.length; ++i) {\n",
       "                    if (nbb_cells[i].input_prompt_number == nbb_cell_id) {\n",
       "                        if (nbb_cells[i].get_text() == nbb_unformatted_code) {\n",
       "                             nbb_cells[i].set_text(nbb_formatted_code);\n",
       "                        }\n",
       "                        break;\n",
       "                    }\n",
       "                }\n",
       "            }, 500);\n",
       "            "
      ],
      "text/plain": [
       "<IPython.core.display.Javascript object>"
      ]
     },
     "metadata": {},
     "output_type": "display_data"
    }
   ],
   "source": [
    "i_gain_scores = df[\"I-Gain\"].values\n",
    "accuracy_scores = df[\"Accuracy\"].values\n",
    "\n",
    "fig = plt.figure()\n",
    "ax = fig.add_axes([0, 0, 1, 1])\n",
    "ax.scatter(\n",
    "    i_gain_scores,\n",
    "    accuracy_scores,\n",
    ")\n",
    "ax.set_xlabel(\"Information Gain\")\n",
    "ax.set_ylabel(\"Accuracy\")\n",
    "ax.set_title(\"Information Gain vs Accuarcy\")\n",
    "plt.show()"
   ]
  },
  {
   "cell_type": "code",
   "execution_count": 63,
   "metadata": {},
   "outputs": [
    {
     "name": "stdout",
     "output_type": "stream",
     "text": [
      "Correlation between Information Gain & Accuracy: 0.727\n"
     ]
    },
    {
     "data": {
      "application/javascript": [
       "\n",
       "            setTimeout(function() {\n",
       "                var nbb_cell_id = 63;\n",
       "                var nbb_unformatted_code = \"from scipy.stats import pearsonr\\n\\ncorr, _ = pearsonr(i_gain_scores, accuracy_scores)\\nprint(\\\"Correlation between Information Gain & Accuracy: %.3f\\\" % corr)\";\n",
       "                var nbb_formatted_code = \"from scipy.stats import pearsonr\\n\\ncorr, _ = pearsonr(i_gain_scores, accuracy_scores)\\nprint(\\\"Correlation between Information Gain & Accuracy: %.3f\\\" % corr)\";\n",
       "                var nbb_cells = Jupyter.notebook.get_cells();\n",
       "                for (var i = 0; i < nbb_cells.length; ++i) {\n",
       "                    if (nbb_cells[i].input_prompt_number == nbb_cell_id) {\n",
       "                        if (nbb_cells[i].get_text() == nbb_unformatted_code) {\n",
       "                             nbb_cells[i].set_text(nbb_formatted_code);\n",
       "                        }\n",
       "                        break;\n",
       "                    }\n",
       "                }\n",
       "            }, 500);\n",
       "            "
      ],
      "text/plain": [
       "<IPython.core.display.Javascript object>"
      ]
     },
     "metadata": {},
     "output_type": "display_data"
    }
   ],
   "source": [
    "from scipy.stats import pearsonr\n",
    "\n",
    "corr, _ = pearsonr(i_gain_scores, accuracy_scores)\n",
    "print(\"Correlation between Information Gain & Accuracy: %.3f\" % corr)"
   ]
  },
  {
   "cell_type": "markdown",
   "metadata": {},
   "source": [
    "### Analysis Information Gain and Accuracy\n",
    "The high correlation between information gain and accuracy suggests that information gain is a useful measure for predicting the accuracies achievable for specific features.\n",
    "\n",
    "when looking at the accuracy and information gain table above there are a few anomalies where the high information gain does not match up with the accuracies. This is more evident in the below table sorted by accuracy, where **ejection_fraction** has quite a high information gain value but results in a poor accuracy. The opposite is the case for **diabetes,creatinine_phosphokinase,platelets** and **sex** which all have information gain of 0 but an accuracy of 66% which is better than **ejection_fraction** at 62%.\n",
    "\n",
    "When looking at both tables the **time** feature is consistently the single feature that provides the highest information gain and accuracy, it was also chosen by both forward and backwards subset selection as the most useful feature. The other features struggle to provide the same level of information gain and Accuracy as **time** does."
   ]
  },
  {
   "cell_type": "code",
   "execution_count": 64,
   "metadata": {},
   "outputs": [
    {
     "data": {
      "text/html": [
       "<div>\n",
       "<style scoped>\n",
       "    .dataframe tbody tr th:only-of-type {\n",
       "        vertical-align: middle;\n",
       "    }\n",
       "\n",
       "    .dataframe tbody tr th {\n",
       "        vertical-align: top;\n",
       "    }\n",
       "\n",
       "    .dataframe thead th {\n",
       "        text-align: right;\n",
       "    }\n",
       "</style>\n",
       "<table border=\"1\" class=\"dataframe\">\n",
       "  <thead>\n",
       "    <tr style=\"text-align: right;\">\n",
       "      <th></th>\n",
       "      <th>I-Gain</th>\n",
       "      <th>Accuracy</th>\n",
       "    </tr>\n",
       "  </thead>\n",
       "  <tbody>\n",
       "    <tr>\n",
       "      <th>time</th>\n",
       "      <td>0.219685</td>\n",
       "      <td>0.84</td>\n",
       "    </tr>\n",
       "    <tr>\n",
       "      <th>age</th>\n",
       "      <td>0.073793</td>\n",
       "      <td>0.72</td>\n",
       "    </tr>\n",
       "    <tr>\n",
       "      <th>serum_creatinine</th>\n",
       "      <td>0.094409</td>\n",
       "      <td>0.70</td>\n",
       "    </tr>\n",
       "    <tr>\n",
       "      <th>high_blood_pressure</th>\n",
       "      <td>0.015798</td>\n",
       "      <td>0.66</td>\n",
       "    </tr>\n",
       "    <tr>\n",
       "      <th>anaemia</th>\n",
       "      <td>0.000000</td>\n",
       "      <td>0.66</td>\n",
       "    </tr>\n",
       "    <tr>\n",
       "      <th>creatinine_phosphokinase</th>\n",
       "      <td>0.000000</td>\n",
       "      <td>0.66</td>\n",
       "    </tr>\n",
       "    <tr>\n",
       "      <th>platelets</th>\n",
       "      <td>0.000000</td>\n",
       "      <td>0.66</td>\n",
       "    </tr>\n",
       "    <tr>\n",
       "      <th>sex</th>\n",
       "      <td>0.000000</td>\n",
       "      <td>0.66</td>\n",
       "    </tr>\n",
       "    <tr>\n",
       "      <th>smoking</th>\n",
       "      <td>0.000000</td>\n",
       "      <td>0.66</td>\n",
       "    </tr>\n",
       "    <tr>\n",
       "      <th>ejection_fraction</th>\n",
       "      <td>0.124370</td>\n",
       "      <td>0.62</td>\n",
       "    </tr>\n",
       "    <tr>\n",
       "      <th>serum_sodium</th>\n",
       "      <td>0.006881</td>\n",
       "      <td>0.60</td>\n",
       "    </tr>\n",
       "    <tr>\n",
       "      <th>diabetes</th>\n",
       "      <td>0.000000</td>\n",
       "      <td>0.56</td>\n",
       "    </tr>\n",
       "  </tbody>\n",
       "</table>\n",
       "</div>"
      ],
      "text/plain": [
       "                            I-Gain  Accuracy\n",
       "time                      0.219685      0.84\n",
       "age                       0.073793      0.72\n",
       "serum_creatinine          0.094409      0.70\n",
       "high_blood_pressure       0.015798      0.66\n",
       "anaemia                   0.000000      0.66\n",
       "creatinine_phosphokinase  0.000000      0.66\n",
       "platelets                 0.000000      0.66\n",
       "sex                       0.000000      0.66\n",
       "smoking                   0.000000      0.66\n",
       "ejection_fraction         0.124370      0.62\n",
       "serum_sodium              0.006881      0.60\n",
       "diabetes                  0.000000      0.56"
      ]
     },
     "execution_count": 64,
     "metadata": {},
     "output_type": "execute_result"
    },
    {
     "data": {
      "application/javascript": [
       "\n",
       "            setTimeout(function() {\n",
       "                var nbb_cell_id = 64;\n",
       "                var nbb_unformatted_code = \"df = df.sort_values(by=\\\"Accuracy\\\", ascending=False)\\ndf\";\n",
       "                var nbb_formatted_code = \"df = df.sort_values(by=\\\"Accuracy\\\", ascending=False)\\ndf\";\n",
       "                var nbb_cells = Jupyter.notebook.get_cells();\n",
       "                for (var i = 0; i < nbb_cells.length; ++i) {\n",
       "                    if (nbb_cells[i].input_prompt_number == nbb_cell_id) {\n",
       "                        if (nbb_cells[i].get_text() == nbb_unformatted_code) {\n",
       "                             nbb_cells[i].set_text(nbb_formatted_code);\n",
       "                        }\n",
       "                        break;\n",
       "                    }\n",
       "                }\n",
       "            }, 500);\n",
       "            "
      ],
      "text/plain": [
       "<IPython.core.display.Javascript object>"
      ]
     },
     "metadata": {},
     "output_type": "display_data"
    }
   ],
   "source": [
    "df = df.sort_values(by=\"Accuracy\", ascending=False)\n",
    "df"
   ]
  },
  {
   "cell_type": "code",
   "execution_count": 65,
   "metadata": {},
   "outputs": [
    {
     "data": {
      "application/javascript": [
       "\n",
       "            setTimeout(function() {\n",
       "                var nbb_cell_id = 65;\n",
       "                var nbb_unformatted_code = \"accuracy_features = [key for key, value in df.Accuracy.items()]\";\n",
       "                var nbb_formatted_code = \"accuracy_features = [key for key, value in df.Accuracy.items()]\";\n",
       "                var nbb_cells = Jupyter.notebook.get_cells();\n",
       "                for (var i = 0; i < nbb_cells.length; ++i) {\n",
       "                    if (nbb_cells[i].input_prompt_number == nbb_cell_id) {\n",
       "                        if (nbb_cells[i].get_text() == nbb_unformatted_code) {\n",
       "                             nbb_cells[i].set_text(nbb_formatted_code);\n",
       "                        }\n",
       "                        break;\n",
       "                    }\n",
       "                }\n",
       "            }, 500);\n",
       "            "
      ],
      "text/plain": [
       "<IPython.core.display.Javascript object>"
      ]
     },
     "metadata": {},
     "output_type": "display_data"
    }
   ],
   "source": [
    "accuracy_features = [key for key, value in df.Accuracy.items()]"
   ]
  },
  {
   "cell_type": "code",
   "execution_count": 66,
   "metadata": {},
   "outputs": [
    {
     "name": "stdout",
     "output_type": "stream",
     "text": [
      "Features: 1, Accuracy: 0.84\n",
      "Features: 2, Accuracy: 0.8\n",
      "Features: 3, Accuracy: 0.84\n",
      "Features: 4, Accuracy: 0.8\n",
      "Features: 5, Accuracy: 0.82\n",
      "Features: 6, Accuracy: 0.84\n",
      "Features: 7, Accuracy: 0.82\n",
      "Features: 8, Accuracy: 0.84\n",
      "Features: 9, Accuracy: 0.84\n",
      "Features: 10, Accuracy: 0.78\n",
      "Features: 11, Accuracy: 0.76\n",
      "Features: 12, Accuracy: 0.76\n",
      "['time']\n"
     ]
    },
    {
     "data": {
      "application/javascript": [
       "\n",
       "            setTimeout(function() {\n",
       "                var nbb_cell_id = 66;\n",
       "                var nbb_unformatted_code = \"# Obtain the accuracies achived when adding each feature\\ntrain = []\\ntest = []\\naccuracies = []\\n\\nbest = 0\\nbest_idx = 0\\n\\nfor i, feature in enumerate(accuracy_features):\\n    train.append(feature)\\n\\n    X_tr_mul = training[train]\\n\\n    X_train_mul, X_test_mul, y_train_mul, y_test_mul = train_test_split(\\n        X_tr_mul, y_train, random_state=42\\n    )\\n\\n    y_pred = g_boost.fit(X_train_mul, y_train_mul).predict(X_test_mul)\\n    ig_acc = accuracy_score(y_pred, y_test_mul)\\n    accuracies.append(ig_acc)\\n\\n    print(f\\\"Features: {i+1}, Accuracy: {ig_acc}\\\")\\n\\n    if ig_acc > best:\\n        best = ig_acc\\n        best_idx = i + 1\\n\\n\\nbest_features = train[:best_idx]\\nprint(best_features)\";\n",
       "                var nbb_formatted_code = \"# Obtain the accuracies achived when adding each feature\\ntrain = []\\ntest = []\\naccuracies = []\\n\\nbest = 0\\nbest_idx = 0\\n\\nfor i, feature in enumerate(accuracy_features):\\n    train.append(feature)\\n\\n    X_tr_mul = training[train]\\n\\n    X_train_mul, X_test_mul, y_train_mul, y_test_mul = train_test_split(\\n        X_tr_mul, y_train, random_state=42\\n    )\\n\\n    y_pred = g_boost.fit(X_train_mul, y_train_mul).predict(X_test_mul)\\n    ig_acc = accuracy_score(y_pred, y_test_mul)\\n    accuracies.append(ig_acc)\\n\\n    print(f\\\"Features: {i+1}, Accuracy: {ig_acc}\\\")\\n\\n    if ig_acc > best:\\n        best = ig_acc\\n        best_idx = i + 1\\n\\n\\nbest_features = train[:best_idx]\\nprint(best_features)\";\n",
       "                var nbb_cells = Jupyter.notebook.get_cells();\n",
       "                for (var i = 0; i < nbb_cells.length; ++i) {\n",
       "                    if (nbb_cells[i].input_prompt_number == nbb_cell_id) {\n",
       "                        if (nbb_cells[i].get_text() == nbb_unformatted_code) {\n",
       "                             nbb_cells[i].set_text(nbb_formatted_code);\n",
       "                        }\n",
       "                        break;\n",
       "                    }\n",
       "                }\n",
       "            }, 500);\n",
       "            "
      ],
      "text/plain": [
       "<IPython.core.display.Javascript object>"
      ]
     },
     "metadata": {},
     "output_type": "display_data"
    }
   ],
   "source": [
    "# Obtain the accuracies achived when adding each feature\n",
    "train = []\n",
    "test = []\n",
    "accuracies = []\n",
    "\n",
    "best = 0\n",
    "best_idx = 0\n",
    "\n",
    "for i, feature in enumerate(accuracy_features):\n",
    "    train.append(feature)\n",
    "\n",
    "    X_tr_mul = training[train]\n",
    "\n",
    "    X_train_mul, X_test_mul, y_train_mul, y_test_mul = train_test_split(\n",
    "        X_tr_mul, y_train, random_state=42\n",
    "    )\n",
    "\n",
    "    y_pred = g_boost.fit(X_train_mul, y_train_mul).predict(X_test_mul)\n",
    "    ig_acc = accuracy_score(y_pred, y_test_mul)\n",
    "    accuracies.append(ig_acc)\n",
    "\n",
    "    print(f\"Features: {i+1}, Accuracy: {ig_acc}\")\n",
    "\n",
    "    if ig_acc > best:\n",
    "        best = ig_acc\n",
    "        best_idx = i + 1\n",
    "\n",
    "\n",
    "best_features = train[:best_idx]\n",
    "print(best_features)"
   ]
  },
  {
   "cell_type": "markdown",
   "metadata": {},
   "source": [
    "The feature subset that performs the best is the same as the mutual info classifier selecting both 'time' and 'ejection_fraction'.\n"
   ]
  },
  {
   "cell_type": "markdown",
   "metadata": {},
   "source": [
    "## Analysis of Feature Subset Selection\n",
    "- When comparing the performances of all the best subset selections for each of the methods Information gain  and Forward selection come out on top.\n",
    "\n",
    "- Backwards feature selection led to a fall in accuracy.\n",
    "\n",
    "\n",
    "- By simply testing individual features in terms of accuracy then adding new features based on accuracy, it provided an improvement over the gradient boosting prediction using all 12 features.\n",
    "\n",
    "\n",
    "- The classifier bias for certain features did not hinder the outcome for the information gain method as even though some features had high information gain and poorer individual accuracies, when combined into a subset of features it resulted in a small improvement in terms of performance.\n",
    "\n",
    "\n",
    "- All three of the feature slection methods provided subsets of features that achieved marginally better results than the Hold-Out method did on all 12 features.\n",
    "\n",
    "\n",
    "- The Cross-validation results were typically better for the subset of features than for all 12 features.\n",
    "\n",
    "\n",
    "- The Hold Out results barring backwards selection were better for the subset than for all 12 features.\n",
    "\n",
    "\n",
    "What is most interesting is that all three methods chose two features as the optimal size but differed in the selection of the second most important feature. The size showed a consistency in feature selection and the selection  of **time** also.\n",
    "\n",
    "When comparing the information gain with accuracy it is worth noting that the two are not perfectly correlated with a few features having high information gain and low accuracy and vice versa.\n",
    "\n",
    "One factor that was consistent throughout the selection process was the fall in performance after a certain point as the number of features increased. However, this fall can be attributed to the features themselves and not just the number of features as such the number of features at which a fall was evident differed between the three selection methods.\n",
    "\n",
    "By setting the random state for both the gradient boosting model and the mutual info classifier it ensures that there was a stability and repeatability to the results.\n",
    "\n",
    "\n",
    "When using the **time** feature on its own to train the model it provided perfomance that was just slighlty lower than uisng all 12  features. This provides an insight into the usefullness of the data collected as it consistently outperfomred the other features in terms of usefullnes,information gain and accuracy. When combining the other featuires they only atrribute to a very small increase in performance. This may suggest that there could be other features that could have been collected that provide more information for the prediction process.\n",
    "\n",
    "One issue arose over the stability of the results when using the Hold Out and Cross Validation methods as when the entire notebook was rerun different metrics were produced that varied marginally. This occurred even after setting the random state to a set integer value.\n",
    "\n",
    "\n",
    "The discrepancies in performance between the train and test data were evident from the results of the Hold Out/Cross Validation, Sequential search and filter based feature selection methods. For the most part the testing data resulted in higher accuracies than the train data barring the filter based selection methods. It is quite possible that there is an alternative subset of features that would perform much better on the test data but would generalise poorly to a different set of data.\n",
    "\n",
    "Some of the features may play a bigger role in deciding the outcome of the test data than in the training data."
   ]
  },
  {
   "cell_type": "markdown",
   "metadata": {},
   "source": [
    "Brownlee, J. (2019). Information Gain and Mutual Information for Machine Learning. [online]\n",
    "Machine Learning Mastery.\n",
    "Available at: https://machinelearningmastery.com/information-gain-and-mutual-information/"
   ]
  },
  {
   "cell_type": "code",
   "execution_count": null,
   "metadata": {},
   "outputs": [],
   "source": []
  },
  {
   "cell_type": "code",
   "execution_count": null,
   "metadata": {},
   "outputs": [],
   "source": []
  },
  {
   "cell_type": "code",
   "execution_count": null,
   "metadata": {},
   "outputs": [],
   "source": []
  }
 ],
 "metadata": {
  "kernelspec": {
   "display_name": "Python 3",
   "language": "python",
   "name": "python3"
  },
  "language_info": {
   "codemirror_mode": {
    "name": "ipython",
    "version": 3
   },
   "file_extension": ".py",
   "mimetype": "text/x-python",
   "name": "python",
   "nbconvert_exporter": "python",
   "pygments_lexer": "ipython3",
   "version": "3.7.9"
  }
 },
 "nbformat": 4,
 "nbformat_minor": 4
}
